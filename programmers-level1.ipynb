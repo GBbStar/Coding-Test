{
 "cells": [
  {
   "cell_type": "markdown",
   "metadata": {},
   "source": [
    "코딩테스트 \n",
    "프로그래머스 레벨 1"
   ]
  },
  {
   "cell_type": "markdown",
   "metadata": {},
   "source": [
    "문제 설명\n",
    "카카오에 입사한 신입 개발자 네오는 \"카카오계정개발팀\"에 배치되어, 카카오 서비스에 가입하는 유저들의 아이디를 생성하는 업무를 담당하게 되었습니다. \"네오\"에게 주어진 첫 업무는 새로 가입하는 유저들이 카카오 아이디 규칙에 맞지 않는 아이디를 입력했을 때, 입력된 아이디와 유사하면서 규칙에 맞는 아이디를 추천해주는 프로그램을 개발하는 것입니다.\n",
    "다음은 카카오 아이디의 규칙입니다.\n",
    "\n",
    "아이디의 길이는 3자 이상 15자 이하여야 합니다.\n",
    "아이디는 알파벳 소문자, 숫자, 빼기(-), 밑줄(_), 마침표(.) 문자만 사용할 수 있습니다.\n",
    "단, 마침표(.)는 처음과 끝에 사용할 수 없으며 또한 연속으로 사용할 수 없습니다.\n",
    "\"네오\"는 다음과 같이 7단계의 순차적인 처리 과정을 통해 신규 유저가 입력한 아이디가 카카오 아이디 규칙에 맞는 지 검사하고 규칙에 맞지 않은 경우 규칙에 맞는 새로운 아이디를 추천해 주려고 합니다.\n",
    "신규 유저가 입력한 아이디가 new_id 라고 한다면,\n",
    "\n",
    "1단계 new_id의 모든 대문자를 대응되는 소문자로 치환합니다.\n",
    "2단계 new_id에서 알파벳 소문자, 숫자, 빼기(-), 밑줄(_), 마침표(.)를 제외한 모든 문자를 제거합니다.\n",
    "3단계 new_id에서 마침표(.)가 2번 이상 연속된 부분을 하나의 마침표(.)로 치환합니다.\n",
    "4단계 new_id에서 마침표(.)가 처음이나 끝에 위치한다면 제거합니다.\n",
    "5단계 new_id가 빈 문자열이라면, new_id에 \"a\"를 대입합니다.\n",
    "6단계 new_id의 길이가 16자 이상이면, new_id의 첫 15개의 문자를 제외한 나머지 문자들을 모두 제거합니다.\n",
    "     만약 제거 후 마침표(.)가 new_id의 끝에 위치한다면 끝에 위치한 마침표(.) 문자를 제거합니다.\n",
    "7단계 new_id의 길이가 2자 이하라면, new_id의 마지막 문자를 new_id의 길이가 3이 될 때까지 반복해서 끝에 붙입니다.\n",
    "예를 들어, new_id 값이 \"...!@BaT#*..y.abcdefghijklm\" 라면, 위 7단계를 거치고 나면 new_id는 아래와 같이 변경됩니다.\n",
    "\n",
    "1단계 대문자 'B'와 'T'가 소문자 'b'와 't'로 바뀌었습니다.\n",
    "\"...!@BaT#*..y.abcdefghijklm\" → \"...!@bat#*..y.abcdefghijklm\"\n",
    "\n",
    "2단계 '!', '@', '#', '*' 문자가 제거되었습니다.\n",
    "\"...!@bat#*..y.abcdefghijklm\" → \"...bat..y.abcdefghijklm\"\n",
    "\n",
    "3단계 '...'와 '..' 가 '.'로 바뀌었습니다.\n",
    "\"...bat..y.abcdefghijklm\" → \".bat.y.abcdefghijklm\"\n",
    "\n",
    "4단계 아이디의 처음에 위치한 '.'가 제거되었습니다.\n",
    "\".bat.y.abcdefghijklm\" → \"bat.y.abcdefghijklm\"\n",
    "\n",
    "5단계 아이디가 빈 문자열이 아니므로 변화가 없습니다.\n",
    "\"bat.y.abcdefghijklm\" → \"bat.y.abcdefghijklm\"\n",
    "\n",
    "6단계 아이디의 길이가 16자 이상이므로, 처음 15자를 제외한 나머지 문자들이 제거되었습니다.\n",
    "\"bat.y.abcdefghijklm\" → \"bat.y.abcdefghi\"\n",
    "\n",
    "7단계 아이디의 길이가 2자 이하가 아니므로 변화가 없습니다.\n",
    "\"bat.y.abcdefghi\" → \"bat.y.abcdefghi\"\n",
    "\n",
    "따라서 신규 유저가 입력한 new_id가 \"...!@BaT#*..y.abcdefghijklm\"일 때, 네오의 프로그램이 추천하는 새로운 아이디는 \"bat.y.abcdefghi\" 입니다.\n",
    "\n",
    "[문제]\n",
    "신규 유저가 입력한 아이디를 나타내는 new_id가 매개변수로 주어질 때, \"네오\"가 설계한 7단계의 처리 과정을 거친 후의 추천 아이디를 return 하도록 solution 함수를 완성해 주세요.\n",
    "\n",
    "[제한사항]\n",
    "new_id는 길이 1 이상 1,000 이하인 문자열입니다.\n",
    "new_id는 알파벳 대문자, 알파벳 소문자, 숫자, 특수문자로 구성되어 있습니다.\n",
    "new_id에 나타날 수 있는 특수문자는 -_.~!@#$%^&*()=+[{]}:?,<>/ 로 한정됩니다.\n",
    "\n",
    "[입출력 예]\n",
    "no\tnew_id\tresult\n",
    "예1\t\"...!@BaT#*..y.abcdefghijklm\"\t\"bat.y.abcdefghi\"\n",
    "예2\t\"z-+.^.\"\t\"z--\"\n",
    "예3\t\"=.=\"\t\"aaa\"\n",
    "예4\t\"123_.def\"\t\"123_.def\"\n",
    "예5\t\"abcdefghijklmn.p\"\t\"abcdefghijklmn\"\n",
    "입출력 예에 대한 설명\n",
    "입출력 예 #1\n",
    "문제의 예시와 같습니다.\n",
    "\n",
    "입출력 예 #2\n",
    "7단계를 거치는 동안 new_id가 변화하는 과정은 아래와 같습니다.\n",
    "\n",
    "1단계 변화 없습니다.\n",
    "2단계 \"z-+.^.\" → \"z-..\"\n",
    "3단계 \"z-..\" → \"z-.\"\n",
    "4단계 \"z-.\" → \"z-\"\n",
    "5단계 변화 없습니다.\n",
    "6단계 변화 없습니다.\n",
    "7단계 \"z-\" → \"z--\"\n",
    "\n",
    "입출력 예 #3\n",
    "7단계를 거치는 동안 new_id가 변화하는 과정은 아래와 같습니다.\n",
    "\n",
    "1단계 변화 없습니다.\n",
    "2단계 \"=.=\" → \".\"\n",
    "3단계 변화 없습니다.\n",
    "4단계 \".\" → \"\" (new_id가 빈 문자열이 되었습니다.)\n",
    "5단계 \"\" → \"a\"\n",
    "6단계 변화 없습니다.\n",
    "7단계 \"a\" → \"aaa\"\n",
    "\n",
    "입출력 예 #4\n",
    "1단계에서 7단계까지 거치는 동안 new_id(\"123_.def\")는 변하지 않습니다. 즉, new_id가 처음부터 카카오의 아이디 규칙에 맞습니다.\n",
    "\n",
    "입출력 예 #5\n",
    "1단계 변화 없습니다.\n",
    "2단계 변화 없습니다.\n",
    "3단계 변화 없습니다.\n",
    "4단계 변화 없습니다.\n",
    "5단계 변화 없습니다.\n",
    "6단계 \"abcdefghijklmn.p\" → \"abcdefghijklmn.\" → \"abcdefghijklmn\"\n",
    "7단계 변화 없습니다."
   ]
  },
  {
   "cell_type": "code",
   "execution_count": 17,
   "metadata": {},
   "outputs": [],
   "source": [
    "import re\n",
    "\n",
    "def solution(new_id):\n",
    "    answer = ''\n",
    "    # 1단계 & 2단계 : 소문자 치환\n",
    "    answer = re.sub('[^a-z\\d\\-\\_\\.]', '', new_id.lower())\n",
    "    # 3단계 : 마침표 2번 이상 > 하나로\n",
    "    answer = re.sub('\\.\\.+', '.', answer)\n",
    "    # 4단계 : 양 끝 마침표 제거\n",
    "    answer = re.sub('^\\.|\\.$', '', answer)\n",
    "    # 5단계 : 빈 문자열이면 a 대입\n",
    "    if answer == '':\n",
    "        answer = 'a'\n",
    "    # 6단계 : 길이가 16자 이상이면 1~15자만 남기기 & 맨 끝 마침표 제거\n",
    "    answer = re.sub('\\.$', '', answer[0:15])\n",
    "    # 7단계 : 길이가 3이 될 때까지 반복해서 끝에 붙이기\n",
    "    while len(answer) < 3:\n",
    "        answer += answer[-1:]\n",
    "    return answer"
   ]
  },
  {
   "cell_type": "markdown",
   "metadata": {},
   "source": [
    "1단계 new_id의 모든 대문자를 대응되는 소문자로 치환합니다.\n",
    "\n",
    "- new_id.lower() : 소문자로 바꿔준다.\n",
    "\n",
    " \n",
    "\n",
    "2단계 new_id에서 알파벳 소문자, 숫자, 빼기(-), 밑줄(_), 마침표(.)를 제외한 모든 문자를 제거합니다.\n",
    "\n",
    "- 소문자(a-z), 숫자(\\d), 빼기(\\-), 밑줄(\\-), 마침표(\\.)를 제외한(대괄호 [] 맨 앞에 ^를 붙여준다.) 모든 문자 제거\n",
    "\n",
    "- 이때 빼기, 밑줄, 마침표 앞에 오는 \\는 이스케이프이다. \n",
    "\n",
    "- 정규표현식이 일치하면 '' 빈 문자로 치환(sub)하여 문자를 제거한다.\n",
    "\n",
    " \n",
    "\n",
    "3단계 new_id에서 마침표(.)가 2번 이상 연속된 부분을 하나의 마침표(.)로 치환합니다.\n",
    "\n",
    "- 마침표가 2번 이상 (\\.\\.+)인 것을 마침표로 치환(sub)\n",
    "\n",
    " \n",
    "\n",
    "4단계 new_id에서 마침표(.)가 처음이나 끝에 위치한다면 제거합니다.\n",
    "\n",
    "- 마침표가 처음(^\\.)이나 끝(\\.$)\n",
    "\n",
    " \n",
    "\n",
    "5단계 new_id가 빈 문자열이라면, new_id에 \"a\"를 대입합니다.\n",
    "\n",
    "- 빈 문자열('')이면 'a' 대입\n",
    "\n",
    " \n",
    "\n",
    "6단계 new_id의 길이가 16자 이상이면, new_id의 첫 15개의 문자를 제외한 나머지 문자들을 모두 제거합니다. 만약 제거 후 마침표(.)가 new_id의 끝에 위치한다면 끝에 위치한 마침표(.) 문자를 제거합니다.\n",
    "\n",
    "- 첫 15개의 문자만 사용 = answer[0:15]\n",
    "\n",
    "- 맨 끝에 위치한 마침표('\\.$')\n",
    "\n",
    " \n",
    "\n",
    "7단계 new_id의 길이가 2자 이하라면, new_id의 마지막 문자를 new_id의 길이가 3이 될 때까지 반복해서 끝에 붙입니다.\n",
    "\n",
    "- 길이가 3이 될 때까지 (while len(answer) < 3) 마지막 문자 (answer[-1:])를 맨 끝에 붙여준다.\n",
    "\n",
    "- 문자열 + 문자열 를 하면 순서대로 문자열이 합쳐지기 때문에 answer += answer[-1:] 를 해주었다."
   ]
  },
  {
   "cell_type": "code",
   "execution_count": 8,
   "metadata": {},
   "outputs": [
    {
     "data": {
      "text/plain": [
       "4"
      ]
     },
     "execution_count": 8,
     "metadata": {},
     "output_type": "execute_result"
    }
   ],
   "source": [
    "def solution(board, moves):\n",
    "    stack = []\n",
    "    answer = 0\n",
    "    \n",
    "    for move in moves:\n",
    "        for row in range(len(board)):\n",
    "            if board[row][move-1] != 0:\n",
    "                stack.append(board[row][move-1])\n",
    "                board[row][move-1] = 0\n",
    "                \n",
    "                if len(stack)> 1 and stack[-1] == stack[-2]:\n",
    "                    stack.pop(-1)\n",
    "                    stack.pop(-1)\n",
    "                    answer += 2\n",
    "                \n",
    "                break\n",
    "    \n",
    "    return answer\n",
    "\n",
    "\n",
    "solution([[0,0,0,0,0],[0,0,1,0,3],[0,2,5,0,1],[4,2,4,4,2],[3,5,1,3,1]], [1,5,3,5,1,2,1,4])\n",
    "\n",
    "# 1 요소를 뽑았으면 0으로 바꿔줘야 함\n",
    "# 2 스택 사이즈가 2이상부터 비교해야 함\n",
    "# 3 break를 통해 적절하게 끊어줘야 함"
   ]
  },
  {
   "cell_type": "raw",
   "metadata": {},
   "source": [
    "def solution(array, commands):\n",
    "    answer = []\n",
    "    \n",
    "    for command in commands:\n",
    "        answer.append(sorted(array[command[0]-1:command[1]])[command[2]-1])\n",
    "        \n",
    "    return answer\n",
    "\n",
    "solution([1, 5, 2, 6, 3, 7, 4], [[2, 5, 3], [4, 4, 1], [1, 7, 3]])\n",
    "\n",
    "\n",
    "def solution(array, commands):\n",
    "    return list(map(lambda x:sorted(array[x[0]-1:x[1]])[x[2]-1], commands))"
   ]
  },
  {
   "cell_type": "code",
   "execution_count": 21,
   "metadata": {},
   "outputs": [],
   "source": [
    "\n",
    "def solution(answers):\n",
    "    pattern1 = [1,2,3,4,5]\n",
    "    pattern2 = [2,1,2,3,2,4,2,5]\n",
    "    pattern3 = [3,3,1,1,2,2,4,4,5,5]\n",
    "    score = [0, 0, 0]\n",
    "    result = []\n",
    "\n",
    "    for idx, answer in enumerate(answers):\n",
    "        if answer == pattern1[idx%len(pattern1)]:\n",
    "            score[0] += 1\n",
    "        if answer == pattern2[idx%len(pattern2)]:\n",
    "            score[1] += 1\n",
    "        if answer == pattern3[idx%len(pattern3)]:\n",
    "            score[2] += 1\n",
    "\n",
    "    for idx, s in enumerate(score):\n",
    "        if s == max(score):\n",
    "            result.append(idx+1)\n",
    "\n",
    "    return result"
   ]
  },
  {
   "cell_type": "code",
   "execution_count": 61,
   "metadata": {},
   "outputs": [
    {
     "name": "stdout",
     "output_type": "stream",
     "text": [
      "[0, 1, 1, 2]\n",
      "[0, 1, 1, 2]\n"
     ]
    },
    {
     "data": {
      "text/plain": [
       "3"
      ]
     },
     "execution_count": 61,
     "metadata": {},
     "output_type": "execute_result"
    }
   ],
   "source": [
    "def solution(n, lost, reserve):\n",
    "    answer = 0\n",
    "\n",
    "    list = [1 for _ in range(n)]\n",
    "    \n",
    "    for lose in lost:\n",
    "        list[lose-1] = 0\n",
    "        \n",
    "    for reser in reserve:\n",
    "        if list[reser-1] == 0:\n",
    "            list[reser-1] = 1\n",
    "        else:\n",
    "            list[reser-1] = 2\n",
    "    \n",
    "    \n",
    "\n",
    "    for i in range(n):\n",
    "        if list[i] == 0:\n",
    "            if i>0 and list[i-1] == 2:\n",
    "                list[i] = 1\n",
    "                list[i-1] = 1\n",
    "            \n",
    "            elif i<n and list[(i+1)%n] == 2:\n",
    "                list[i] = 1\n",
    "                list[i+1] = 1\n",
    "\n",
    "    \n",
    "    return list.count(1) + list.count(2)\n",
    "\n",
    "solution(4, [3, 1, 2], [2, 4, 3])\n",
    "\n",
    "\n",
    "\n",
    "\n",
    "def solution(n, lost, reserve):\n",
    "    _reserve = [r for r in reserve if r not in lost]\n",
    "    _lost = [l for l in lost if l not in reserve]\n",
    "    for r in _reserve:\n",
    "        f = r - 1\n",
    "        b = r + 1\n",
    "        if f in _lost:\n",
    "            _lost.remove(f)\n",
    "        elif b in _lost:\n",
    "            _lost.remove(b)\n",
    "    return n - len(_lost)"
   ]
  },
  {
   "cell_type": "code",
   "execution_count": 96,
   "metadata": {},
   "outputs": [],
   "source": [
    "import re\n",
    "\n",
    "def solution(phone_book):\n",
    "    answer = True\n",
    "    \n",
    "    standard = re.compile(phone_book[0])\n",
    "    \n",
    "     \n",
    "    \n",
    "    for i in range(len(phone_book)-1):\n",
    "        if len(phone_book[0]) > len(phone_book[i]):\n",
    "            answer = False\n",
    "            break\n",
    "        \n",
    "        elif standard.match(phone_book[i+1]):\n",
    "            answer = False\n",
    "            break\n",
    "            \n",
    "    \n",
    "    return answer\n",
    "\n"
   ]
  },
  {
   "cell_type": "code",
   "execution_count": 101,
   "metadata": {},
   "outputs": [],
   "source": [
    "def solution(phone_book):\n",
    "    answer = True\n",
    "    \n",
    "    for i in range(len(phone_book)-1):\n",
    "        if phone_book[i].startswith(phone_book[0]):\n",
    "            return False\n",
    "    \n",
    "    return answer\n"
   ]
  },
  {
   "cell_type": "code",
   "execution_count": 122,
   "metadata": {},
   "outputs": [],
   "source": [
    "def solution(phone_book):\n",
    "    answer = True\n",
    "    hash_map = {}\n",
    "    for phone_number in phone_book:\n",
    "        hash_map[phone_number] = 1\n",
    "    for phone_number in phone_book:\n",
    "        temp = \"\"\n",
    "        for number in phone_number:\n",
    "            temp += number\n",
    "            if temp in hash_map and temp != phone_number:\n",
    "                answer = False\n",
    "               \n",
    "    return answer"
   ]
  },
  {
   "cell_type": "code",
   "execution_count": 123,
   "metadata": {},
   "outputs": [
    {
     "name": "stdout",
     "output_type": "stream",
     "text": [
      "{'123': 1, '456': 1, '789': 1, '113': 1} 1\n",
      "{'123': 1, '456': 1, '789': 1, '113': 1} 12\n",
      "{'123': 1, '456': 1, '789': 1, '113': 1} 123\n",
      "{'123': 1, '456': 1, '789': 1, '113': 1} 4\n",
      "{'123': 1, '456': 1, '789': 1, '113': 1} 45\n",
      "{'123': 1, '456': 1, '789': 1, '113': 1} 456\n",
      "{'123': 1, '456': 1, '789': 1, '113': 1} 7\n",
      "{'123': 1, '456': 1, '789': 1, '113': 1} 78\n",
      "{'123': 1, '456': 1, '789': 1, '113': 1} 789\n",
      "{'123': 1, '456': 1, '789': 1, '113': 1} 1\n",
      "{'123': 1, '456': 1, '789': 1, '113': 1} 11\n",
      "{'123': 1, '456': 1, '789': 1, '113': 1} 113\n"
     ]
    },
    {
     "data": {
      "text/plain": [
       "True"
      ]
     },
     "execution_count": 123,
     "metadata": {},
     "output_type": "execute_result"
    }
   ],
   "source": [
    "solution([\"123\",\"456\",\"789\", \"113\"]\t)"
   ]
  },
  {
   "cell_type": "code",
   "execution_count": 181,
   "metadata": {},
   "outputs": [],
   "source": [
    "from itertools import product\n",
    "\n",
    "def solution(clothes):\n",
    "\n",
    "    answer = 0\n",
    "    \n",
    "    hash = {}\n",
    "    \n",
    "    for cloth in clothes:\n",
    "        if cloth[1] in hash:\n",
    "            hash[cloth[1]].append(cloth[0])\n",
    "        else:\n",
    "            hash[cloth[1]] = [cloth[0]]\n",
    "    \n",
    "    answer = len(list(product(*hash.values())))\n",
    "    \n",
    "    if (len(hash.keys())==1):\n",
    "        return answer\n",
    "    for i in hash:\n",
    "        answer = answer + len(hash[i])\n",
    "        \n",
    "    return answer"
   ]
  },
  {
   "cell_type": "code",
   "execution_count": 204,
   "metadata": {},
   "outputs": [],
   "source": [
    "\n",
    "def solution(clothes):\n",
    "    from collections import Counter\n",
    "    from functools import reduce\n",
    "    cnt = Counter([kind for name, kind in clothes])\n",
    "    \n",
    "    answer = reduce(lambda x, y: x*(y+1), cnt.values(), 1) - 1\n",
    "    \n",
    "    print(cnt.values())\n",
    "    \n",
    "    return answer"
   ]
  },
  {
   "cell_type": "code",
   "execution_count": 205,
   "metadata": {},
   "outputs": [
    {
     "name": "stdout",
     "output_type": "stream",
     "text": [
      "Counter({'headgear': 2, 'eyewear': 1})\n",
      "dict_values([2, 1])\n"
     ]
    },
    {
     "data": {
      "text/plain": [
       "5"
      ]
     },
     "execution_count": 205,
     "metadata": {},
     "output_type": "execute_result"
    }
   ],
   "source": [
    "solution([[\"yellowhat\", \"headgear\"], [\"bluesunglasses\", \"eyewear\"], [\"green_turban\", \"headgear\"]])"
   ]
  },
  {
   "cell_type": "code",
   "execution_count": 72,
   "metadata": {},
   "outputs": [
    {
     "name": "stdout",
     "output_type": "stream",
     "text": [
      "9.07 µs ± 898 ns per loop (mean ± std. dev. of 7 runs, 100000 loops each)\n"
     ]
    }
   ],
   "source": [
    "%%timeit\n",
    "def solution(bridge_length, weight, truck_weights):\n",
    "    mQueue = [0 for _ in range(bridge_length)]\n",
    "    \n",
    "    time = 0\n",
    "    \n",
    "    while truck_weights:\n",
    "        time +=1\n",
    "        if sum(mQueue) + truck_weights[0] - mQueue[0] <= weight:\n",
    "            mQueue.append(truck_weights.pop(0))\n",
    "            mQueue.pop(0)\n",
    "        else:\n",
    "            mQueue.append(0)\n",
    "            mQueue.pop(0)\n",
    "        \n",
    "    return time + bridge_length\n",
    "solution(100,100,[10])"
   ]
  },
  {
   "cell_type": "code",
   "execution_count": 75,
   "metadata": {},
   "outputs": [
    {
     "name": "stdout",
     "output_type": "stream",
     "text": [
      "11.7 µs ± 1.14 µs per loop (mean ± std. dev. of 7 runs, 10000 loops each)\n"
     ]
    }
   ],
   "source": [
    "%%timeit\n",
    "\n",
    "\n",
    "from collections import deque\n",
    "\n",
    "def solution(bridge_length, weight, truck_weights):\n",
    "    bridge = deque(0 for _ in range(bridge_length))\n",
    "    \n",
    "    \n",
    "    total_weight = 0\n",
    "    step = 0\n",
    "    truck_weights.reverse()\n",
    "    \n",
    "    \n",
    "    while truck_weights:      \n",
    "        total_weight -= bridge.popleft()\n",
    "      \n",
    "        if total_weight + truck_weights[-1] > weight:\n",
    "            bridge.append(0)\n",
    "        else:\n",
    "            truck = truck_weights.pop()\n",
    "            bridge.append(truck)\n",
    "            total_weight += truck\n",
    "        \n",
    "        step += 1\n",
    "\n",
    "    step += bridge_length\n",
    "\n",
    "    return step\n",
    "\n",
    "solution(100,100,[10])"
   ]
  },
  {
   "cell_type": "code",
   "execution_count": 103,
   "metadata": {},
   "outputs": [],
   "source": [
    "def solution(prices):\n",
    "    answer = []\n",
    "    \n",
    "    while prices:\n",
    "        price  = prices.pop(0)\n",
    "        count = 0\n",
    "        for other in prices:\n",
    "            if price > other:\n",
    "                answer.append(count)\n",
    "                print(price, other, count)\n",
    "                break\n",
    "            else:\n",
    "                count += 1\n",
    "                print(price, other, count)\n",
    "        \n",
    "\n",
    "    return answer"
   ]
  },
  {
   "cell_type": "code",
   "execution_count": 104,
   "metadata": {},
   "outputs": [
    {
     "name": "stdout",
     "output_type": "stream",
     "text": [
      "1 2 1\n",
      "1 3 2\n",
      "1 2 3\n",
      "1 3 4\n",
      "2 3 1\n",
      "2 2 2\n",
      "2 3 3\n",
      "3 2 0\n",
      "2 3 1\n"
     ]
    },
    {
     "data": {
      "text/plain": [
       "[0]"
      ]
     },
     "execution_count": 104,
     "metadata": {},
     "output_type": "execute_result"
    }
   ],
   "source": [
    "solution([1, 2, 3, 2, 3])"
   ]
  },
  {
   "cell_type": "code",
   "execution_count": 109,
   "metadata": {},
   "outputs": [
    {
     "name": "stdout",
     "output_type": "stream",
     "text": [
      "4.2 µs ± 84.7 ns per loop (mean ± std. dev. of 7 runs, 100000 loops each)\n"
     ]
    }
   ],
   "source": [
    "%%timeit\n",
    "def solution(p):\n",
    "    ans = [0] * len(p)\n",
    "    stack = [0]\n",
    "    for i in range(1, len(p)):\n",
    "        if p[i] < p[stack[-1]]:\n",
    "            for j in stack[::-1]:\n",
    "                if p[i] < p[j]:\n",
    "                    ans[j] = i-j\n",
    "                    stack.remove(j)\n",
    "                else:\n",
    "                    break\n",
    "        stack.append(i)\n",
    "    for i in range(0, len(stack)-1):\n",
    "        ans[stack[i]] = len(p) - stack[i] - 1\n",
    "    return ans\n",
    "solution([1, 2, 3, 2, 3])"
   ]
  },
  {
   "cell_type": "code",
   "execution_count": 110,
   "metadata": {},
   "outputs": [
    {
     "name": "stdout",
     "output_type": "stream",
     "text": [
      "4.72 µs ± 183 ns per loop (mean ± std. dev. of 7 runs, 100000 loops each)\n"
     ]
    }
   ],
   "source": [
    "%%timeit\n",
    "\n",
    "def solution(prices):\n",
    "    stack = []\n",
    "    answer = [0] * len(prices)\n",
    "    for i in range(len(prices)):\n",
    "        if stack != []:\n",
    "            while stack != [] and stack[-1][1] > prices[i]:\n",
    "                past, _ = stack.pop()\n",
    "                answer[past] = i - past\n",
    "        stack.append([i, prices[i]])\n",
    "    for i, s in stack:\n",
    "        answer[i] = len(prices) - 1 - i\n",
    "    return answer\n",
    "solution([1, 2, 3, 2, 3])"
   ]
  },
  {
   "cell_type": "code",
   "execution_count": 58,
   "metadata": {},
   "outputs": [
    {
     "ename": "IndexError",
     "evalue": "list index out of range",
     "output_type": "error",
     "traceback": [
      "\u001b[1;31m---------------------------------------------------------------------------\u001b[0m",
      "\u001b[1;31mIndexError\u001b[0m                                Traceback (most recent call last)",
      "\u001b[1;32m<ipython-input-58-e6cf749e1426>\u001b[0m in \u001b[0;36m<module>\u001b[1;34m\u001b[0m\n\u001b[0;32m     20\u001b[0m     \u001b[1;32mreturn\u001b[0m \u001b[0manswer\u001b[0m\u001b[1;33m\u001b[0m\u001b[1;33m\u001b[0m\u001b[0m\n\u001b[0;32m     21\u001b[0m \u001b[1;33m\u001b[0m\u001b[0m\n\u001b[1;32m---> 22\u001b[1;33m \u001b[0msolution\u001b[0m\u001b[1;33m(\u001b[0m\u001b[1;33m[\u001b[0m\u001b[1;36m98\u001b[0m\u001b[1;33m,\u001b[0m\u001b[1;36m98\u001b[0m\u001b[1;33m,\u001b[0m \u001b[1;36m97\u001b[0m\u001b[1;33m,\u001b[0m \u001b[1;36m98\u001b[0m\u001b[1;33m]\u001b[0m\u001b[1;33m,\u001b[0m\u001b[1;33m[\u001b[0m\u001b[1;36m1\u001b[0m\u001b[1;33m,\u001b[0m \u001b[1;36m1\u001b[0m\u001b[1;33m,\u001b[0m \u001b[1;36m1\u001b[0m\u001b[1;33m,\u001b[0m\u001b[1;36m1\u001b[0m\u001b[1;33m]\u001b[0m\u001b[1;33m)\u001b[0m\u001b[1;33m\u001b[0m\u001b[1;33m\u001b[0m\u001b[0m\n\u001b[0m",
      "\u001b[1;32m<ipython-input-58-e6cf749e1426>\u001b[0m in \u001b[0;36msolution\u001b[1;34m(progresses, speeds)\u001b[0m\n\u001b[0;32m      9\u001b[0m         \u001b[0mcount\u001b[0m \u001b[1;33m+=\u001b[0m \u001b[1;36m1\u001b[0m\u001b[1;33m\u001b[0m\u001b[1;33m\u001b[0m\u001b[0m\n\u001b[0;32m     10\u001b[0m         \u001b[1;32mfor\u001b[0m \u001b[0mi\u001b[0m \u001b[1;32min\u001b[0m \u001b[0mrange\u001b[0m\u001b[1;33m(\u001b[0m\u001b[0mlen\u001b[0m\u001b[1;33m(\u001b[0m\u001b[0manswer\u001b[0m\u001b[1;33m)\u001b[0m\u001b[1;33m)\u001b[0m\u001b[1;33m:\u001b[0m\u001b[1;33m\u001b[0m\u001b[1;33m\u001b[0m\u001b[0m\n\u001b[1;32m---> 11\u001b[1;33m             \u001b[0manswer\u001b[0m\u001b[1;33m[\u001b[0m\u001b[0mi\u001b[0m\u001b[1;33m]\u001b[0m \u001b[1;33m=\u001b[0m \u001b[0manswer\u001b[0m\u001b[1;33m[\u001b[0m\u001b[0mi\u001b[0m\u001b[1;33m]\u001b[0m\u001b[1;33m+\u001b[0m\u001b[0mspeeds\u001b[0m\u001b[1;33m[\u001b[0m\u001b[0mi\u001b[0m\u001b[1;33m]\u001b[0m\u001b[1;33m\u001b[0m\u001b[1;33m\u001b[0m\u001b[0m\n\u001b[0m\u001b[0;32m     12\u001b[0m             \u001b[1;32mif\u001b[0m \u001b[0manswer\u001b[0m\u001b[1;33m[\u001b[0m\u001b[0mi\u001b[0m\u001b[1;33m]\u001b[0m \u001b[1;33m>=\u001b[0m \u001b[1;36m100\u001b[0m\u001b[1;33m:\u001b[0m\u001b[1;33m\u001b[0m\u001b[1;33m\u001b[0m\u001b[0m\n\u001b[0;32m     13\u001b[0m                 \u001b[0mtime\u001b[0m\u001b[1;33m[\u001b[0m\u001b[0mi\u001b[0m\u001b[1;33m]\u001b[0m \u001b[1;33m=\u001b[0m \u001b[0mcount\u001b[0m\u001b[1;33m\u001b[0m\u001b[1;33m\u001b[0m\u001b[0m\n",
      "\u001b[1;31mIndexError\u001b[0m: list index out of range"
     ]
    }
   ],
   "source": [
    "def solution(progresses, speeds):\n",
    "    answer = [i for i in progresses]\n",
    "    loopStatus = True \n",
    "    time = [0 for _ in range(len(progresses))]\n",
    "    count = 0\n",
    "    \n",
    "    while answer:\n",
    "        \n",
    "        count += 1\n",
    "        for i in range(len(answer)):\n",
    "            answer[i] = answer[i]+speeds[i]\n",
    "            if answer[i] >= 100:\n",
    "                time[i] = count\n",
    "                answer.pop(i)\n",
    "                \n",
    "\n",
    "    return answer\n",
    "\n",
    "solution([98,98, 97, 98],[1, 1, 1,1])"
   ]
  },
  {
   "cell_type": "code",
   "execution_count": 60,
   "metadata": {},
   "outputs": [
    {
     "data": {
      "text/plain": [
       "[2, 2]"
      ]
     },
     "execution_count": 60,
     "metadata": {},
     "output_type": "execute_result"
    }
   ],
   "source": [
    "def solution(progresses, speeds):\n",
    "    answer = []\n",
    "    time = 0\n",
    "    count = 0\n",
    "    while len(progresses)> 0:\n",
    "        if (progresses[0] + time*speeds[0]) >= 100:\n",
    "            progresses.pop(0)\n",
    "            speeds.pop(0)\n",
    "            count += 1\n",
    "        else:\n",
    "            if count > 0:\n",
    "                answer.append(count)\n",
    "                count = 0\n",
    "            time += 1\n",
    "    answer.append(count)\n",
    "    return answer\n",
    "\n",
    "solution([98,98, 97, 98],[1, 1, 1,1])"
   ]
  },
  {
   "cell_type": "code",
   "execution_count": 1,
   "metadata": {},
   "outputs": [
    {
     "ename": "ValueError",
     "evalue": "0 is not in list",
     "output_type": "error",
     "traceback": [
      "\u001b[1;31m---------------------------------------------------------------------------\u001b[0m",
      "\u001b[1;31mValueError\u001b[0m                                Traceback (most recent call last)",
      "\u001b[1;32m<ipython-input-1-8cbc98472b1a>\u001b[0m in \u001b[0;36m<module>\u001b[1;34m\u001b[0m\n\u001b[0;32m     23\u001b[0m     \u001b[1;32mreturn\u001b[0m \u001b[0manswer\u001b[0m\u001b[1;33m\u001b[0m\u001b[1;33m\u001b[0m\u001b[0m\n\u001b[0;32m     24\u001b[0m \u001b[1;33m\u001b[0m\u001b[0m\n\u001b[1;32m---> 25\u001b[1;33m \u001b[0msolution\u001b[0m\u001b[1;33m(\u001b[0m\u001b[1;33m[\u001b[0m\u001b[1;36m1\u001b[0m\u001b[1;33m,\u001b[0m \u001b[1;36m1\u001b[0m\u001b[1;33m,\u001b[0m \u001b[1;36m9\u001b[0m\u001b[1;33m,\u001b[0m \u001b[1;36m1\u001b[0m\u001b[1;33m,\u001b[0m \u001b[1;36m1\u001b[0m\u001b[1;33m,\u001b[0m \u001b[1;36m1\u001b[0m\u001b[1;33m]\u001b[0m\u001b[1;33m,\u001b[0m \u001b[1;36m0\u001b[0m\u001b[1;33m)\u001b[0m\u001b[1;33m\u001b[0m\u001b[1;33m\u001b[0m\u001b[0m\n\u001b[0m",
      "\u001b[1;32m<ipython-input-1-8cbc98472b1a>\u001b[0m in \u001b[0;36msolution\u001b[1;34m(priorities, location)\u001b[0m\n\u001b[0;32m     11\u001b[0m     \u001b[0mtmp\u001b[0m \u001b[1;33m=\u001b[0m \u001b[0mpriorities\u001b[0m\u001b[1;33m\u001b[0m\u001b[1;33m\u001b[0m\u001b[0m\n\u001b[0;32m     12\u001b[0m \u001b[1;33m\u001b[0m\u001b[0m\n\u001b[1;32m---> 13\u001b[1;33m     \u001b[0mlocation_idx\u001b[0m \u001b[1;33m=\u001b[0m \u001b[0mtmp\u001b[0m\u001b[1;33m.\u001b[0m\u001b[0mindex\u001b[0m\u001b[1;33m(\u001b[0m\u001b[0mlocation\u001b[0m\u001b[1;33m)\u001b[0m\u001b[1;33m\u001b[0m\u001b[1;33m\u001b[0m\u001b[0m\n\u001b[0m\u001b[0;32m     14\u001b[0m     \u001b[0mprint\u001b[0m\u001b[1;33m(\u001b[0m\u001b[0mlocation_idx\u001b[0m\u001b[1;33m)\u001b[0m\u001b[1;33m\u001b[0m\u001b[1;33m\u001b[0m\u001b[0m\n\u001b[0;32m     15\u001b[0m \u001b[1;31m#     count = 0\u001b[0m\u001b[1;33m\u001b[0m\u001b[1;33m\u001b[0m\u001b[1;33m\u001b[0m\u001b[0m\n",
      "\u001b[1;31mValueError\u001b[0m: 0 is not in list"
     ]
    }
   ],
   "source": [
    "\n",
    "\n",
    "def solution(priorities, location):\n",
    "    \n",
    "    \n",
    "#     for idx, value in enumerate(priorities):\n",
    "#         answer.put([-value, idx])\n",
    "    \n",
    "#     while answer:\n",
    "#         print(answer.get())\n",
    "    \n",
    "    \n",
    "    tmp = priorities\n",
    "    \n",
    "    location_idx = tmp.index(location)\n",
    "    print(location_idx)\n",
    "#     count = 0\n",
    "    \n",
    "    \n",
    "#     search_idx = answer.index([])\n",
    "# #         if answer.get()[1] == location:\n",
    "# #             return count\n",
    "    print(answer)\n",
    "    \n",
    "    return answer\n",
    "\n",
    "solution([1, 1, 9, 1, 1, 1], 0)"
   ]
  },
  {
   "cell_type": "code",
   "execution_count": 3,
   "metadata": {},
   "outputs": [
    {
     "name": "stdout",
     "output_type": "stream",
     "text": [
      "deque([(1, 0), (1, 1), (9, 2), (1, 3), (1, 4), (1, 5)])\n"
     ]
    },
    {
     "data": {
      "text/plain": [
       "5"
      ]
     },
     "execution_count": 3,
     "metadata": {},
     "output_type": "execute_result"
    }
   ],
   "source": [
    "from collections import deque\n",
    "\n",
    "def solution(priorities, location):\n",
    "    answer = 0\n",
    "      \n",
    "    d = deque([(v,i) for i,v in enumerate(priorities)])\n",
    "    print(d)\n",
    "    while len(d):\n",
    "        item = d.popleft()\n",
    "        if d and max(d)[0] > item[0]:\n",
    "            d.append(item)\n",
    "        else:\n",
    "            answer += 1\n",
    "            if item[1] == location:\n",
    "                break\n",
    "    return answer\n",
    "\n",
    "solution([1, 1, 9, 1, 1, 1], 0)"
   ]
  },
  {
   "cell_type": "code",
   "execution_count": 13,
   "metadata": {},
   "outputs": [
    {
     "name": "stdout",
     "output_type": "stream",
     "text": [
      "['6', '10', '2']\n",
      "102 210\n",
      "610 106\n",
      "62 26\n",
      "['6', '2', '10']\n"
     ]
    },
    {
     "data": {
      "text/plain": [
       "'6210'"
      ]
     },
     "execution_count": 13,
     "metadata": {},
     "output_type": "execute_result"
    }
   ],
   "source": [
    "import functools\n",
    "\n",
    "def comparator(a,b):\n",
    "    t1 = a+b\n",
    "    t2 = b+a\n",
    "    print(t1, t2)\n",
    "    return (int(t1) > int(t2)) - (int(t1) < int(t2)) #  t1이 크다면 1  // t2가 크다면 -1  //  같으면 0\n",
    "\n",
    "def solution(numbers):\n",
    "    n = [str(x) for x in numbers]\n",
    "    print(n)\n",
    "    n = sorted(n, key=functools.cmp_to_key(comparator),reverse=True)\n",
    "    print(n)\n",
    "    answer = str(int(''.join(n)))\n",
    "    return answer\n",
    "solution([6, 10, 2])"
   ]
  },
  {
   "cell_type": "code",
   "execution_count": 9,
   "metadata": {},
   "outputs": [
    {
     "name": "stdout",
     "output_type": "stream",
     "text": [
      "['22', '101010']\n"
     ]
    }
   ],
   "source": [
    "aa = [\"101010\", \"22\"]\n",
    "aa.sort(reverse=True)\n",
    "print(aa)"
   ]
  },
  {
   "cell_type": "code",
   "execution_count": 18,
   "metadata": {},
   "outputs": [
    {
     "data": {
      "text/plain": [
       "3"
      ]
     },
     "execution_count": 18,
     "metadata": {},
     "output_type": "execute_result"
    }
   ],
   "source": [
    "import heapq\n",
    "\n",
    "def solution(citations):\n",
    "    answer = 0\n",
    "    heap = []\n",
    "    sel = []\n",
    "    \n",
    "    for citation in citations:\n",
    "        heapq.heappush(heap, (-citation, citation))\n",
    "    \n",
    "    \n",
    "    while len(heap) > 0 and heap[0][1] > len(sel):\n",
    "        sel.append(heapq.heappop(heap))\n",
    "    \n",
    "    return len(sel)\n",
    "\n",
    "solution([3, 0, 6, 1, 5])"
   ]
  },
  {
   "cell_type": "code",
   "execution_count": 24,
   "metadata": {},
   "outputs": [
    {
     "name": "stdout",
     "output_type": "stream",
     "text": [
      "0 5 0\n",
      "1 4 1\n",
      "2 3 1\n",
      "3 2 1\n",
      "4 1 8\n"
     ]
    },
    {
     "data": {
      "text/plain": [
       "1"
      ]
     },
     "execution_count": 24,
     "metadata": {},
     "output_type": "execute_result"
    }
   ],
   "source": [
    "def solution(citations):\n",
    "    citations = sorted(citations)\n",
    "    l = len(citations)\n",
    "    for i in range(l):\n",
    "        print(i, l-i, citations[i])\n",
    "        if citations[i] >= l-i:\n",
    "            return l-i\n",
    "    return 0\n",
    "\n",
    "solution([8, 0, 1, 1, 1])"
   ]
  },
  {
   "cell_type": "code",
   "execution_count": 62,
   "metadata": {},
   "outputs": [
    {
     "name": "stdout",
     "output_type": "stream",
     "text": [
      "[11, 101]\n"
     ]
    },
    {
     "data": {
      "text/plain": [
       "2"
      ]
     },
     "execution_count": 62,
     "metadata": {},
     "output_type": "execute_result"
    }
   ],
   "source": [
    "import sys, math, itertools\n",
    "\n",
    "def isPrime(x):\n",
    "    if x == 0: # 1은 소수가 아님\n",
    "        return False\n",
    "    if x == 1: # 1은 소수가 아님\n",
    "        return False    \n",
    "    for i in range(2, int(math.sqrt(x))+1):\n",
    "        if x % i == 0:\n",
    "            return False\n",
    "    return True\n",
    "            \n",
    "\n",
    "def solution(numbers):\n",
    "    answer = []\n",
    "    \n",
    "    mList = list(map(''.join, itertools.permutations(numbers, 1))) \n",
    "    \n",
    "    for i in range(len(numbers)-1):\n",
    "        mList.extend(list(map(''.join, itertools.permutations(numbers, i+2))))\n",
    "    \n",
    "\n",
    "    \n",
    "    for i in mList:\n",
    "        \n",
    "        if isPrime(int(i)) and int(i) not in answer:\n",
    "            answer.append(int(i))\n",
    "    \n",
    "\n",
    "    return len(answer)\n",
    "\n",
    "solution(\"011\")"
   ]
  },
  {
   "cell_type": "code",
   "execution_count": null,
   "metadata": {},
   "outputs": [],
   "source": [
    "x,y = ?, ?\n",
    "x >= y\n",
    "x*y = yellow\n",
    "\n",
    "y를 먼저 줄이고 그다음 x를 줄이면서 찾아야 됨\n",
    "\n",
    "brown = 2* (x+2) + 2*y\n",
    "\n",
    "\n",
    "\n",
    "\n",
    "standard = int(yellow / 2)\n",
    "\n",
    "for i in range(standard+1):\n",
    "    if yellow % (standard - i) == 0:\n",
    "        y = standard - i\n",
    "        x = yellow / y\n",
    "        if (2* (x+2) + 2*y) == brown:\n",
    "            return [x+2, y+2]"
   ]
  },
  {
   "cell_type": "code",
   "execution_count": 65,
   "metadata": {},
   "outputs": [
    {
     "name": "stdout",
     "output_type": "stream",
     "text": [
      "12\n"
     ]
    }
   ],
   "source": [
    "print(int(25/2))"
   ]
  },
  {
   "cell_type": "code",
   "execution_count": 71,
   "metadata": {},
   "outputs": [
    {
     "data": {
      "text/plain": [
       "[4, 3]"
      ]
     },
     "execution_count": 71,
     "metadata": {},
     "output_type": "execute_result"
    }
   ],
   "source": [
    "def solution(brown, yellow):\n",
    "    answer = []\n",
    "    standard = int(yellow / 2)+1\n",
    "\n",
    "    for i in range(standard):\n",
    "        if yellow % (standard - i) == 0:\n",
    "            y = standard - i\n",
    "            x = yellow / y\n",
    "            if (2* (x+2) + 2*y) == brown:\n",
    "                return [max(int(x+2), int(y+2)), min(int(x+2), int(y+2))]\n",
    "\n",
    "solution(10, 2)"
   ]
  },
  {
   "cell_type": "code",
   "execution_count": null,
   "metadata": {},
   "outputs": [],
   "source": [
    "def solution(brown, yellow):\n",
    "    for i in range(1, int(yellow**(1/2))+1):\n",
    "        if yellow % i == 0:\n",
    "            if 2*(i + yellow//i) == brown-4:\n",
    "                return [yellow//i+2, i+2]"
   ]
  },
  {
   "cell_type": "code",
   "execution_count": null,
   "metadata": {},
   "outputs": [],
   "source": [
    "def solution(name):\n",
    "    name = list(name)\n",
    "    answer = 0\n",
    "    i = 0\n",
    "    \n",
    "    while True:\n",
    "        answer += min(ord(name[i])-ord('A'), ord('Z')-ord(name[i])+1)\n",
    "        name[i] = 'A'\n",
    "        \n",
    "        if name.count('A') == len(name) : return answer\n",
    "        \n",
    "        left, right = 1,1\n",
    "        for l in range(1,len(name)):\n",
    "            if name[i-l] == 'A': left += 1\n",
    "            else: break\n",
    "        \n",
    "        for r in range(1,len(name)):\n",
    "            if name[i+r] == 'A': right += 1\n",
    "            else: break\n",
    "        \n",
    "        if left < right:\n",
    "            answer += left\n",
    "            i -= left\n",
    "        else:\n",
    "            answer += right\n",
    "            i += right\n",
    "            \n",
    "            \n",
    "    return answer"
   ]
  }
 ],
 "metadata": {
  "kernelspec": {
   "display_name": "Python 3",
   "language": "python",
   "name": "python3"
  },
  "language_info": {
   "codemirror_mode": {
    "name": "ipython",
    "version": 3
   },
   "file_extension": ".py",
   "mimetype": "text/x-python",
   "name": "python",
   "nbconvert_exporter": "python",
   "pygments_lexer": "ipython3",
   "version": "3.7.6"
  }
 },
 "nbformat": 4,
 "nbformat_minor": 4
}
