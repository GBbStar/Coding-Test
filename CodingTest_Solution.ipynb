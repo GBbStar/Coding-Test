{
 "cells": [
  {
   "cell_type": "markdown",
   "metadata": {},
   "source": [
    "# Basic Data Structure"
   ]
  },
  {
   "cell_type": "markdown",
   "metadata": {},
   "source": [
    "#### 음계\n",
    "\n",
    "* 문제\n",
    "    - 다장조는 c d e f g a b C, 총 8개 음으로 이루어져있다. 이 문제에서 8개 음은 다음과 같이 숫자로 바꾸어 표현한다. c는 1로, d는 2로, ..., C를 8로 바꾼다.\n",
    "\n",
    "    - 1부터 8까지 차례대로 연주한다면 ascending, 8부터 1까지 차례대로 연주한다면 descending, 둘 다 아니라면 mixed 이다.\n",
    "\n",
    "    - 연주한 순서가 주어졌을 때, 이것이 ascending인지, descending인지, 아니면 mixed인지 판별하는 프로그램을 작성하시오.\n",
    "    \n",
    "* 입력\n",
    "    - 첫째 줄에 8개 숫자가 주어진다. 이 숫자는 문제 설명에서 설명한 음이며, 1부터 8까지 숫자가 한 번씩 등장한다.\n",
    "\n",
    "\n",
    "* 출력\n",
    "    - 첫째 줄에 ascending, descending, mixed 중 하나를 출력한다.\n",
    "\n",
    "* 예제 입력 1\n",
    "    - 1 2 3 4 5 6 7 8\n",
    "* 예제 출력 1 \n",
    "    - ascending"
   ]
  },
  {
   "cell_type": "code",
   "execution_count": 1,
   "metadata": {},
   "outputs": [
    {
     "name": "stdout",
     "output_type": "stream",
     "text": [
      "1 2 3 4\n"
     ]
    },
    {
     "ename": "IndexError",
     "evalue": "list index out of range",
     "output_type": "error",
     "traceback": [
      "\u001b[1;31m---------------------------------------------------------------------------\u001b[0m",
      "\u001b[1;31mIndexError\u001b[0m                                Traceback (most recent call last)",
      "\u001b[1;32m<ipython-input-1-ecb8d01ea40d>\u001b[0m in \u001b[0;36m<module>\u001b[1;34m\u001b[0m\n\u001b[0;32m      5\u001b[0m \u001b[1;33m\u001b[0m\u001b[0m\n\u001b[0;32m      6\u001b[0m \u001b[1;32mfor\u001b[0m \u001b[0mi\u001b[0m \u001b[1;32min\u001b[0m \u001b[0mrange\u001b[0m\u001b[1;33m(\u001b[0m\u001b[1;36m1\u001b[0m\u001b[1;33m,\u001b[0m \u001b[1;36m8\u001b[0m\u001b[1;33m)\u001b[0m\u001b[1;33m:\u001b[0m\u001b[1;33m\u001b[0m\u001b[1;33m\u001b[0m\u001b[0m\n\u001b[1;32m----> 7\u001b[1;33m     \u001b[1;32mif\u001b[0m \u001b[0marr\u001b[0m\u001b[1;33m[\u001b[0m\u001b[0mi\u001b[0m\u001b[1;33m]\u001b[0m \u001b[1;33m>\u001b[0m \u001b[0marr\u001b[0m\u001b[1;33m[\u001b[0m\u001b[0mi\u001b[0m\u001b[1;33m-\u001b[0m\u001b[1;36m1\u001b[0m\u001b[1;33m]\u001b[0m\u001b[1;33m:\u001b[0m\u001b[1;33m\u001b[0m\u001b[1;33m\u001b[0m\u001b[0m\n\u001b[0m\u001b[0;32m      8\u001b[0m         \u001b[0mdes\u001b[0m \u001b[1;33m=\u001b[0m \u001b[1;32mFalse\u001b[0m\u001b[1;33m\u001b[0m\u001b[1;33m\u001b[0m\u001b[0m\n\u001b[0;32m      9\u001b[0m     \u001b[1;32melif\u001b[0m \u001b[0marr\u001b[0m\u001b[1;33m[\u001b[0m\u001b[0mi\u001b[0m\u001b[1;33m]\u001b[0m \u001b[1;33m<\u001b[0m \u001b[0marr\u001b[0m\u001b[1;33m[\u001b[0m\u001b[0mi\u001b[0m\u001b[1;33m-\u001b[0m\u001b[1;36m1\u001b[0m\u001b[1;33m]\u001b[0m\u001b[1;33m:\u001b[0m\u001b[1;33m\u001b[0m\u001b[1;33m\u001b[0m\u001b[0m\n",
      "\u001b[1;31mIndexError\u001b[0m: list index out of range"
     ]
    }
   ],
   "source": [
    "arr = list(map(int, input().split(' ')))\n",
    "\n",
    "ass = True\n",
    "des = True\n",
    "\n",
    "for i in range(1, 8):\n",
    "    if arr[i] > arr[i-1]:\n",
    "        des = False\n",
    "    elif arr[i] < arr[i-1]:\n",
    "        ass = False\n",
    "        \n",
    "if ass:\n",
    "    print('ascending')\n",
    "elif des:\n",
    "    print('descending')\n",
    "else:\n",
    "    print('mixed')"
   ]
  },
  {
   "cell_type": "markdown",
   "metadata": {},
   "source": [
    "#### 블랙잭\n",
    "* 문제\n",
    "    - 카지노에서 제일 인기 있는 게임 블랙잭의 규칙은 상당히 쉽다. 카드의 합이 21을 넘지 않는 한도 내에서, 카드의 합을 최대한 크게 만드는 게임이다. 블랙잭은 카지노마다 다양한 규정이 있다.\n",
    "\n",
    "    - 한국 최고의 블랙잭 고수 김정인은 새로운 블랙잭 규칙을 만들어 상근, 창영이와 게임하려고 한다.\n",
    "\n",
    "    - 김정인 버전의 블랙잭에서 각 카드에는 양의 정수가 쓰여 있다. 그 다음, 딜러는 N장의 카드를 모두 숫자가 보이도록 바닥에 놓는다. 그런 후에 딜러는 숫자 M을 크게 외친다.\n",
    "\n",
    "    - 이제 플레이어는 제한된 시간 안에 N장의 카드 중에서 3장의 카드를 골라야 한다. 블랙잭 변형 게임이기 때문에, 플레이어가 고른 카드의 합은 M을 넘지 않으면서 M과 최대한 가깝게 만들어야 한다.\n",
    "\n",
    "    - N장의 카드에 써져 있는 숫자가 주어졌을 때, M을 넘지 않으면서 M에 최대한 가까운 카드 3장의 합을 구해 출력하시오.\n",
    "    \n",
    "* 입력\n",
    "    - 첫째 줄에 카드의 개수 N(3 ≤ N ≤ 100)과 M(10 ≤ M ≤ 300,000)이 주어진다. 둘째 줄에는 카드에 쓰여 있는 수가 주어지며, 이 값은 100,000을 넘지 않는 양의 정수이다.\n",
    "    - 합이 M을 넘지 않는 카드 3장을 찾을 수 있는 경우만 입력으로 주어진다.\n",
    "* 출력\n",
    "    - 첫째 줄에 M을 넘지 않으면서 M에 최대한 가까운 카드 3장의 합을 출력한다.\n",
    "* 예제 입력\n",
    "    ~~~\n",
    "        5 21\n",
    "        5 6 7 8 9\n",
    "    ~~~\n",
    "* 예제 출력\n",
    "    ~~~\n",
    "        21\n",
    "    ~~~"
   ]
  },
  {
   "cell_type": "code",
   "execution_count": null,
   "metadata": {},
   "outputs": [],
   "source": [
    "n, m = list(map(int, input().split(' ')))\n",
    "data = list(map(int, input().split(' ')))\n",
    "\n",
    "\n",
    "result = 0\n",
    "\n",
    "\n",
    "for i in range(0, len(data)):\n",
    "    for j in range(i+1, len(data)):\n",
    "        for k in range(j+1, len(data)):\n",
    "            sum = data[i] + data[j] + data[k]\n",
    "            if sum <= m:\n",
    "                result = max(result, sum)\n",
    "                \n",
    "print(result)"
   ]
  },
  {
   "cell_type": "markdown",
   "metadata": {},
   "source": [
    "#### 스택 수열\n",
    "* 문제\n",
    "    - 스택 (stack)은 기본적인 자료구조 중 하나로, 컴퓨터 프로그램을 작성할 때 자주 이용되는 개념이다. 스택은 자료를 넣는 (push) 입구와 자료를 뽑는 (pop) 입구가 같아 제일 나중에 들어간 자료가 제일 먼저 나오는 (LIFO, Last in First out) 특성을 가지고 있다.\n",
    "\n",
    "    - 1부터 n까지의 수를 스택에 넣었다가 뽑아 늘어놓음으로써, 하나의 수열을 만들 수 있다. 이때, 스택에 push하는 순서는 반드시 오름차순을 지키도록 한다고 하자. 임의의 수열이 주어졌을 때 스택을 이용해 그 수열을 만들 수 있는지 없는지, 있다면 어떤 순서로 push와 pop 연산을 수행해야 하는지를 알아낼 수 있다. 이를 계산하는 프로그램을 작성하라.\n",
    "* 입력\n",
    "    - 첫 줄에 n (1 ≤ n ≤ 100,000)이 주어진다. 둘째 줄부터 n개의 줄에는 수열을 이루는 1이상 n이하의 정수가 하나씩 순서대로 주어진다. 물론 같은 정수가 두 번 나오는 일은 없다.\n",
    "* 출력\n",
    "    - 입력된 수열을 만들기 위해 필요한 연산을 한 줄에 한 개씩 출력한다. push연산은 +로, pop 연산은 -로 표현하도록 한다. 불가능한 경우 NO를 출력한다.\n",
    "* 예제 입력\n",
    "    ~~~\n",
    "        8\n",
    "        4\n",
    "        3\n",
    "        6\n",
    "        8\n",
    "        7\n",
    "        5\n",
    "        2\n",
    "        1\n",
    "    ~~~\n",
    "* 예제 출력\n",
    "    ~~~\n",
    "        +\n",
    "        +\n",
    "        +\n",
    "        +\n",
    "        -\n",
    "        -\n",
    "        +\n",
    "        +\n",
    "        -\n",
    "        +\n",
    "        +\n",
    "        -\n",
    "        -\n",
    "        -\n",
    "        -\n",
    "        -\n",
    "    ~~~"
   ]
  },
  {
   "cell_type": "code",
   "execution_count": null,
   "metadata": {},
   "outputs": [],
   "source": [
    "n = int(input())\n",
    "\n",
    "stack = []\n",
    "result_str=[]\n",
    "\n",
    "cur_num = 1\n",
    "for i in range(1, n+1):\n",
    "    data = int(input())\n",
    "    while cur_num <= data:\n",
    "        stack.append(cur_num)\n",
    "        cur_num += 1\n",
    "        result_str.append('+')\n",
    "        \n",
    "    if stack[-1] == data:\n",
    "        stack.pop()\n",
    "        result_str.append('-')\n",
    "    \n",
    "    else:\n",
    "        print('NO')\n",
    "        exit(0)\n",
    "        \n",
    "print('\\n'.join(result_str))"
   ]
  },
  {
   "cell_type": "markdown",
   "metadata": {},
   "source": [
    "#### 프린터 큐\n",
    "* 문제\n",
    "    - 여러분도 알다시피 여러분의 프린터 기기는 여러분이 인쇄하고자 하는 문서를 인쇄 명령을 받은 ‘순서대로’, 즉 먼저 요청된 것을 먼저 인쇄한다. 여러 개의 문서가 쌓인다면 Queue 자료구조에 쌓여서 FIFO - First In First Out에 따라 인쇄가 되게 된다. 하지만 상근이는 새로운 프린터기 내부 소프트웨어를 개발하였는데, 이 프린터기는 다음과 같은 조건에 따라 인쇄를 하게 된다.\n",
    "\n",
    "    - 현재 Queue의 가장 앞에 있는 문서의 ‘중요도’를 확인한다.\n",
    "    - 나머지 문서들 중 현재 문서보다 중요도가 높은 문서가 하나라도 있다면, 이 문서를 인쇄하지 않고 Queue의 가장 뒤에 재배치 한다. 그렇지 않다면 바로 인쇄를 한다.\n",
    "    - 예를 들어 Queue에 4개의 문서(A B C D)가 있고, 중요도가 2 1 4 3 라면 C를 인쇄하고, 다음으로 D를 인쇄하고 A, B를 인쇄하게 된다.\n",
    "\n",
    "    - 여러분이 할 일은, 현재 Queue에 있는 문서의 수와 중요도가 주어졌을 때, 어떤 한 문서가 몇 번째로 인쇄되는지 알아내는 것이다. 예를 들어 위의 예에서 C문서는 1번째로, A문서는 3번째로 인쇄되게 된다.\n",
    "* 입력\n",
    "    - 첫 줄에 테스트케이스의 수가 주어진다. 각 테스트케이스는 두 줄로 이루어져 있다.\n",
    "\n",
    "    - 테스트케이스의 첫 번째 줄에는 문서의 개수 N(1 ≤ N ≤ 100)과, 몇 번째로 인쇄되었는지 궁금한 문서가 현재 Queue에서 몇 번째에 놓여 있는지를 나타내는 정수 M(0 ≤ M < N)이 주어진다. 이때 맨 왼쪽은 0번째라고 하자. 두 번째 줄에는 N개 문서의 중요도가 차례대로 주어진다. 중요도는 1 이상 9 이하의 정수이고, 중요도가 같은 문서가 여러 개 있을 수도 있다.\n",
    "* 출력\n",
    "    - 각 테스트 케이스에 대해 문서가 몇 번째로 인쇄되는지 출력한다.\n",
    "* 예제 입력\n",
    "    ~~~\n",
    "        3\n",
    "        1 0\n",
    "        5\n",
    "        4 2\n",
    "        1 2 3 4\n",
    "        6 0\n",
    "        1 1 9 1 1 1\n",
    "    ~~~\n",
    "* 예제 출력\n",
    "    ~~~\n",
    "        1\n",
    "        2\n",
    "        5\n",
    "    ~~~"
   ]
  },
  {
   "cell_type": "code",
   "execution_count": null,
   "metadata": {},
   "outputs": [],
   "source": [
    "test_case = int(input())\n",
    "    \n",
    "for i in range(test_case):\n",
    "    queues_count, target_index = list(map(int, input().split(' '))) \n",
    "    queue = list(map(int, input().split(' '))) \n",
    "    queue = [(i, idx) for idx, i in enumerate(queue)]\n",
    "    \n",
    "    count = 0 \n",
    "    \n",
    "    while True:\n",
    "        # 맨 앞의 있는 요소의 중요도가 큐들의 중요도 중 가장 높은 경우 \n",
    "        if queue[0][0] == max(queue, key=lambda x: x[0])[0]:\n",
    "            count += 1 \n",
    "            if queue[0][1] == target_index:\n",
    "                print(count) \n",
    "                break \n",
    "            else:\n",
    "                queue.pop(0) \n",
    "       \n",
    "        # 중요도가 가장 높지 않을경우 다음 요소를 불러온다\n",
    "        else:\n",
    "            queue.append(queue.pop(0))"
   ]
  },
  {
   "cell_type": "markdown",
   "metadata": {},
   "source": [
    "#### 키로거\n",
    "* 문제\n",
    "    - 창영이는 강산이의 비밀번호를 훔치기 위해서 강산이가 사용하는 컴퓨터에 키로거를 설치했다. 며칠을 기다린 끝에 창영이는 강산이가 비밀번호 창에 입력하는 글자를 얻어냈다.\n",
    "\n",
    "    - 키로거는 사용자가 키보드를 누른 명령을 모두 기록한다. 따라서, 강산이가 비밀번호를 입력할 때, 화살표나 백스페이스를 입력해도 정확한 비밀번호를 알아낼 수 있다.\n",
    "\n",
    "    - 강산이가 비밀번호 창에서 입력한 키가 주어졌을 때, 강산이의 비밀번호를 알아내는 프로그램을 작성하시오.\n",
    "* 입력\n",
    "    - 첫째 줄에 테스트 케이스의 개수가 주어진다. 각 테스트 케이스는 한줄로 이루어져 있고, 강산이가 입력한 순서대로 길이가 L인 문자열이 주어진다. (1 ≤ L의 길이 ≤ 1,000,000) 강산이가 백스페이스를 입력했다면, '-'가 주어진다. 이때 커서의 바로 앞에 글자가 존재한다면, 그 글자를 지운다. 화살표의 입력은 '<'와 '>'로 주어진다. 이때는 커서의 위치를 움직일 수 있다면, 왼쪽 또는 오른쪽으로 1만큼 움직인다. 나머지 문자는 비밀번호의 일부이다. 물론, 나중에 백스페이스를 통해서 지울 수는 있다. 만약 커서의 위치가 줄의 마지막이 아니라면, 커서 및 커서 오른쪽에 있는 모든 문자는 오른쪽으로 한 칸 이동한다.\n",
    "* 출력\n",
    "    - 각 테스트 케이스에 대해서, 강산이의 비밀번호를 출력한다. 비밀번호의 길이는 항상 0보다 크다.\n",
    "* 예제 입력\n",
    "    ~~~\n",
    "        2\n",
    "        <<BP<A>>Cd-\n",
    "        ThIsIsS3Cr3t\n",
    "    ~~~\n",
    "* 예제 출력\n",
    "    ~~~\n",
    "        BAPC\n",
    "        ThIsIsS3Cr3t\n",
    "    ~~~"
   ]
  },
  {
   "cell_type": "code",
   "execution_count": null,
   "metadata": {},
   "outputs": [],
   "source": [
    "test_case = int(input())\n",
    "\n",
    "for _ in range(test_case):\n",
    "    left_stack = []\n",
    "    right_stack = []\n",
    "    data = input()\n",
    "    for i in data:\n",
    "        if i == '-':\n",
    "            if left_stack:\n",
    "                left_stack.pop()\n",
    "        \n",
    "        elif i == '<':\n",
    "            if left_stack:\n",
    "                right_stack.append(left_stack.pop())\n",
    "        \n",
    "        elif i == '>':\n",
    "            if right_stack:\n",
    "                left_stack.append(right_stack.pop())\n",
    "        \n",
    "        else:\n",
    "            left_stack.append(i)\n",
    "    \n",
    "    left_stack.extend(reversed(right_stack))\n",
    "    print(''.join(left_stack))"
   ]
  },
  {
   "cell_type": "markdown",
   "metadata": {},
   "source": [
    "# Advanced Data Structure"
   ]
  },
  {
   "cell_type": "markdown",
   "metadata": {},
   "source": [
    "## 해쉬\n",
    "#### SHA-256\n",
    "* 문제\n",
    "    - 문자열 S가 주어졌을 때, SHA-256 해시값을 구하는 프로그램을 작성하시오.\n",
    "* 입력\n",
    "    - 첫째 줄에 문자열 S가 주어진다. S는 알파벳 대문자와 소문자, 그리고 숫자로만 이루어져 있으며, 길이는 최대 50이다.\n",
    "* 출력\n",
    "    - 첫째 줄에 S의 SHA-256 해시값을 출력한다.\n",
    "* 예제 입력\n",
    "    ~~~\n",
    "        Baekjoon\n",
    "    ~~~\n",
    "* 예제 출력\n",
    "    ~~~\n",
    "        9944e1862efbb2a4e2486392dc6701896416b251eccdecb8332deb7f4cf2a857\n",
    "    ~~~"
   ]
  },
  {
   "cell_type": "code",
   "execution_count": null,
   "metadata": {},
   "outputs": [],
   "source": [
    "import hashlib\n",
    "\n",
    "s = input().encode()\n",
    "hash_s = hashlib.sha256()\n",
    "hash_s.update(s)\n",
    "print(hash_s.hexdigest())"
   ]
  },
  {
   "cell_type": "markdown",
   "metadata": {},
   "source": [
    "## ??\n",
    "#### 수 찾기\n",
    "* 문제\n",
    "    - N개의 정수 A[1], A[2], …, A[N]이 주어져 있을 때, 이 안에 X라는 정수가 존재하는지 알아내는 프로그램을 작성하시오.\n",
    "* 입력\n",
    "    - 첫째 줄에 자연수 N(1 ≤ N ≤ 100,000)이 주어진다. 다음 줄에는 N개의 정수 A[1], A[2], …, A[N]이 주어진다. 다음 줄에는 M(1 ≤ M ≤ 100,000)이 주어진다. 다음 줄에는 M개의 수들이 주어지는데, 이 수들이 A안에 존재하는지 알아내면 된다. 모든 정수의 범위는 -231 보다 크거나 같고 231보다 작다.\n",
    "* 출력 \n",
    "    - M개의 줄에 답을 출력한다. 존재하면 1을, 존재하지 않으면 0을 출력한다.\n",
    "* 예제 입력\n",
    "    ~~~\n",
    "        5\n",
    "        4 1 5 2 3\n",
    "        5\n",
    "        1 3 7 9 5\n",
    "    ~~~\n",
    "* 예제 출력\n",
    "    ~~~\n",
    "        1\n",
    "        1\n",
    "        0\n",
    "        0\n",
    "        1\n",
    "    ~~~"
   ]
  },
  {
   "cell_type": "code",
   "execution_count": null,
   "metadata": {},
   "outputs": [],
   "source": [
    "n = int(input())\n",
    "arr = set(map(int, input().split()))\n",
    "m = int(input())\n",
    "x = list(map(int, input().split()))\n",
    "\n",
    "for i in x:\n",
    "    if i in arr:\n",
    "        print('1')\n",
    "    else:\n",
    "        print('0')"
   ]
  },
  {
   "cell_type": "markdown",
   "metadata": {},
   "source": [
    "## Union\n",
    "#### 친구 네트워크\n",
    "\n",
    "* 문제\n",
    "    - 민혁이는 소셜 네트워크 사이트에서 친구를 만드는 것을 좋아하는 친구이다. 우표를 모으는 취미가 있듯이, 민혁이는 소셜 네트워크 사이트에서 친구를 모으는 것이 취미이다.\n",
    "\n",
    "    - 어떤 사이트의 친구 관계가 생긴 순서대로 주어졌을 때, 두 사람의 친구 네트워크에 몇 명이 있는지 구하는 프로그램을 작성하시오.\n",
    "\n",
    "    - 친구 네트워크란 친구 관계만으로 이동할 수 있는 사이를 말한다.\n",
    "* 입력\n",
    "    - 첫째 줄에 테스트 케이스의 개수가 주어진다. 각 테스트 케이스의 첫째 줄에는 친구 관계의 수 F가 주어지며, 이 값은 100,000을 넘지 않는다. 다음 F개의 줄에는 친구 관계가 생긴 순서대로 주어진다. 친구 관계는 두 사용자의 아이디로 이루어져 있으며, 알파벳 대문자 또는 소문자로만 이루어진 길이 20 이하의 문자열이다.\n",
    "* 출력\n",
    "    - 친구 관계가 생길 때마다, 두 사람의 친구 네트워크에 몇 명이 있는지 구하는 프로그램을 작성하시오.\n",
    "* 예제 입력\n",
    "    ~~~\n",
    "    2\n",
    "    3\n",
    "    Fred Barney\n",
    "    Barney Betty\n",
    "    Betty Wilma\n",
    "    3\n",
    "    Fred Barney\n",
    "    Betty Wilma\n",
    "    Barney Betty\n",
    "    ~~~\n",
    "* 예제 출력\n",
    "    ~~~\n",
    "    2\n",
    "    3\n",
    "    4\n",
    "    2\n",
    "    2\n",
    "    4\n",
    "    ~~~\n"
   ]
  },
  {
   "cell_type": "code",
   "execution_count": null,
   "metadata": {},
   "outputs": [],
   "source": [
    "def find_set(x):\n",
    "    if x == set_of_friends[x]:\n",
    "        return x\n",
    "    else:\n",
    "        p = find_set(set_of_friends[x])\n",
    "        set_of_friends[x] = p\n",
    "        return set_of_friends[x]\n",
    "\n",
    "def check_union(x, y):\n",
    "    x = find_set(x)\n",
    "    y = find_set(y)\n",
    "    \n",
    "    if x != y:\n",
    "        set_of_friends[y] = x\n",
    "        friends_num[x] += friends_num[y]\n",
    "\n",
    "test_case_num = int(input())\n",
    "\n",
    "for _ in range(test_case_num):\n",
    "    \n",
    "    friends_num = dict()\n",
    "    set_of_friends = dict()\n",
    "    \n",
    "    c = int(input())\n",
    "    \n",
    "    for _ in range(c):\n",
    "        x, y = input().split(' ')\n",
    "        \n",
    "        if x not in set_of_friends:\n",
    "            set_of_friends[x] = x\n",
    "            friends_num[x] = 1\n",
    "        if y not in set_of_friends:\n",
    "            set_of_friends[y] = y\n",
    "            friends_num[y] = 1\n",
    "            \n",
    "        check_union(x, y)\n",
    "        \n",
    "        print(friends_num[find_set(x)])\n",
    "            "
   ]
  },
  {
   "cell_type": "markdown",
   "metadata": {},
   "source": [
    "# 힙"
   ]
  },
  {
   "cell_type": "code",
   "execution_count": null,
   "metadata": {},
   "outputs": [],
   "source": [
    "#힙 문제\n",
    "# https://programmers.co.kr/learn/courses/30/lessons/42626\n",
    "# 문제 설명\n",
    "# 매운 것을 좋아하는 Leo는 모든 음식의 스코빌 지수를 K 이상으로 만들고 싶습니다. 모든 음식의 스코빌 지수를 K 이상으로 만들기 위해 Leo는 스코빌 지수가 가장 낮은 두 개의 음식을 아래와 같이 특별한 방법으로 섞어 새로운 음식을 만듭니다.\n",
    "\n",
    "# 섞은 음식의 스코빌 지수 = 가장 맵지 않은 음식의 스코빌 지수 + (두 번째로 맵지 않은 음식의 스코빌 지수 * 2)\n",
    "# Leo는 모든 음식의 스코빌 지수가 K 이상이 될 때까지 반복하여 섞습니다.\n",
    "# Leo가 가진 음식의 스코빌 지수를 담은 배열 scoville과 원하는 스코빌 지수 K가 주어질 때, 모든 음식의 스코빌 지수를 K 이상으로 만들기 위해 섞어야 하는 최소 횟수를 return 하도록 solution 함수를 작성해주세요.\n",
    "\n",
    "# 제한 사항\n",
    "# scoville의 길이는 2 이상 1,000,000 이하입니다.\n",
    "# K는 0 이상 1,000,000,000 이하입니다.\n",
    "# scoville의 원소는 각각 0 이상 1,000,000 이하입니다.\n",
    "# 모든 음식의 스코빌 지수를 K 이상으로 만들 수 없는 경우에는 -1을 return 합니다.\n",
    "# 입출력 예\n",
    "# scoville\tK\treturn\n",
    "# [1, 2, 3, 9, 10, 12]\t7\t2\n",
    "# 입출력 예 설명\n",
    "# 스코빌 지수가 1인 음식과 2인 음식을 섞으면 음식의 스코빌 지수가 아래와 같이 됩니다.\n",
    "# 새로운 음식의 스코빌 지수 = 1 + (2 * 2) = 5\n",
    "# 가진 음식의 스코빌 지수 = [5, 3, 9, 10, 12]\n",
    "\n",
    "# 스코빌 지수가 3인 음식과 5인 음식을 섞으면 음식의 스코빌 지수가 아래와 같이 됩니다.\n",
    "# 새로운 음식의 스코빌 지수 = 3 + (5 * 2) = 13\n",
    "# 가진 음식의 스코빌 지수 = [13, 9, 10, 12]\n",
    "\n",
    "# 모든 음식의 스코빌 지수가 7 이상이 되었고 이때 섞은 횟수는 2회입니다.\n",
    "\n",
    "import heapq\n",
    "\n",
    "def solution(scoville, K):\n",
    "    heap  = []\n",
    "\n",
    "    answer = 0\n",
    "    for i in range(len(scoville)):\n",
    "        heapq.heappush(heap, scoville[i])\n",
    "\n",
    "    while heap[0] < K:\n",
    "        if len(heap) <= 1:\n",
    "            return -1\n",
    "\n",
    "        answer += 1\n",
    "        temp1 = heapq.heappop(heap)\n",
    "        temp2 = heapq.heappop(heap)\n",
    "        heapq.heappush(heap, temp1 + temp2*2)\n",
    "\n",
    "\n",
    "    return answer"
   ]
  },
  {
   "cell_type": "code",
   "execution_count": 3,
   "metadata": {},
   "outputs": [
    {
     "name": "stdout",
     "output_type": "stream",
     "text": [
      "deque([(3, 0), (9, 1), (6, 2)])\n",
      "3 0\n",
      "6 2\n",
      "9 1\n"
     ]
    },
    {
     "data": {
      "text/plain": [
       "9"
      ]
     },
     "execution_count": 3,
     "metadata": {},
     "output_type": "execute_result"
    }
   ],
   "source": [
    "# 힙 문제\n",
    "# https://programmers.co.kr/learn/courses/30/lessons/42627\n",
    "# 문제 설명\n",
    "# 하드디스크는 한 번에 하나의 작업만 수행할 수 있습니다. 디스크 컨트롤러를 구현하는 방법은 여러 가지가 있습니다. 가장 일반적인 방법은 요청이 들어온 순서대로 처리하는 것입니다.\n",
    "\n",
    "# 예를들어\n",
    "\n",
    "# - 0ms 시점에 3ms가 소요되는 A작업 요청\n",
    "# - 1ms 시점에 9ms가 소요되는 B작업 요청\n",
    "# - 2ms 시점에 6ms가 소요되는 C작업 요청\n",
    "\n",
    "# 한 번에 하나의 요청만을 수행할 수 있기 때문에 각각의 작업을 요청받은 순서대로 처리하면 다음과 같이 처리 됩니다.\n",
    "\n",
    "# - A: 3ms 시점에 작업 완료 (요청에서 종료까지 : 3ms)\n",
    "# - B: 1ms부터 대기하다가, 3ms 시점에 작업을 시작해서 12ms 시점에 작업 완료(요청에서 종료까지 : 11ms)\n",
    "# - C: 2ms부터 대기하다가, 12ms 시점에 작업을 시작해서 18ms 시점에 작업 완료(요청에서 종료까지 : 16ms)\n",
    "# 이 때 각 작업의 요청부터 종료까지 걸린 시간의 평균은 10ms(= (3 + 11 + 16) / 3)가 됩니다.\n",
    "\n",
    "# 하지만 A → C → B 순서대로 처리하면\n",
    "\n",
    "# - A: 3ms 시점에 작업 완료(요청에서 종료까지 : 3ms)\n",
    "# - C: 2ms부터 대기하다가, 3ms 시점에 작업을 시작해서 9ms 시점에 작업 완료(요청에서 종료까지 : 7ms)\n",
    "# - B: 1ms부터 대기하다가, 9ms 시점에 작업을 시작해서 18ms 시점에 작업 완료(요청에서 종료까지 : 17ms)\n",
    "# 이렇게 A → C → B의 순서로 처리하면 각 작업의 요청부터 종료까지 걸린 시간의 평균은 9ms(= (3 + 7 + 17) / 3)가 됩니다.\n",
    "\n",
    "# 각 작업에 대해 [작업이 요청되는 시점, 작업의 소요시간]을 담은 2차원 배열 jobs가 매개변수로 주어질 때, 작업의 요청부터 종료까지 걸린 시간의 평균을 가장 줄이는 방법으로 처리하면 평균이 얼마가 되는지 return 하도록 solution 함수를 작성해주세요. (단, 소수점 이하의 수는 버립니다)\n",
    "\n",
    "# 제한 사항\n",
    "# jobs의 길이는 1 이상 500 이하입니다.\n",
    "# jobs의 각 행은 하나의 작업에 대한 [작업이 요청되는 시점, 작업의 소요시간] 입니다.\n",
    "# 각 작업에 대해 작업이 요청되는 시간은 0 이상 1,000 이하입니다.\n",
    "# 각 작업에 대해 작업의 소요시간은 1 이상 1,000 이하입니다.\n",
    "# 하드디스크가 작업을 수행하고 있지 않을 때에는 먼저 요청이 들어온 작업부터 처리합니다.\n",
    "# 입출력 예\n",
    "# jobs\treturn\n",
    "# [[0, 3], [1, 9], [2, 6]]\t9\n",
    "# 입출력 예 설명\n",
    "# 문제에 주어진 예와 같습니다.\n",
    "\n",
    "# 0ms 시점에 3ms 걸리는 작업 요청이 들어옵니다.\n",
    "# 1ms 시점에 9ms 걸리는 작업 요청이 들어옵니다.\n",
    "# 2ms 시점에 6ms 걸리는 작업 요청이 들어옵니다.\n",
    "\n",
    "import heapq\n",
    "from collections import deque\n",
    "\n",
    "def solution(jobs):\n",
    "    tasks = deque(sorted([(x[1], x[0]) for x in jobs], key=lambda x: (x[1], x[0])))\n",
    "    print(tasks)\n",
    "    q = []\n",
    "    heapq.heappush(q, tasks.popleft())\n",
    "    current_time, total_response_time = 0, 0\n",
    "    \n",
    "    while len(q) > 0:\n",
    "        dur, arr = heapq.heappop(q)\n",
    "        print(dur, arr)\n",
    "        current_time = max(current_time + dur, arr + dur)\n",
    "        total_response_time += current_time - arr\n",
    "        while len(tasks) > 0 and tasks[0][1] <= current_time:\n",
    "            heapq.heappush(q, tasks.popleft())\n",
    "        if len(tasks) > 0 and len(q) == 0:\n",
    "            heapq.heappush(q, tasks.popleft())\n",
    "    return total_response_time // len(jobs)\n",
    "\n",
    "\n",
    "solution([[0, 3], [1, 9], [2, 6]])"
   ]
  },
  {
   "cell_type": "markdown",
   "metadata": {},
   "source": [
    "# 정렬\n",
    "\n",
    "#### \n",
    "\n",
    "문제 설명\n",
    "배열 array의 i번째 숫자부터 j번째 숫자까지 자르고 정렬했을 때, k번째에 있는 수를 구하려 합니다.\n",
    "\n",
    "예를 들어 array가 [1, 5, 2, 6, 3, 7, 4], i = 2, j = 5, k = 3이라면\n",
    "\n",
    "array의 2번째부터 5번째까지 자르면 [5, 2, 6, 3]입니다.\n",
    "1에서 나온 배열을 정렬하면 [2, 3, 5, 6]입니다.\n",
    "2에서 나온 배열의 3번째 숫자는 5입니다.\n",
    "배열 array, [i, j, k]를 원소로 가진 2차원 배열 commands가 매개변수로 주어질 때, commands의 모든 원소에 대해 앞서 설명한 연산을 적용했을 때 나온 결과를 배열에 담아 return 하도록 solution 함수를 작성해주세요.\n",
    "\n",
    "제한사항\n",
    "array의 길이는 1 이상 100 이하입니다.\n",
    "array의 각 원소는 1 이상 100 이하입니다.\n",
    "commands의 길이는 1 이상 50 이하입니다.\n",
    "commands의 각 원소는 길이가 3입니다.\n",
    "입출력 예\n",
    "array\tcommands\treturn\n",
    "[1, 5, 2, 6, 3, 7, 4]\t[[2, 5, 3], [4, 4, 1], [1, 7, 3]]\t[5, 6, 3]\n",
    "입출력 예 설명\n",
    "[1, 5, 2, 6, 3, 7, 4]를 2번째부터 5번째까지 자른 후 정렬합니다. [2, 3, 5, 6]의 세 번째 숫자는 5입니다.\n",
    "[1, 5, 2, 6, 3, 7, 4]를 4번째부터 4번째까지 자른 후 정렬합니다. [6]의 첫 번째 숫자는 6입니다.\n",
    "[1, 5, 2, 6, 3, 7, 4]를 1번째부터 7번째까지 자릅니다. [1, 2, 3, 4, 5, 6, 7]의 세 번째 숫자는 3입니다.\n"
   ]
  },
  {
   "cell_type": "code",
   "execution_count": null,
   "metadata": {},
   "outputs": [],
   "source": [
    "def solution(array, commands):\n",
    "    return list(map(lambda x:sorted(array[x[0]-1:x[1]])[x[2]-1], commands))"
   ]
  },
  {
   "cell_type": "markdown",
   "metadata": {},
   "source": [
    "문제 설명\n",
    "0 또는 양의 정수가 주어졌을 때, 정수를 이어 붙여 만들 수 있는 가장 큰 수를 알아내 주세요.\n",
    "\n",
    "예를 들어, 주어진 정수가 [6, 10, 2]라면 [6102, 6210, 1062, 1026, 2610, 2106]를 만들 수 있고, 이중 가장 큰 수는 6210입니다.\n",
    "\n",
    "0 또는 양의 정수가 담긴 배열 numbers가 매개변수로 주어질 때, 순서를 재배치하여 만들 수 있는 가장 큰 수를 문자열로 바꾸어 return 하도록 solution 함수를 작성해주세요.\n",
    "\n",
    "제한 사항\n",
    "numbers의 길이는 1 이상 100,000 이하입니다.\n",
    "numbers의 원소는 0 이상 1,000 이하입니다.\n",
    "정답이 너무 클 수 있으니 문자열로 바꾸어 return 합니다.\n",
    "입출력 예\n",
    "numbers\treturn\n",
    "[6, 10, 2]\t\"6210\"\n",
    "[3, 30, 34, 5, 9]\t\"9534330\""
   ]
  },
  {
   "cell_type": "code",
   "execution_count": null,
   "metadata": {},
   "outputs": [],
   "source": [
    "def solution(numbers):\n",
    "    numbers = list(map(str, numbers))\n",
    "    numbers.sort(key=lambda x: x*3, reverse=True)\n",
    "    return str(int(''.join(numbers)))"
   ]
  },
  {
   "cell_type": "code",
   "execution_count": 49,
   "metadata": {},
   "outputs": [
    {
     "data": {
      "text/plain": [
       "[2, 1, 3, 4]"
      ]
     },
     "execution_count": 49,
     "metadata": {},
     "output_type": "execute_result"
    }
   ],
   "source": [
    "import re\n",
    "from collections import Counter\n",
    "def solution(s):\n",
    "\n",
    "    s = Counter(re.findall('\\d+', s))\n",
    "    return list(map(int, [k for k, v  in sorted(s.items(), key=lambda x: x[1], reverse=True)]))\n",
    "\n",
    "\n",
    "solution(\"{{2},{2,1},{2,1,3},{2,1,3,4}}\")"
   ]
  },
  {
   "cell_type": "code",
   "execution_count": 100,
   "metadata": {},
   "outputs": [
    {
     "name": "stdout",
     "output_type": "stream",
     "text": [
      "{'fr*d*': ['frodo', 'fradi'], '*rodo': ['crodo', 'frodo'], '******': ['frodoc', 'abc123']}\n",
      "{'fr*d*': 1, '*rodo': 1, '******': 2}\n"
     ]
    },
    {
     "data": {
      "text/plain": [
       "4"
      ]
     },
     "execution_count": 100,
     "metadata": {},
     "output_type": "execute_result"
    }
   ],
   "source": [
    "import re\n",
    "from itertools import combinations\n",
    "\n",
    "def solution(user_id, banned_id):\n",
    "    answer = 1\n",
    "    tmparr = {}\n",
    "    \n",
    "    ban_dic = {}\n",
    "\n",
    "    \n",
    "    for i in range(len(banned_id)):\n",
    "        tmp = banned_id[i].replace(\"*\",\"\\w\")\n",
    "        \n",
    "        if ban_dic.get(banned_id[i], -1) != -1:\n",
    "            ban_dic[banned_id[i]] += 1\n",
    "        else:\n",
    "            ban_dic[banned_id[i]] = 1\n",
    "        \n",
    "        for j in range(len(user_id)):\n",
    "            if re.fullmatch(tmp, user_id[j])!= None:\n",
    "                \n",
    "                if tmparr.get(banned_id[i], -1) != -1:\n",
    "                    tmparr[banned_id[i]].append(user_id[j])\n",
    "                    \n",
    "                else:\n",
    "                    tmparr[banned_id[i]] =[user_id[j]]\n",
    "                    \n",
    "                    \n",
    "    for i in range(len(banned_id)):\n",
    "        tmparr[banned_id[i]] = list(set(tmparr[banned_id[i]]))\n",
    "        \n",
    "    \n",
    "    for item in tmparr:\n",
    "        answer = len(list(combinations(tmparr[item], ban_dic[item]))) * answer\n",
    "       \n",
    "    print(tmparr)\n",
    "    print(ban_dic)\n",
    "    return answer \n",
    "\n",
    "solution([\"frodo\", \"fradi\", \"crodo\", \"abc123\", \"frodoc\"], [\"fr*d*\", \"*rodo\", \"******\", \"******\"])"
   ]
  },
  {
   "cell_type": "code",
   "execution_count": 6,
   "metadata": {},
   "outputs": [
    {
     "name": "stdout",
     "output_type": "stream",
     "text": [
      "None\n"
     ]
    }
   ],
   "source": [
    "import re\n",
    "\n",
    "\n",
    "\n",
    "print(re.fullmatch(\"f\\w\\w\"+\"\\w\", \"wwew\"))"
   ]
  },
  {
   "cell_type": "code",
   "execution_count": 106,
   "metadata": {},
   "outputs": [
    {
     "name": "stdout",
     "output_type": "stream",
     "text": [
      "31.1 ns ± 0.812 ns per loop (mean ± std. dev. of 7 runs, 10000000 loops each)\n"
     ]
    },
    {
     "data": {
      "text/plain": [
       "3"
      ]
     },
     "execution_count": 106,
     "metadata": {},
     "output_type": "execute_result"
    }
   ],
   "source": [
    "%timeit None is None\n",
    "\n",
    "from itertools import permutations\n",
    "\n",
    "def isMatch(user_set, banned_set):\n",
    "    for i in range(len(user_set)):\n",
    "        if len(user_set[i])!=len(banned_set[i]):\n",
    "            return False\n",
    "        for j in range(len(user_set[i])):\n",
    "            if banned_set[i][j]=='*':\n",
    "                continue\n",
    "            if user_set[i][j]!=banned_set[i][j]:\n",
    "                return False\n",
    "    return True\n",
    "    \n",
    "def solution(user_id, banned_id):\n",
    "    ans=[]\n",
    "    for com_set in permutations(user_id, len(banned_id)):\n",
    "        if isMatch(com_set, banned_id):\n",
    "            com_set = set(com_set) # 중복 제거\n",
    "            if com_set not in ans:\n",
    "                ans.append(com_set)\n",
    "    return len(ans)\n",
    "\n",
    "solution([\"frodo\", \"fradi\", \"crodo\", \"abc123\", \"frodoc\"], [\"fr*d*\", \"*rodo\", \"******\", \"******\"])\n",
    "\n"
   ]
  },
  {
   "cell_type": "code",
   "execution_count": 113,
   "metadata": {},
   "outputs": [
    {
     "data": {
      "text/plain": [
       "3"
      ]
     },
     "execution_count": 113,
     "metadata": {},
     "output_type": "execute_result"
    }
   ],
   "source": [
    "\n",
    "\n",
    "from itertools import permutations\n",
    "\n",
    "def isMatch(user_set, banned_set):\n",
    "    for i in range(len(user_set)):\n",
    "        if len(user_set[i])!=len(banned_set[i]):\n",
    "            return False\n",
    "    \n",
    "        if re.fullmatch(banned_set[i].replace(\"*\",\"\\w\"), user_set[i])== None:\n",
    "            return False\n",
    "    \n",
    "    return True\n",
    "    \n",
    "def solution(user_id, banned_id):\n",
    "    ans=[]\n",
    "    for com_set in permutations(user_id, len(banned_id)):\n",
    "        if isMatch(com_set, banned_id):\n",
    "\n",
    "            com_set = set(com_set) # 중복 제거\n",
    "            if com_set not in ans:\n",
    "                ans.append(com_set)\n",
    "\n",
    "    return len(ans)\n",
    "\n",
    "\n",
    "solution([\"frodo\", \"fradi\", \"crodo\", \"abc123\", \"frodoc\"], [\"fr*d*\", \"*rodo\", \"******\", \"******\"])\n",
    "\n"
   ]
  }
 ],
 "metadata": {
  "kernelspec": {
   "display_name": "Python 3",
   "language": "python",
   "name": "python3"
  },
  "language_info": {
   "codemirror_mode": {
    "name": "ipython",
    "version": 3
   },
   "file_extension": ".py",
   "mimetype": "text/x-python",
   "name": "python",
   "nbconvert_exporter": "python",
   "pygments_lexer": "ipython3",
   "version": "3.7.6"
  }
 },
 "nbformat": 4,
 "nbformat_minor": 4
}
