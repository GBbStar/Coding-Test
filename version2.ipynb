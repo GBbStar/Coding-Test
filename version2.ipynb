{
 "cells": [
  {
   "cell_type": "code",
   "execution_count": 1,
   "metadata": {},
   "outputs": [],
   "source": [
    "# 배열\n",
    "list = []"
   ]
  },
  {
   "cell_type": "code",
   "execution_count": 3,
   "metadata": {},
   "outputs": [
    {
     "name": "stdout",
     "output_type": "stream",
     "text": [
      "1\n",
      "2\n",
      "(1, 'two')\n",
      "1 1 1\n"
     ]
    }
   ],
   "source": [
    "# 큐\n",
    "import queue\n",
    "\n",
    "myQueue = queue.Queue()\n",
    "myLifoQueue = queue.LifoQueue()\n",
    "myPriorityQueue = queue.PriorityQueue()\n",
    "\n",
    "myQueue.put(1)\n",
    "myQueue.put(2)\n",
    "\n",
    "myLifoQueue.put(1)\n",
    "myLifoQueue.put(2)\n",
    "\n",
    "myPriorityQueue.put((5, \"one\"))\n",
    "myPriorityQueue.put((1, \"two\"))\n",
    "\n",
    "print(myQueue.get())\n",
    "print(myLifoQueue.get())\n",
    "print(myPriorityQueue.get())\n",
    "\n",
    "print(myQueue.qsize(), myLifoQueue.qsize(), myPriorityQueue.qsize())\n",
    "\n",
    "\n",
    "def enqueue(data):\n",
    "    myQueue.append(data)\n",
    "def dequeue():\n",
    "    temp = myQueue[0]\n",
    "    del myQueue[0]\n",
    "    return temp\n",
    "\n"
   ]
  },
  {
   "cell_type": "code",
   "execution_count": null,
   "metadata": {},
   "outputs": [],
   "source": [
    "myStack = list()\n",
    "\n",
    "def push(data):\n",
    "    myStack.append(data)\n",
    "    \n",
    "def pop():\n",
    "    temp = myStack[-1]\n",
    "    del myStack[-1]\n",
    "    return temp"
   ]
  },
  {
   "cell_type": "code",
   "execution_count": 20,
   "metadata": {},
   "outputs": [
    {
     "name": "stdout",
     "output_type": "stream",
     "text": [
      "2\n"
     ]
    }
   ],
   "source": [
    "class Node:\n",
    "    def __init__ (self, data, next=None):\n",
    "        self.data = data\n",
    "        self.next = next\n",
    "    \n",
    "class NodeMgmt:\n",
    "    def __init__(self, data):\n",
    "        self.head = Node(data)\n",
    "        \n",
    "    def add(self, data):\n",
    "        if self.head == None:\n",
    "            self.head = Node(data)\n",
    "        \n",
    "        else:\n",
    "            node = self.head\n",
    "            while node.next:\n",
    "                node = node.next        \n",
    "            node.next = Node(data)\n",
    "\n",
    "    def desc(self):\n",
    "        if self.head == None:\n",
    "            print(\"비어있음\")\n",
    "            return \n",
    "        else:\n",
    "            node = self.head\n",
    "            while node:\n",
    "                print(node.data)\n",
    "                node = node.next\n",
    "        \n",
    "    \n",
    "    def delete(self, data):\n",
    "        if self.head == None:\n",
    "            return False\n",
    "        \n",
    "        elif self.head.next == None and self.head.data == data:\n",
    "            self.head = None\n",
    "            return True\n",
    "        \n",
    "        elif self.head.data == data:\n",
    "            temp = self.head\n",
    "            self.head = self.head.next\n",
    "            del temp\n",
    "            return True\n",
    "        \n",
    "        else:\n",
    "            node = self.head\n",
    "            while node.next.data != data:\n",
    "                node = node.next\n",
    "            \n",
    "            temp = node.next\n",
    "            node.next = node.next.next\n",
    "            del temp\n",
    "            return True\n",
    "        \n",
    "\n",
    "linkedlist1 = NodeMgmt(1)\n",
    "linkedlist1.add(2)\n",
    "linkedlist1.delete(1)\n",
    "\n",
    "\n",
    "linkedlist1.desc()"
   ]
  },
  {
   "cell_type": "code",
   "execution_count": null,
   "metadata": {},
   "outputs": [],
   "source": [
    "class Node:\n",
    "    def __init__(self, data, prev=None, next=None):\n",
    "        self.data = data\n",
    "        self.prev = prev\n",
    "        self.next = next\n",
    "        \n",
    "class NodeMgmt:\n",
    "    def __init__(self, data):\n",
    "        self.head = Node(data)\n",
    "        self.tail = self.head\n",
    "    \n",
    "    def insert(self,data):\n",
    "        \n",
    "        "
   ]
  }
 ],
 "metadata": {
  "kernelspec": {
   "display_name": "Python 3",
   "language": "python",
   "name": "python3"
  },
  "language_info": {
   "codemirror_mode": {
    "name": "ipython",
    "version": 3
   },
   "file_extension": ".py",
   "mimetype": "text/x-python",
   "name": "python",
   "nbconvert_exporter": "python",
   "pygments_lexer": "ipython3",
   "version": "3.7.6"
  }
 },
 "nbformat": 4,
 "nbformat_minor": 4
}
