{
 "cells": [
  {
   "cell_type": "code",
   "execution_count": 1,
   "metadata": {},
   "outputs": [],
   "source": [
    "def solution():\n",
    "    a, b = input().split(' ')\n",
    "    return a+b\n",
    "\n",
    "--\n",
    "\n",
    "print(sum(map(int,input().split())))"
   ]
  },
  {
   "cell_type": "code",
   "execution_count": null,
   "metadata": {},
   "outputs": [],
   "source": [
    "a, b = map(int,input().split())\n",
    "print(a-b)"
   ]
  },
  {
   "cell_type": "markdown",
   "metadata": {},
   "source": [
    "입력\n",
    "첫째 줄에는 최백준 조교가 가진 돈 n과 돈을 받으러 온 생명체의 수 m이 주어진다. (1 ≤ m ≤ n ≤ 101000, m과 n은 10진수 정수)\n",
    "\n",
    "출력\n",
    "첫째 줄에 생명체 하나에게 돌아가는 돈의 양을 출력한다. 그리고 두 번째 줄에는 1원씩 분배할 수 없는 남는 돈을 출력한다.\n",
    "\n",
    "예제 입력 1 \n",
    "1000 100\n",
    "예제 출력 1 \n",
    "10\n",
    "0"
   ]
  },
  {
   "cell_type": "code",
   "execution_count": 5,
   "metadata": {},
   "outputs": [
    {
     "name": "stdout",
     "output_type": "stream",
     "text": [
      "1000 33\n",
      "30\n",
      "10\n"
     ]
    }
   ],
   "source": [
    "a, b = map(int, input().split())\n",
    "print(int(a)//int(b))\n",
    "print(int(a)%int(b))\n",
    "\n",
    "## \n",
    "# / 로 나눌 경우 출력 값을 float 로 반환하지만, //로 나눌 경우 int 형으로 반환해줍니다.\n"
   ]
  },
  {
   "cell_type": "code",
   "execution_count": null,
   "metadata": {},
   "outputs": [],
   "source": [
    "째 줄에 16진수 수가 주어진다. 이 수의 최대 길이는 6글자이다. 16진수 수는 0~9와 A~F로 이루어져 있고, A~F는 10~15를 뜻한다. 또, 이 수는 음이 아닌 정수이다.\n",
    "\n",
    "출력\n",
    "첫째 줄에 입력으로 주어진 16진수 수를 10진수로 변환해 출력한다.\n",
    "\n",
    "예제 입력 1 \n",
    "A\n",
    "예제 출력 1 \n",
    "10"
   ]
  },
  {
   "cell_type": "code",
   "execution_count": 11,
   "metadata": {},
   "outputs": [
    {
     "name": "stdout",
     "output_type": "stream",
     "text": [
      "A\n",
      "10\n"
     ]
    }
   ],
   "source": [
    "#1. python hex (16진수)\n",
    "# 2. python oct (8진수)\n",
    "# 3. python bin (2진수)\n",
    "# 4. python int (x, 진수)\n",
    "\n",
    "\n",
    "print(int(input(), 16))"
   ]
  },
  {
   "cell_type": "markdown",
   "metadata": {},
   "source": [
    "입력\n",
    "첫째 줄에 A가, 둘째 줄에 B가 주어진다. 각각의 수는 10진수로 1,000자리를 넘지 않으며 양수와 음수가 모두 주어질 수 있다.\n",
    "\n",
    "출력\n",
    "첫째 줄에 A+B, 둘째 줄에 A-B, 셋째 줄에 A×B를 출력한다. 각각을 출력할 때, 답이 0인 경우를 제외하고는 0으로 시작하게 해서는 안 된다(1을 01로 출력하면 안 된다는 의미).\n",
    "\n",
    "예제 입력 1 \n",
    "1\n",
    "-1\n",
    "예제 출력 1 \n",
    "0\n",
    "2\n",
    "-1"
   ]
  },
  {
   "cell_type": "code",
   "execution_count": 12,
   "metadata": {},
   "outputs": [
    {
     "name": "stdout",
     "output_type": "stream",
     "text": [
      "1\n",
      "1\n",
      "2\n",
      "0\n",
      "1\n"
     ]
    }
   ],
   "source": [
    "a = int(input())\n",
    "b = int(input())\n",
    "\n",
    "print(a+b)\n",
    "print(a-b)\n",
    "print(a*b)"
   ]
  },
  {
   "cell_type": "markdown",
   "metadata": {},
   "source": [
    "입력\n",
    "첫째 줄에 고유번호의 처음 5자리의 숫자들이 빈칸을 사이에 두고 하나씩 주어진다.\n",
    "\n",
    "출력\n",
    "첫째 줄에 검증수를 출력한다.\n",
    "\n",
    "예제 입력 1 \n",
    "0 4 2 5 6\n",
    "예제 출력 1 \n",
    "1"
   ]
  },
  {
   "cell_type": "code",
   "execution_count": 13,
   "metadata": {},
   "outputs": [
    {
     "name": "stdout",
     "output_type": "stream",
     "text": [
      "0 4 2 5 6\n",
      "1\n"
     ]
    }
   ],
   "source": [
    "a, b, c, d, e = map(int, input().split())\n",
    "\n",
    "print((a**2 + b**2 + c**2 + d**2 + e**2)%10)"
   ]
  },
  {
   "cell_type": "code",
   "execution_count": null,
   "metadata": {},
   "outputs": [],
   "source": [
    "입력\n",
    "없음\n",
    "\n",
    "출력\n",
    "Hello World!를 출력하시오."
   ]
  },
  {
   "cell_type": "code",
   "execution_count": 14,
   "metadata": {},
   "outputs": [
    {
     "name": "stdout",
     "output_type": "stream",
     "text": [
      "Hello World!\n"
     ]
    }
   ],
   "source": [
    "print(\"Hello World!\")"
   ]
  },
  {
   "cell_type": "code",
   "execution_count": null,
   "metadata": {},
   "outputs": [],
   "source": [
    "입력\n",
    "첫째 줄에 A, 둘째 줄에 B가 주어진다. (0 < A, B < 10)\n",
    "\n",
    "출력\n",
    "첫째 줄에 A+B를 출력한다.\n",
    "\n",
    "예제 입력 1 \n",
    "1\n",
    "2\n",
    "예제 출력 1 \n",
    "3"
   ]
  },
  {
   "cell_type": "code",
   "execution_count": 15,
   "metadata": {},
   "outputs": [
    {
     "name": "stdout",
     "output_type": "stream",
     "text": [
      "1\n",
      "2\n",
      "3\n"
     ]
    }
   ],
   "source": [
    "a = int(input())\n",
    "b = int(input())\n",
    "\n",
    "print(a+b)"
   ]
  },
  {
   "cell_type": "markdown",
   "metadata": {},
   "source": [
    "입력\n",
    "첫째 줄에 1m2당 사람의 수 L (1 ≤ L ≤ 10)과 파티가 열렸던 곳의 넓이 P (1 ≤ P ≤ 1000)가 주어진다.\n",
    "\n",
    "둘째 줄에는 각 기사에 실려있는 참가자의 수가 주어진다. 106보다 작은 양의 정수 5개가 주어진다.\n",
    "\n",
    "출력\n",
    "출력은 첫째 줄에 다섯 개의 숫자를 출력해야 한다. 이 숫자는 상근이가 계산한 참가자의 수와  각 기사에 적혀있는 참가자의 수의 차이이다.\n",
    "\n",
    "예제 입력 1 \n",
    "5 20\n",
    "99 101 1000 0 97\n",
    "예제 출력 1 \n",
    "-1 1 900 -100 -3"
   ]
  },
  {
   "cell_type": "code",
   "execution_count": 19,
   "metadata": {},
   "outputs": [
    {
     "name": "stdout",
     "output_type": "stream",
     "text": [
      "5 20\n",
      "99 101 1000 0 97\n",
      "-1 1 900 -100 -3\n"
     ]
    }
   ],
   "source": [
    "a, b = map(int, input().split())\n",
    "standard = a*b\n",
    "\n",
    "n1, n2, n3, n4, n5 = map(int, input().split())\n",
    "\n",
    "print(n1-standard, n2-standard, n3-standard, n4-standard, n5-standard)"
   ]
  },
  {
   "cell_type": "code",
   "execution_count": null,
   "metadata": {},
   "outputs": [],
   "source": [
    "입력\n",
    "첫째 줄에 앨범에 수록된 곡의 개수 A와 평균값 I가 주어진다. (1 ≤ A, I ≤ 100)\n",
    "\n",
    "출력\n",
    "첫째 줄에 적어도 몇 곡이 저작권이 있는 멜로디인지 출력한다.\n",
    "\n",
    "예제 입력 1 \n",
    "38 24\n",
    "예제 출력 1 \n",
    "875"
   ]
  },
  {
   "cell_type": "code",
   "execution_count": 20,
   "metadata": {},
   "outputs": [
    {
     "name": "stdout",
     "output_type": "stream",
     "text": [
      "38 24\n",
      "875\n"
     ]
    }
   ],
   "source": [
    "a, b = map(int, input().split())\n",
    "print(a*(b-1)+1)"
   ]
  },
  {
   "cell_type": "code",
   "execution_count": null,
   "metadata": {},
   "outputs": [],
   "source": [
    "입력\n",
    "첫째 줄에 동혁이가 찾은 흰색 킹, 퀸, 룩, 비숍, 나이트, 폰의 개수가 주어진다. 이 값은 0보다 크거나 같고 10보다 작거나 같은 정수이다.\n",
    "\n",
    "출력\n",
    "첫째 줄에 입력에서 주어진 순서대로 몇 개의 피스를 더하거나 빼야 되는지를 출력한다. 만약 수가 양수라면 동혁이는 그 개수 만큼 피스를 더해야 하는 것이고, 음수라면 제거해야 하는 것이다.\n",
    "\n",
    "예제 입력 1 \n",
    "0 1 2 2 2 7\n",
    "예제 출력 1 \n",
    "1 0 0 0 0 1"
   ]
  },
  {
   "cell_type": "code",
   "execution_count": 21,
   "metadata": {},
   "outputs": [
    {
     "name": "stdout",
     "output_type": "stream",
     "text": [
      "0 1 2 2 2 7\n",
      "1 0 0 0 0 1\n"
     ]
    }
   ],
   "source": [
    "a, b, c, d, e, f = map(int, input().split())\n",
    "\n",
    "n1, n2, n3, n4, n5, n6 = 1, 1, 2, 2, 2, 8\n",
    "\n",
    "print(n1-a, n2-b, n3-c, n4-d, n5-e, n6-f)"
   ]
  },
  {
   "cell_type": "code",
   "execution_count": null,
   "metadata": {},
   "outputs": [],
   "source": [
    "입력\n",
    "첫째 줄에 두 정수 R1과 S가 주어진다. 두 수는 -1000보다 크거나 같고, 1000보다 작거나 같다.\n",
    "\n",
    "출력\n",
    "첫째 줄에 R2를 출력한다.\n",
    "\n",
    "예제 입력 1 \n",
    "11 15\n",
    "예제 출력 1 \n",
    "19\n",
    "예제 입력 2 \n",
    "4 3\n",
    "예제 출력 2 \n",
    "2"
   ]
  },
  {
   "cell_type": "code",
   "execution_count": 26,
   "metadata": {},
   "outputs": [
    {
     "name": "stdout",
     "output_type": "stream",
     "text": [
      "11 15\n",
      "19\n"
     ]
    }
   ],
   "source": [
    "a, b = map(int, input().split())\n",
    "\n",
    "print(2*b-a)"
   ]
  },
  {
   "cell_type": "code",
   "execution_count": null,
   "metadata": {},
   "outputs": [],
   "source": [
    "문제\n",
    "Welcome을 예제 출력처럼 출력하는 프로그램을 작성하시오.\n",
    "\n",
    "출력\n",
    "Welcome을 아래 예제 출력처럼 출력한다.\n",
    "\n",
    "예제 입력 1 \n",
    "예제 출력 1 \n",
    ".  .   .\n",
    "|  | _ | _. _ ._ _  _\n",
    "|/\\|(/.|(_.(_)[ | )(/."
   ]
  },
  {
   "cell_type": "code",
   "execution_count": 27,
   "metadata": {},
   "outputs": [
    {
     "name": "stdout",
     "output_type": "stream",
     "text": [
      "\n",
      ".  .   .\n",
      "|  | _ | _. _ ._ _  _\n",
      "|/\\|(/.|(_.(_)[ | )(/.\n",
      "\n"
     ]
    }
   ],
   "source": [
    "print(\"\"\"\n",
    ".  .   .\n",
    "|  | _ | _. _ ._ _  _\n",
    "|/\\|(/.|(_.(_)[ | )(/.\n",
    "\"\"\")"
   ]
  },
  {
   "cell_type": "code",
   "execution_count": 34,
   "metadata": {},
   "outputs": [
    {
     "name": "stdout",
     "output_type": "stream",
     "text": [
      "     /~\\\n",
      "    ( oo|\n",
      "    _\\=/_\n",
      "   /  _  \\\n",
      "  //|/.\\|\\\\\n",
      " ||  \\ /  ||\n",
      "============\n",
      "|          |\n",
      "|          |\n",
      "|          |\n"
     ]
    }
   ],
   "source": [
    "print(\"\"\"     /~\\\\\n",
    "    ( oo|\n",
    "    _\\=/_\n",
    "   /  _  \\\\\n",
    "  //|/.\\|\\\\\\\\\n",
    " ||  \\ /  ||\n",
    "============\n",
    "|          |\n",
    "|          |\n",
    "|          |\"\"\")"
   ]
  },
  {
   "cell_type": "code",
   "execution_count": null,
   "metadata": {},
   "outputs": [],
   "source": [
    "입력\n",
    "표준 입력에서 다음과 같은 데이터를 읽어온다.\n",
    "\n",
    "i 번째 줄(1 ≤ i ≤ 5)에는 정수 Ai가 적혀있다. 이것은 i번째 게임에서의 JOI군의 점수를 나타낸다.\n",
    "모든 입력 데이터는 다음 조건을 만족한다.\n",
    "\n",
    "0 ≤ Ai ≤ 100．\n",
    "출력\n",
    "표준 출력에 JOI군의 총점을 한 줄로 출력하라.\n",
    "\n",
    "예제 입력 1 \n",
    "1\n",
    "2\n",
    "3\n",
    "4\n",
    "5\n",
    "예제 출력 1 \n",
    "15"
   ]
  },
  {
   "cell_type": "code",
   "execution_count": 35,
   "metadata": {},
   "outputs": [
    {
     "name": "stdout",
     "output_type": "stream",
     "text": [
      "1\n",
      "2\n",
      "3\n",
      "4\n",
      "5\n",
      "15\n"
     ]
    }
   ],
   "source": [
    "a = int(input())\n",
    "b = int(input())\n",
    "c = int(input())\n",
    "d = int(input())\n",
    "e = int(input())\n",
    "\n",
    "print(a+b+c+d+e)"
   ]
  },
  {
   "cell_type": "code",
   "execution_count": null,
   "metadata": {},
   "outputs": [],
   "source": [
    "\n",
    "시간 제한\t메모리 제한\t제출\t정답\t맞은 사람\t정답 비율\n",
    "1 초\t128 MB\t5507\t4692\t4391\t86.607%\n",
    "문제\n",
    "승균이는 매일 학교, PC방, 학원에 다닌다. 반복되는 일상에 익숙해진 승균이는 이동시간을 단축해서 PC방에 더 오래 머물고 싶었다. 그래서 스톱워치를 들고 이동할 때마다 기록을 잰 후 집에 가서 분석해보기로 했다.\n",
    "\n",
    "집에 도착한 승균이는 측정한 결과를 보는 데, 전부 초 단위로 기록되어있다! 맨날 놀기만 해서 총 이동 시간이 몇 분 몇 초인지 계산을 못 하는 승균이를 도와주자.\n",
    "\n",
    "하루 동안 측정한 결과가 주어지면, 이날의 총 이동 시간이 몇 분 몇 초인지 출력하는 프로그램을 작성하시오.\n",
    "\n",
    "입력\n",
    "입력은 총 4줄이며, 한 줄에 하나씩 양의 정수가 적혀있다.\n",
    "\n",
    "첫 번째 줄에 집에서 학교까지의 이동 시간을 나타내는 초가 주어진다.\n",
    "두 번째 줄에 학교에서 PC방까지의 이동 시간을 나타내는 초가 주어진다.\n",
    "세 번째 줄에 PC방에서 학원까지의 이동 시간을 나타내는 초가 주어진다. \n",
    "마지막 줄에 학원에서 집까지의 이동 시간을 나타내는 초가 주어진다.\n",
    "집에 늦게 가면 혼나기 때문에, 총 이동시간은 항상 1 분 0 초 이상 59 분 59 초 이하이다.\n",
    "\n",
    "출력\n",
    "총 이동시간 x 분 y 초를 출력한다. 첫 번째 줄에 x를, 두 번째 줄에 y를 출력한다.\n",
    "\n",
    "예제 입력 1 \n",
    "31\n",
    "34\n",
    "7\n",
    "151\n",
    "예제 출력 1 \n",
    "3\n",
    "43"
   ]
  },
  {
   "cell_type": "code",
   "execution_count": 36,
   "metadata": {},
   "outputs": [
    {
     "name": "stdout",
     "output_type": "stream",
     "text": [
      "31\n",
      "34\n",
      "7\n",
      "151\n",
      "3\n",
      "43\n"
     ]
    }
   ],
   "source": [
    "a = int(input())\n",
    "b = int(input())\n",
    "c = int(input())\n",
    "d = int(input())\n",
    "\n",
    "print((a+b+c+d)//60)\n",
    "print((a+b+c+d)%60)\n"
   ]
  },
  {
   "cell_type": "code",
   "execution_count": null,
   "metadata": {},
   "outputs": [],
   "source": [
    "입력\n",
    "The input consists of two integers, each on a separate line. The first line is the age Y of the youngest child (0 ≤ Y ≤ 50). The second line is the age M of the middle child (Y ≤ M ≤ 50).\n",
    "\n",
    "출력\n",
    "The output will be the age of the oldest child.\n",
    "\n",
    "예제 입력 1 \n",
    "12\n",
    "15\n",
    "예제 출력 1 \n",
    "18"
   ]
  },
  {
   "cell_type": "code",
   "execution_count": 38,
   "metadata": {},
   "outputs": [
    {
     "name": "stdout",
     "output_type": "stream",
     "text": [
      "12\n",
      "15\n",
      "18\n"
     ]
    }
   ],
   "source": [
    "a = int(input())\n",
    "b = int(input())\n",
    "\n",
    "print(b+(b-a))"
   ]
  },
  {
   "cell_type": "code",
   "execution_count": null,
   "metadata": {},
   "outputs": [],
   "source": [
    "입력\n",
    "In the first and only line of the standard input there are four integers n1, k1, n2 and k2 (1 ≤ n1, k1, n2, k2 ≤ 1 000), separated by single spaces.\n",
    "\n",
    "출력\n",
    "The first and only line of the standard output should contain one integer - the total number of seats available in the plane.\n",
    "\n",
    "예제 입력 1 \n",
    "2 5 3 20\n",
    "예제 출력 1 \n",
    "70"
   ]
  },
  {
   "cell_type": "code",
   "execution_count": 39,
   "metadata": {},
   "outputs": [
    {
     "name": "stdout",
     "output_type": "stream",
     "text": [
      "2 5 3 20\n",
      "70\n"
     ]
    }
   ],
   "source": [
    "a, b, c, d = map(int, input().split())\n",
    "\n",
    "print(a*b + c*d)"
   ]
  },
  {
   "cell_type": "code",
   "execution_count": null,
   "metadata": {},
   "outputs": [],
   "source": [
    "입력\n",
    "첫째 줄에 n (1 ≤ n ≤ 10,000)이 주어진다.\n",
    "\n",
    "출력\n",
    "1부터 n까지 합을 출력한다.\n",
    "\n",
    "예제 입력 1 \n",
    "3\n",
    "예제 출력 1 \n",
    "6"
   ]
  },
  {
   "cell_type": "code",
   "execution_count": 45,
   "metadata": {},
   "outputs": [
    {
     "name": "stdout",
     "output_type": "stream",
     "text": [
      "3\n",
      "6\n"
     ]
    }
   ],
   "source": [
    "a = int(input())\n",
    "b = 0\n",
    "for i in range(a):\n",
    "    b = b+(i+1)\n",
    "\n",
    "print(b)\n",
    "#import math\n",
    "\n",
    "# >>> math.factorial(5)\n",
    "\n",
    "\n"
   ]
  },
  {
   "cell_type": "code",
   "execution_count": 46,
   "metadata": {},
   "outputs": [
    {
     "name": "stdout",
     "output_type": "stream",
     "text": [
      "    8888888888  888    88888\n",
      "   88     88   88 88   88  88\n",
      "    8888  88  88   88  88888\n",
      "       88 88 888888888 88   88\n",
      "88888888  88 88     88 88    888888\n",
      "\n",
      "88  88  88   888    88888    888888\n",
      "88  88  88  88 88   88  88  88\n",
      "88 8888 88 88   88  88888    8888\n",
      " 888  888 888888888 88  88      88\n",
      "  88  88  88     88 88   88888888\n"
     ]
    }
   ],
   "source": [
    "print(\"\"\"    8888888888  888    88888\n",
    "   88     88   88 88   88  88\n",
    "    8888  88  88   88  88888\n",
    "       88 88 888888888 88   88\n",
    "88888888  88 88     88 88    888888\n",
    "\n",
    "88  88  88   888    88888    888888\n",
    "88  88  88  88 88   88  88  88\n",
    "88 8888 88 88   88  88888    8888\n",
    " 888  888 888888888 88  88      88\n",
    "  88  88  88     88 88   88888888\"\"\")"
   ]
  },
  {
   "cell_type": "code",
   "execution_count": 47,
   "metadata": {},
   "outputs": [
    {
     "name": "stdout",
     "output_type": "stream",
     "text": [
      "SHIP NAME      CLASS          DEPLOYMENT IN SERVICE\n",
      "N2 Bomber      Heavy Fighter  Limited    21        \n",
      "J-Type 327     Light Combat   Unlimited  1         \n",
      "NX Cruiser     Medium Fighter Limited    18        \n",
      "N1 Starfighter Medium Fighter Unlimited  25        \n",
      "Royal Cruiser  Light Combat   Limited    4         \n"
     ]
    }
   ],
   "source": [
    "print(\"\"\"SHIP NAME      CLASS          DEPLOYMENT IN SERVICE\n",
    "N2 Bomber      Heavy Fighter  Limited    21        \n",
    "J-Type 327     Light Combat   Unlimited  1         \n",
    "NX Cruiser     Medium Fighter Limited    18        \n",
    "N1 Starfighter Medium Fighter Unlimited  25        \n",
    "Royal Cruiser  Light Combat   Limited    4         \"\"\")"
   ]
  },
  {
   "cell_type": "code",
   "execution_count": null,
   "metadata": {},
   "outputs": [],
   "source": [
    "입력\n",
    "첫째 줄에 A, B, C가 순서대로 주어진다. (2 ≤ A, B, C ≤ 10000)\n",
    "\n",
    "출력\n",
    "첫째 줄에 (A+B)%C, 둘째 줄에 ((A%C) + (B%C))%C, 셋째 줄에 (A×B)%C, 넷째 줄에 ((A%C) × (B%C))%C를 출력한다.\n",
    "\n",
    "예제 입력 1 \n",
    "5 8 4\n",
    "예제 출력 1 \n",
    "1\n",
    "1\n",
    "0\n",
    "0"
   ]
  },
  {
   "cell_type": "code",
   "execution_count": 50,
   "metadata": {},
   "outputs": [
    {
     "name": "stdout",
     "output_type": "stream",
     "text": [
      "5 8 4\n",
      "1\n",
      "1\n",
      "0\n",
      "0\n"
     ]
    }
   ],
   "source": [
    "A, B, C = map(int, input().split())\n",
    "\n",
    "print((A+B)%C)\n",
    "print(((A%C) + (B%C))%C)\n",
    "print((A*B)%C)\n",
    "print(((A%C) * (B%C))%C)"
   ]
  },
  {
   "cell_type": "code",
   "execution_count": null,
   "metadata": {},
   "outputs": [],
   "source": [
    "입력\n",
    "입력은 없다.\n",
    "\n",
    "출력\n",
    "서울의 오늘 날짜를 \"YYYY-MM-DD\" 형식으로 출력한다.\n",
    "\n",
    "예제 입력 1 \n",
    "예제 출력 1 \n",
    "2015-01-24"
   ]
  },
  {
   "cell_type": "code",
   "execution_count": 51,
   "metadata": {},
   "outputs": [
    {
     "name": "stdout",
     "output_type": "stream",
     "text": [
      "2021-04-30\n"
     ]
    }
   ],
   "source": [
    "import datetime\n",
    "print(str(datetime.datetime.now())[:10])\n",
    "\n",
    "import datetime\n",
    "now = datetime.datetime.now()\n",
    "print(now.strftime('%Y-%m-%d'))"
   ]
  },
  {
   "cell_type": "code",
   "execution_count": null,
   "metadata": {},
   "outputs": [],
   "source": [
    "입력\n",
    "첫째 줄에 A와 B가 주어진다. (0 < A,B < 1010000)\n",
    "\n",
    "출력\n",
    "첫째 줄에 A+B를 출력한다.\n",
    "\n",
    "예제 입력 1 \n",
    "9223372036854775807 9223372036854775808\n",
    "예제 출력 1 \n",
    "18446744073709551615"
   ]
  },
  {
   "cell_type": "code",
   "execution_count": 52,
   "metadata": {},
   "outputs": [
    {
     "name": "stdout",
     "output_type": "stream",
     "text": [
      "9223372036854775807 9223372036854775808\n",
      "18446744073709551615\n"
     ]
    }
   ],
   "source": [
    "a,b = map(int, input().split())\n",
    "print(a+b)"
   ]
  },
  {
   "cell_type": "code",
   "execution_count": null,
   "metadata": {},
   "outputs": [],
   "source": [
    "입력\n",
    "첫째 줄에 준하가 가입하려고 하는 사이트에 이미 존재하는 아이디가 주어진다. 아이디는 알파벳 소문자로만 이루어져 있으며, 길이는 50자를 넘지 않는다.\n",
    "\n",
    "출력\n",
    "첫째 줄에 준하의 놀람을 출력한다. 놀람은 아이디 뒤에 ??!를 붙여서 나타낸다.\n",
    "\n",
    "예제 입력 1 \n",
    "joonas\n",
    "예제 출력 1 \n",
    "joonas??!"
   ]
  },
  {
   "cell_type": "code",
   "execution_count": 54,
   "metadata": {},
   "outputs": [
    {
     "name": "stdout",
     "output_type": "stream",
     "text": [
      "joonas\n",
      "joonas??!\n"
     ]
    }
   ],
   "source": [
    "a = input()\n",
    "print(a+\"??!\")"
   ]
  },
  {
   "cell_type": "code",
   "execution_count": null,
   "metadata": {},
   "outputs": [],
   "source": [
    "문제\n",
    "한글의 각 글자는 초성, 중성, 종성으로 이루어져 있고, 이 세 가지를 모아써서 한 글자를 나타낸다.\n",
    "\n",
    "초성은 ㄱ, ㄲ, ㄴ, ㄷ, ㄸ, ㄹ, ㅁ, ㅂ, ㅃ, ㅅ, ㅆ, ㅇ, ㅈ, ㅉ, ㅊ, ㅋ, ㅌ, ㅍ, ㅎ로 총 19개가 있고, 중성은 ㅏ, ㅐ, ㅑ, ㅒ, ㅓ, ㅔ, ㅕ ㅖ, ㅗ, ㅘ, ㅙ, ㅚ, ㅛ, ㅜ, ㅝ, ㅞ, ㅟ, ㅠ, ㅡ, ㅢ, ㅣ로 총 21개, 종성은 없음, ㄱ, ㄲ, ㄳ, ㄴ, ㄵ, ㄶ, ㄷ, ㄹ, ㄺ, ㄻ, ㄼ, ㄽ, ㄾ, ㄿ, ㅀ, ㅁ, ㅂ, ㅄ, ㅅ, ㅆ, ㅇ, ㅈ, ㅊ, ㅋ, ㅌ, ㅍ, ㅎ로 총 28개가 있다.\n",
    "\n",
    "첫 번째 글자는 초성에서 ㄱ, 중성에서 ㅏ, 종성에서 없음을 합친 \"가\"가 되고, 두 번째 글자는 초성에서 ㄱ, 중성에서 ㅏ, 종성에서 ㄱ을 합친 \"각\"이 된다. 마지막 글자는 초성에서 ㅎ, 중성에서 ㅣ, 종성에서 ㅎ를 합친 \"힣\"이 된다.\n",
    "\n",
    "초성과 중성, 그리고 종성을 합쳐서 만들 수 있는 글자의 개수는 총 19*21*28 = 11,172개가 된다.\n",
    "\n",
    "한글이 주어졌을 때, 몇 번째 글자인지 구하는 프로그램을 작성하시오.\n",
    "\n",
    "입력\n",
    "첫째 줄에 글자 하나가 주어진다. 주어지는 글자는 UTF-8로 인코딩 되어 있는 한글이며, 문제 설명에 나온 방법으로 만들 수 있다.\n",
    "\n",
    "출력\n",
    "입력으로 주어진 글자가 몇 번째인지 출력한다.\n",
    "\n",
    "예제 입력 1 \n",
    "가\n",
    "예제 출력 1 \n",
    "1\n",
    "예제 입력 2 \n",
    "힣\n",
    "예제 출력 2 \n",
    "11172\n",
    "예제 입력 3 \n",
    "백\n",
    "예제 출력 3 \n",
    "4146\n",
    "예제 입력 4 \n",
    "준\n",
    "예제 출력 4 \n",
    "7425"
   ]
  },
  {
   "cell_type": "code",
   "execution_count": 71,
   "metadata": {},
   "outputs": [
    {
     "name": "stdout",
     "output_type": "stream",
     "text": [
      "가\n",
      "1\n"
     ]
    }
   ],
   "source": [
    "print(ord(input()) - ord(\"가\") + 1)\n",
    "\n",
    "# ord(\"가\") = 44031이라는 결과를 반환해주고 그 이후에 글자들은 44032, 44033,...  순서대로 저장돼 있었다. \n",
    "\n",
    "# print(ord(input()) - ord(\"가\") + 1)"
   ]
  },
  {
   "cell_type": "code",
   "execution_count": null,
   "metadata": {},
   "outputs": [],
   "source": [
    "아스키코드를 값으로 출력"
   ]
  },
  {
   "cell_type": "code",
   "execution_count": 74,
   "metadata": {},
   "outputs": [
    {
     "name": "stdout",
     "output_type": "stream",
     "text": [
      "A\n",
      "65\n"
     ]
    }
   ],
   "source": [
    "print(ord(input()))"
   ]
  },
  {
   "cell_type": "code",
   "execution_count": null,
   "metadata": {},
   "outputs": [],
   "source": [
    "입력\n",
    "첫째 줄에 관중석의 크기를 나타내는 N, M과 잃어버린 관중석 번호를 나타내는 K가 주어진다. (1 <= N, M <= 30,000, 0 <= K <= N*M-1)\n",
    "\n",
    "출력\n",
    "욱제의 잃어버린 자리를 찾아서, 잃어버린 자리의 좌표 (n, m)를 하나의 공백을 사이에 두고 숫자만 출력한다.\n",
    "\n",
    "예제 입력 1 \n",
    "3 4 6\n",
    "예제 출력 1 \n",
    "1 2\n",
    "예제 입력 2 \n",
    "6 4 14\n",
    "예제 출력 2 \n",
    "3 2"
   ]
  },
  {
   "cell_type": "code",
   "execution_count": 77,
   "metadata": {},
   "outputs": [
    {
     "name": "stdout",
     "output_type": "stream",
     "text": [
      "6 4 14\n",
      "3 2\n"
     ]
    }
   ],
   "source": [
    "a, b, c = map(int, input().split())\n",
    "print(c//b, c - b*(c//b))"
   ]
  },
  {
   "cell_type": "code",
   "execution_count": null,
   "metadata": {},
   "outputs": [],
   "source": [
    "입력\n",
    "첫째 줄에 성우의 현재 위치와 민건이의 집까지의 거리 L(1 ≤ L ≤ 1,000,000)가 주어진다.\n",
    "\n",
    "출력\n",
    "성우가 최소 t분만에 민건이를 찾을 수 있을 때, t 이상의 가장 작은 정수를 출력한다.\n",
    "\n",
    "예제 입력 1 \n",
    "12\n",
    "예제 출력 1 \n",
    "3\n"
   ]
  },
  {
   "cell_type": "code",
   "execution_count": 82,
   "metadata": {},
   "outputs": [
    {
     "name": "stdout",
     "output_type": "stream",
     "text": [
      "10\n",
      "2\n"
     ]
    }
   ],
   "source": [
    "import math\n",
    "\n",
    "print(math.ceil(int(input())/5))\n",
    "\n",
    "# 올림, 내림, 버림\n",
    "# 올림,내림,버림을 하기위해서 math 클래스안의 ceil, floor, trunc 함수를 사용해야한다.\n",
    "\n",
    "# math.ceil(i) : 올림\n",
    "\n",
    "# math.floor(i) : 내림\n",
    "\n",
    "# math.trunc(i) : 버림"
   ]
  },
  {
   "cell_type": "code",
   "execution_count": null,
   "metadata": {},
   "outputs": [],
   "source": [
    "입력\n",
    "첫 번째 줄에 가장 아랫부분의 정사각형 개수 n이 주어진다. (1 ≤ n ≤ 109)\n",
    "\n",
    "출력\n",
    "첫 번째 줄에 형석이가 말해야 하는 답을 출력한다.\n",
    "\n",
    "예제 입력 1 \n",
    "1\n",
    "예제 출력 1 \n",
    "4\n",
    "예제 입력 2 \n",
    "3\n",
    "예제 출력 2 \n",
    "12"
   ]
  },
  {
   "cell_type": "code",
   "execution_count": 83,
   "metadata": {},
   "outputs": [
    {
     "name": "stdout",
     "output_type": "stream",
     "text": [
      "3\n",
      "9\n"
     ]
    }
   ],
   "source": [
    "print(int(input())*4 )"
   ]
  },
  {
   "cell_type": "code",
   "execution_count": null,
   "metadata": {},
   "outputs": [],
   "source": [
    "\n",
    "시간 제한\t메모리 제한\t제출\t정답\t맞은 사람\t정답 비율\n",
    "2 초 (추가 시간 없음)\t128 MB\t2990\t2197\t2040\t74.862%\n",
    "문제\n",
    "2018 SCAL-MOOKJA에 출전하기로 한 무근이와 인서는 대회 준비를 위해 같이 모여 문제를 풀기로 했다.\n",
    "\n",
    "그런데 어느 날, 일어나서 날짜를 확인해 보니 무근이와 인서의 시계가 서로 다른 날짜를 가리키고 있었다. 두 사람이 정확한 날짜에 모일 수 있도록 문제를 푸는 지금 시각이 UTC+0(세계 표준시)을 기준으로 무슨 날짜인지 출력해 주는 프로그램을 작성하자.\n",
    "\n",
    "만약 서울에서 확인한 시각이 2018년 9월 29일 오후 2시 정각이라면 UTC+0 기준의 시각은 2018년 9월 29일 오전 5시 정각이다.\n",
    "\n",
    "Fri Sep 29 05:00:00 UTC 2018\n",
    "입력\n",
    "이 문제는 입력이 없다.\n",
    "\n",
    "출력\n",
    "지금 시각을 UTC+0(세계 표준시)을 기준으로 나타냈을 때의 연도, 월, 일을 한 줄에 하나씩 순서대로 출력한다.\n",
    "\n",
    "예제 입력 1 \n",
    "예제 출력 1 \n",
    "2018\n",
    "09\n",
    "29"
   ]
  },
  {
   "cell_type": "code",
   "execution_count": 85,
   "metadata": {},
   "outputs": [
    {
     "name": "stdout",
     "output_type": "stream",
     "text": [
      "2021\n",
      "4\n",
      "29\n"
     ]
    }
   ],
   "source": [
    "import datetime\n",
    "now = datetime.datetime.now() - datetime.timedelta(hours=9) #한국시간으로 나오니 수정해준다\n",
    "\n",
    "print(now.year)\n",
    "print(now.month)\n",
    "print(now.day)"
   ]
  },
  {
   "cell_type": "code",
   "execution_count": null,
   "metadata": {},
   "outputs": [],
   "source": [
    "문제\n",
    "톰은 마트에서 치즈 1kg 을 사서 집으로 돌아왔습니다.\n",
    "\n",
    "그런데 톰이 한눈을 판 사이 제리가 와서 A/B kg 만큼 훔쳐갔습니다.\n",
    "\n",
    "제리가 치즈를 훔쳐 간 후 톰이 가지고 있는 치즈의 무게는 얼마인가요?\n",
    "\n",
    "입력\n",
    "첫 번째 줄에 두 정수 A, B (1 ≤ A < B ≤ 9) 가 주어집니다. \n",
    "\n",
    "A와 B는 서로소임이 보장됩니다.\n",
    "\n",
    "출력\n",
    "정답을 기약분수로 표현했을 때 P/Q kg 이라면 첫 번째 줄에 P와 Q를 공백을 사이에 두고 출력합니다. \n",
    "\n",
    "예제 입력 1 \n",
    "2 7\n",
    "예제 출력 1 \n",
    "5 7\n",
    "예제 입력 2 \n",
    "5 8\n",
    "예제 출력 2 \n",
    "3 8"
   ]
  },
  {
   "cell_type": "code",
   "execution_count": 91,
   "metadata": {},
   "outputs": [
    {
     "name": "stdout",
     "output_type": "stream",
     "text": [
      "2 7\n",
      "5 7\n"
     ]
    }
   ],
   "source": [
    "# import fractions\n",
    "\n",
    "# fractions.Fraction(2,8) #알아서 기약분수로 변환\n",
    "\n",
    "# Fraction객체로 사칙연산도 가능\n",
    "# 분수를 Fraction객체로 다루는 것 까지는 좋은데 분자, 분모값을 따로 받아오고 싶을때는?\n",
    "\n",
    "# numerator, denominator 메소드를 이용하면 됩니다. (각각 분자, 분모라는 뜻)\n",
    "\n",
    "# 이번엔 최대공약수를 구해봅시다.\n",
    "\n",
    "# gcd 메소드를 이용합니다. (gcd: greatest common divisor, 최대공약수)\n",
    "\n",
    "# >>> import fractions\n",
    "# >>> fractions.gcd(10, 25) #10과 25의 최대공약수\n",
    "# 5\n",
    "# >>> fractions.gcd(7, 9) #7과 9의 최대공약수\n",
    "# 1\n",
    "import fractions\n",
    "\n",
    "a, b = map(int, input().split())\n",
    "c = fractions.Fraction(1,1) - fractions.Fraction(a,b)\n",
    "print(c.numerator, c.denominator)"
   ]
  },
  {
   "cell_type": "code",
   "execution_count": null,
   "metadata": {},
   "outputs": [],
   "source": [
    "입력\n",
    "첫째 줄에 케이크 수 a를 구성하는 자연수 a.x, a.y, a.z 가 차례대로 주어진다. (1 ≤ a.x, a.y, a.z ≤ 100)\n",
    "\n",
    "둘째 줄에 케이크 수 c를 구성하는 자연수 c.x, c.y, c.z 가 차례대로 주어진다. (1 ≤ c.x, c.y, c.z ≤ 100)\n",
    "\n",
    "출력\n",
    "문제의 조건을 만족하는 b.x, b.y, b.z를 하나의 공백을 사이에 두고 차례대로 출력한다.\n",
    "\n",
    "b는 1 ≤ b.x, b.y, b.z ≤ 100 이고 반드시 유일하게 존재한다.\n",
    "\n",
    "예제 입력 1 \n",
    "15 16 17\n",
    "19 32 90\n",
    "예제 출력 1 \n",
    "2 2 75\n",
    "예제 입력 2 \n",
    "15 8 15\n",
    "22 8 22\n",
    "예제 출력 2 \n",
    "7 1 7"
   ]
  },
  {
   "cell_type": "code",
   "execution_count": 93,
   "metadata": {},
   "outputs": [
    {
     "name": "stdout",
     "output_type": "stream",
     "text": [
      "15 8 15\n",
      "22 8 22\n",
      "7 1 7\n"
     ]
    }
   ],
   "source": [
    "ax, bx, cx = map(int, input().split())\n",
    "ay, by, cy = map(int, input().split())\n",
    "\n",
    "print(ay-cx, by//bx, cy-ax)"
   ]
  },
  {
   "cell_type": "code",
   "execution_count": null,
   "metadata": {},
   "outputs": [],
   "source": [
    "입력\n",
    "첫 번째 줄에 여름의 일 수 N (2 ≤ N ≤ 90) 과 스타후르츠가 자라는데 걸리는 일 수 T (1 ≤ T ≤ N-1) 와 스타후르츠를 심을 수 있는 칸의 수 C (1 ≤ C ≤ 300) 와 스타후르츠 개당 가격 정수 P (1 ≤ P ≤ 1,000) 가 주어집니다.\n",
    "\n",
    "출력\n",
    "첫 번째 줄에 진수가 여름 동안 스타후르츠를 팔아 벌 수 있는 수익을 출력합니다.\n",
    "\n",
    "예제 입력 1 \n",
    "7 3 2 750\n",
    "예제 출력 1 \n",
    "3000\n",
    "1일에 스타후르츠를 2개 심으면 4일에 스타후르츠 2개를 수확할 수 있고 4일에 스타후르츠를 2개 심으면 7일에 스타후르츠 2개를 수확하여 총 4개를 수확할 수 있습니다. 개당 가격이 750원이므로 여름동안 4 * 750 = 3000원을 벌 수 있습니다.\n",
    "\n",
    "예제 입력 2 \n",
    "60 10 300 1000\n",
    "예제 출력 2 \n",
    "1500000\n"
   ]
  },
  {
   "cell_type": "code",
   "execution_count": 2,
   "metadata": {},
   "outputs": [
    {
     "name": "stdout",
     "output_type": "stream",
     "text": [
      "60 10 300 1000\n",
      "1500000\n"
     ]
    }
   ],
   "source": [
    "a, b, c, d = map(int, input().split())\n",
    "print((a-1)//b * c * d)"
   ]
  },
  {
   "cell_type": "code",
   "execution_count": null,
   "metadata": {},
   "outputs": [],
   "source": [
    "문제\n",
    "선린인터넷고등학교의 한 학생은 프로그래밍 대회에 참가하여 거액의 상금을 수상하는 영광을 누리게 되었다. 하지만, 이 학생이 상금 금액의 전부를 수령하게 되는 것은 아니다. 상금의 일부를 제세공과금으로 납부하고, 나머지 금액을 수령하게 된다.\n",
    "\n",
    "일반적으로, 대회에서 상금을 받으면 전체 금액의 22%를 제세공과금으로 국가에 납부하고, 나머지 금액을 수령하게 된다. 하지만, 상금의 80%를 필요 경비로 인정하게 되면, 나머지 20% 중 22%만을 제세공과금으로 납부해도 된다.\n",
    "\n",
    "대회 상금의 금액이 주어질 때, 다음 두 경우 각각에 대해 이 학생이 실제로 수령하는 금액을 구해보자.\n",
    "\n",
    "전체 상금의 22%를 제세공과금으로 납부하는 경우\n",
    "상금의 80%를 필요 경비로 인정받고, 나머지 금액 중 22%만을 제세공과금으로 납부하는 경우\n",
    "입력\n",
    "상금의 금액을 나타내는 하나의 정수 이 주어진다.\n",
    "\n",
    "출력\n",
    "1번 경우에 대한 답과 2번 경우에 대한 답을 사이에 공백을 두고 출력한다.\n",
    "\n",
    "제한\n",
    "은 의 배수\n",
    "예제 입력 1 \n",
    "10000000\n",
    "예제 출력 1 \n",
    "7800000 9560000\n",
    "예제 입력 2 \n",
    "1000\n",
    "예제 출력 2 \n",
    "780 956"
   ]
  },
  {
   "cell_type": "code",
   "execution_count": 5,
   "metadata": {},
   "outputs": [
    {
     "name": "stdout",
     "output_type": "stream",
     "text": [
      "1000\n",
      "780 956\n"
     ]
    }
   ],
   "source": [
    "a = int(input())\n",
    "print(int(a*0.78),int(a - (a*0.2*0.22)))"
   ]
  },
  {
   "cell_type": "code",
   "execution_count": 6,
   "metadata": {},
   "outputs": [
    {
     "name": "stdout",
     "output_type": "stream",
     "text": [
      "0.3333333333333333\n"
     ]
    }
   ],
   "source": [
    "print(1/3)"
   ]
  },
  {
   "cell_type": "code",
   "execution_count": null,
   "metadata": {},
   "outputs": [],
   "source": [
    "문제\n",
    "재원이는 한 도시의 시장이 되었다. 이 도시에는 도시를 동쪽과 서쪽으로 나누는 큰 일직선 모양의 강이 흐르고 있다. 하지만 재원이는 다리가 없어서 시민들이 강을 건너는데 큰 불편을 겪고 있음을 알고 다리를 짓기로 결심하였다. 강 주변에서 다리를 짓기에 적합한 곳을 사이트라고 한다. 재원이는 강 주변을 면밀히 조사해 본 결과 강의 서쪽에는 N개의 사이트가 있고 동쪽에는 M개의 사이트가 있다는 것을 알았다. (N ≤ M)\n",
    "\n",
    "재원이는 서쪽의 사이트와 동쪽의 사이트를 다리로 연결하려고 한다. (이때 한 사이트에는 최대 한 개의 다리만 연결될 수 있다.) 재원이는 다리를 최대한 많이 지으려고 하기 때문에 서쪽의 사이트 개수만큼 (N개) 다리를 지으려고 한다. 다리끼리는 서로 겹쳐질 수 없다고 할 때 다리를 지을 수 있는 경우의 수를 구하는 프로그램을 작성하라.\n",
    "\n",
    "\n",
    "\n",
    "입력\n",
    "입력의 첫 줄에는 테스트 케이스의 개수 T가 주어진다. 그 다음 줄부터 각각의 테스트케이스에 대해 강의 서쪽과 동쪽에 있는 사이트의 개수 정수 N, M (0 < N ≤ M < 30)이 주어진다.\n",
    "\n",
    "출력\n",
    "각 테스트 케이스에 대해 주어진 조건하에 다리를 지을 수 있는 경우의 수를 출력한다.\n",
    "\n",
    "예제 입력 1 \n",
    "3\n",
    "2 2\n",
    "1 5\n",
    "13 29\n",
    "예제 출력 1 \n",
    "1\n",
    "5\n",
    "67863915"
   ]
  },
  {
   "cell_type": "code",
   "execution_count": null,
   "metadata": {},
   "outputs": [],
   "source": [
    "문제\n",
    "8진수가 주어졌을 때, 2진수로 변환하는 프로그램을 작성하시오.\n",
    "\n",
    "입력\n",
    "첫째 줄에 8진수가 주어진다. 주어지는 수의 길이는 333,334을 넘지 않는다.\n",
    "\n",
    "출력\n",
    "첫째 줄에 주어진 수를 2진수로 변환하여 출력한다. 수가 0인 경우를 제외하고는 반드시 1로 시작해야 한다.\n",
    "\n",
    "예제 입력 1 \n",
    "314\n",
    "예제 출력 1 \n",
    "11001100"
   ]
  },
  {
   "cell_type": "code",
   "execution_count": 21,
   "metadata": {},
   "outputs": [
    {
     "name": "stdout",
     "output_type": "stream",
     "text": [
      "314\n",
      "11001100\n"
     ]
    }
   ],
   "source": [
    "# 다른 진수의 형태로 숫자를 표현하기\n",
    "# 파이썬에서는 기본적으로 10진수 형태로 숫자를 표현하기 때문에 다른 진수의 형태로 숫자를 표현하려면 다음과 같이 숫자 앞에 접두어를 붙여줘야 합니다.\n",
    "\n",
    "# 2진수: 0b\n",
    "# 8진수: 0o\n",
    "# 16진수: 0x\n",
    "# 다른 진수의 문자열로 숫자형으로 변환하기\n",
    "# bin(), oct(), hex()로 변환한 문자열들을 어떻게 다시 숫자로 변환할 수 있을까요? 평소에 문자열을 숫자로 바꾸기 위해서 자주 사용하시던 int() 함수에 진수의 base 값을 추가 인자로 넘겨주시면 됩니다.\n",
    "\n",
    "# >>> int('0b101010', 2)\n",
    "# 42\n",
    "# >>> int('0o52', 8)\n",
    "# 42\n",
    "# >>> int('0x2a', 16)\n",
    "# format(42, 'b')\n",
    "# >'101010'\n",
    "\n",
    "x = \"0o\"+input()\n",
    "print(format(int(x,8),'b'))"
   ]
  },
  {
   "cell_type": "code",
   "execution_count": null,
   "metadata": {},
   "outputs": [],
   "source": [
    "입력\n",
    "첫째 줄에 TV의 대각선 길이, TV의 높이 비율, TV의 너비 비율이 공백 한 칸을 사이에 두고 주어진다. 대각선 길이는 5보다 크거나 같고, 1,000보다 작거나 같은 자연수, 높이 비율은 1보다 크거나 같고, 99보다 작거나 같은 자연수 너비 비율은 2보다 크거나 같고, 100보다 작거나 같은 자연수이다. 너비 비율은 항상 높이 비율보다 크다.\n",
    "\n",
    "출력\n",
    "첫째 줄에 TV의 높이와 TV의 너비를 공백 한 칸을 이용해서 구분지은 후 출력한다. 만약, 실제 TV의 높이나 너비가 소수점이 나올 경우에는 그 수보다 작으면서 가장 큰 정수로 출력한다. (예) 1.7 -> 1\n",
    "\n",
    "예제 입력 1 \n",
    "52 9 16\n",
    "예제 출력 1 \n",
    "25 45"
   ]
  },
  {
   "cell_type": "code",
   "execution_count": 22,
   "metadata": {},
   "outputs": [
    {
     "name": "stdout",
     "output_type": "stream",
     "text": [
      "52 9 16\n",
      "25 45\n"
     ]
    }
   ],
   "source": [
    "d, h, w = map(int, input().split())\n",
    "r = d / ((h ** 2 + w ** 2) ** 0.5)\n",
    "print(int(h * r), int(w * r))"
   ]
  },
  {
   "cell_type": "code",
   "execution_count": null,
   "metadata": {},
   "outputs": [],
   "source": [
    "입력\n",
    "첫째 줄에 A와 B가 주어진다. A와 B는 공백 한 칸으로 구분되어져 있다.\n",
    "\n",
    "출력\n",
    "첫째 줄에 다음 세 가지 중 하나를 출력한다.\n",
    "\n",
    "A가 B보다 큰 경우에는 '>'를 출력한다.\n",
    "A가 B보다 작은 경우에는 '<'를 출력한다.\n",
    "A와 B가 같은 경우에는 '=='를 출력한다.\n",
    "제한\n",
    "-10,000 ≤ A, B ≤ 10,000\n",
    "예제 입력 1 \n",
    "1 2\n",
    "예제 출력 1 \n",
    "<\n",
    "예제 입력 2 \n",
    "10 2\n",
    "예제 출력 2 \n",
    ">\n",
    "예제 입력 3 \n",
    "5 5\n",
    "예제 출력 3 \n",
    "=="
   ]
  },
  {
   "cell_type": "code",
   "execution_count": 24,
   "metadata": {},
   "outputs": [
    {
     "name": "stdout",
     "output_type": "stream",
     "text": [
      "5 5\n",
      "==\n"
     ]
    }
   ],
   "source": [
    "A, B = map(int, input().split())\n",
    "\n",
    "if A > B :\n",
    "    print('>')\n",
    "elif A < B:\n",
    "    print('<')\n",
    "else:\n",
    "    print('==')"
   ]
  },
  {
   "cell_type": "code",
   "execution_count": null,
   "metadata": {},
   "outputs": [],
   "source": [
    "입력\n",
    "첫째 줄에 A, B, C가 빈 칸을 사이에 두고 순서대로 주어진다. A, B, C는 21억 이하의 자연수이다.\n",
    "\n",
    "출력\n",
    "첫 번째 줄에 손익분기점 즉 최초로 이익이 발생하는 판매량을 출력한다. 손익분기점이 존재하지 않으면 -1을 출력한다.\n",
    "\n",
    "예제 입력 1 \n",
    "1000 70 170\n",
    "예제 출력 1 \n",
    "11\n",
    "예제 입력 2 \n",
    "3 2 1\n",
    "예제 출력 2 \n",
    "-1\n",
    "예제 입력 3 \n",
    "2100000000 9 10\n",
    "예제 출력 3 \n",
    "2100000001"
   ]
  },
  {
   "cell_type": "code",
   "execution_count": 6,
   "metadata": {},
   "outputs": [
    {
     "name": "stdout",
     "output_type": "stream",
     "text": [
      "1000 70 170\n",
      "11\n"
     ]
    }
   ],
   "source": [
    "a, b, c = map(int, input().split())\n",
    "count = 0\n",
    "while True:\n",
    "    if b >= c:\n",
    "        print(-1)\n",
    "        break\n",
    "    count+=1\n",
    "\n",
    "    if a+b*count < c*count:\n",
    "        print(count)\n",
    "        break"
   ]
  },
  {
   "cell_type": "code",
   "execution_count": null,
   "metadata": {},
   "outputs": [],
   "source": [
    "a, b, c = map(int, input().split())\n",
    "\n",
    "if b >= c:\n",
    "    print(-1)\n",
    "else:\n",
    "    print(int(a/(c-b))+1)"
   ]
  },
  {
   "cell_type": "code",
   "execution_count": null,
   "metadata": {},
   "outputs": [],
   "source": [
    "문제\n",
    "사파리월드는 인터넷으로만 존재하는 미스테리한 나라이다. 사파리월드에는 2개의 서브도메인이 seunghwan.royal.gov.sw와 kyuhyun.royal.gov.sw 이 있는데, 이것이 couple.royal.gov.sw으로 합쳐질 것이다. 그러나 도메인 관리 센터 SWNIC(센터장: 김동규)에는 엄격한 룰이 있다. 두 서브도메인을 합칠 때, 유명도의 차이가 너무 차이나지 않을 경우에만 두 서브도메인을 결혼시키는 것이다. 서브도메인의 유명도는 정수이다. 두 서브도메인의 유명도가 주어졌을 때, 그 차이를 구하는 프로그램을 작성하시오.\n",
    "\n",
    "입력\n",
    "첫째 줄에 두 도메인의 유명도 N과 M이 주어진다. (-2,000,000,000 ≤ N, M ≤ 2,000,000,000)\n",
    "\n",
    "출력\n",
    "첫째 줄에 두 유명도의 차이 (|N-M|)을 출력한다.\n",
    "\n",
    "예제 입력 1 \n",
    "-2 5\n",
    "예제 출력 1 \n",
    "7"
   ]
  },
  {
   "cell_type": "code",
   "execution_count": 12,
   "metadata": {},
   "outputs": [
    {
     "name": "stdout",
     "output_type": "stream",
     "text": [
      "-2 5\n",
      "7\n"
     ]
    }
   ],
   "source": [
    "import math\n",
    "a, b = map(int, input().split())\n",
    "\n",
    "print(abs(a-b))"
   ]
  },
  {
   "cell_type": "code",
   "execution_count": null,
   "metadata": {},
   "outputs": [],
   "source": [
    "문제\n",
    "1에서부터 6까지의 눈을 가진 3개의 주사위를 던져서 다음과 같은 규칙에 따라 상금을 받는 게임이 있다. \n",
    "\n",
    "같은 눈이 3개가 나오면 10,000원+(같은 눈)*1,000원의 상금을 받게 된다. \n",
    "같은 눈이 2개만 나오는 경우에는 1,000원+(같은 눈)*100원의 상금을 받게 된다. \n",
    "모두 다른 눈이 나오는 경우에는 (그 중 가장 큰 눈)*100원의 상금을 받게 된다.  \n",
    "예를 들어, 3개의 눈 3, 3, 6이 주어지면 상금은 1,000+3*100으로 계산되어 1,300원을 받게 된다. 또 3개의 눈이 2, 2, 2로 주어지면 10,000+2*1,000 으로 계산되어 12,000원을 받게 된다. 3개의 눈이 6, 2, 5로 주어지면 그중 가장 큰 값이 6이므로 6*100으로 계산되어 600원을 상금으로 받게 된다.\n",
    "\n",
    "3개 주사위의 나온 눈이 주어질 때, 상금을 계산하는 프로그램을 작성 하시오.\n",
    "\n",
    "입력\n",
    "첫째 줄에 3개의 눈이 빈칸을 사이에 두고 각각 주어진다. \n",
    "\n",
    "출력\n",
    "첫째 줄에 게임의 상금을 출력 한다.  \n",
    "\n",
    "예제 입력 1 \n",
    "3 3 6\n",
    "예제 출력 1 \n",
    "1300"
   ]
  },
  {
   "cell_type": "code",
   "execution_count": 2,
   "metadata": {},
   "outputs": [
    {
     "name": "stdout",
     "output_type": "stream",
     "text": [
      "1 2 3\n",
      "0\n"
     ]
    }
   ],
   "source": [
    "arr = list(map(int, input().split()))\n",
    "\n",
    "tmp = set(arr)\n",
    "\n",
    "sum = 0\n",
    "\n",
    "\n",
    "for i in tmp:\n",
    "    if arr.count(i) == 3:\n",
    "        sum = sum + 10000 + i*1000\n",
    "    elif arr.count(i) == 2:\n",
    "        sum = sum + 1000 + i*100\n",
    "\n",
    "print(sum)"
   ]
  },
  {
   "cell_type": "code",
   "execution_count": null,
   "metadata": {},
   "outputs": [],
   "source": [
    "a,b,c=map(int,input().split())\n",
    "if a==b==c:\n",
    "    print(10000+a*1000)\n",
    "elif a==b or b==c:\n",
    "    print(1000+b*100)\n",
    "elif a==c:\n",
    "    print(1000+a*100)\n",
    "else:\n",
    "    print(max(a,b,c)*100)"
   ]
  },
  {
   "cell_type": "code",
   "execution_count": null,
   "metadata": {},
   "outputs": [],
   "source": [
    "입력\n",
    "첫째 줄에는 현재 시각이 나온다. 현재 시각은 시 A (0<=A<=23) 와 분 B (0<=B<=59)가 정수로 빈칸을 사이에 두고 순서대로 주어진다. 두 번째 줄에는 요리하는 데 필요한 시간 C (0<=C<=1,000)가 분 단위로 주어진다. \n",
    "\n",
    "출력\n",
    "첫째 줄에 종료되는 시각의 시와 분을 공백을 사이에 두고 출력한다. (단, 시는 0부터 23까지의 정수, 분은 0부터 59까지의 정수이다. 디지털 시계는 23시 59분에서 1분이 지나면 0시 0분이 된다.)\n",
    "\n",
    "예제 입력 1 \n",
    "14 30\n",
    "20\n",
    "예제 출력 1 \n",
    "14 50"
   ]
  },
  {
   "cell_type": "code",
   "execution_count": 7,
   "metadata": {},
   "outputs": [
    {
     "name": "stdout",
     "output_type": "stream",
     "text": [
      "14 30\n",
      "20\n",
      "14 50\n"
     ]
    }
   ],
   "source": [
    "a, b = map(int, input().split())\n",
    "c = int(input())\n",
    "\n",
    "a = a + c//60\n",
    "b = b + c%60\n",
    "\n",
    "if b >= 60:\n",
    "    a = a + 1\n",
    "    b = b - 60\n",
    "    \n",
    "if a >= 24:\n",
    "    a = a - 24\n",
    "    \n",
    "print(a, b)"
   ]
  },
  {
   "cell_type": "code",
   "execution_count": null,
   "metadata": {},
   "outputs": [],
   "source": [
    "문제\n",
    "KOI 전자에서는 건강에 좋고 맛있는 훈제오리구이 요리를 간편하게 만드는 인공지능 오븐을 개발하려고 한다. 인공지능 오븐을 사용하는 방법은 적당한 양의 오리 훈제 재료를 인공지능 오븐에 넣으면 된다. 그러면 인공지능 오븐은 오븐구이가 끝나는 시간을 초 단위로 자동적으로 계산한다. \n",
    "\n",
    "또한, KOI 전자의 인공지능 오븐 앞면에는 사용자에게 훈제오리구이 요리가 끝나는 시각을 알려 주는 디지털 시계가 있다.  \n",
    "\n",
    "훈제오리구이를 시작하는 시각과 오븐구이를 하는 데 필요한 시간이 초 단위로 주어졌을 때, 오븐구이가 끝나는 시각을 계산하는 프로그램을 작성하시오.\n",
    "\n",
    "입력\n",
    "첫째 줄에는 현재 시각이 나온다. 현재 시각은 시 A (0 ≤ A ≤ 23), 분 B (0 ≤ B ≤ 59)와 초 C (0 ≤ C ≤ 59)가 정수로 빈칸을 사이에 두고 순서대로 주어진다. 두 번째 줄에는 요리하는 데 필요한 시간 D (0 ≤ D ≤ 500,000)가 초 단위로 주어진다.\n",
    "\n",
    "출력\n",
    "첫째 줄에 종료되는 시각의 시, 분, 초을 공백을 사이에 두고 출력한다. (단, 시는 0부터 23까지의 정수이며, 분, 초는 0부터 59까지의 정수이다. 디지털 시계는 23시 59분 59초에서 1초가 지나면 0시 0분 0초가 된다.)\n",
    "\n",
    "예제 입력 1 \n",
    "14 30 0\n",
    "200\n",
    "예제 출력 1 \n",
    "14 33 20"
   ]
  },
  {
   "cell_type": "code",
   "execution_count": 16,
   "metadata": {},
   "outputs": [
    {
     "name": "stdout",
     "output_type": "stream",
     "text": [
      "23 59 59\n",
      "8000\n",
      "2 13 19\n"
     ]
    }
   ],
   "source": [
    "hour, minute, second = map(int, input().split())\n",
    "\n",
    "aSecond = int(input())\n",
    "\n",
    "hour = hour + (aSecond // 3600)\n",
    "minute = minute + (aSecond % 3600 // 60)\n",
    "second = second + (aSecond % 3600 % 60)\n",
    "\n",
    "if second >= 60:\n",
    "    minute += 1\n",
    "    second -= 60\n",
    "    \n",
    "if minute >= 60:\n",
    "    hour += 1\n",
    "    minute -= 60\n",
    "\n",
    "if hour >= 24:\n",
    "    hour -= 24\n",
    "\n",
    "print(hour, minute, second)\n"
   ]
  },
  {
   "cell_type": "code",
   "execution_count": null,
   "metadata": {},
   "outputs": [],
   "source": [
    "h,m,s = map(int,input().split(\" \"))\n",
    "sec = int(input())\n",
    "\n",
    "# h:시각, m:분, s:초, sec:추가된 초\n",
    "#고려요소 1번째\n",
    "s1 = (s+sec)%60  #최종 초\n",
    "m1 = (s+sec)//60\n",
    "#고려요소 2번째\n",
    "m2 = (m+m1)%60 # 최종 분\n",
    "h1 = (m+m1)//60\n",
    "#고려요소 3번째\n",
    "h2 = (h+h1)%24 # 최종 시각\n",
    "\n",
    "print(h2,m2,s1)  #출력"
   ]
  },
  {
   "cell_type": "code",
   "execution_count": null,
   "metadata": {},
   "outputs": [],
   "source": [
    "문제\n",
    "(세 자리 수) × (세 자리 수)는 다음과 같은 과정을 통하여 이루어진다.\n",
    "\n",
    "\n",
    "\n",
    "(1)과 (2)위치에 들어갈 세 자리 자연수가 주어질 때 (3), (4), (5), (6)위치에 들어갈 값을 구하는 프로그램을 작성하시오.\n",
    "\n",
    "입력\n",
    "첫째 줄에 (1)의 위치에 들어갈 세 자리 자연수가, 둘째 줄에 (2)의 위치에 들어갈 세자리 자연수가 주어진다.\n",
    "\n",
    "출력\n",
    "첫째 줄부터 넷째 줄까지 차례대로 (3), (4), (5), (6)에 들어갈 값을 출력한다.\n",
    "\n",
    "예제 입력 1 \n",
    "472\n",
    "385\n",
    "예제 출력 1 \n",
    "2360\n",
    "3776\n",
    "1416\n",
    "181720"
   ]
  },
  {
   "cell_type": "code",
   "execution_count": 7,
   "metadata": {},
   "outputs": [
    {
     "name": "stdout",
     "output_type": "stream",
     "text": [
      "472\n",
      "385\n",
      "2360\n",
      "3776\n",
      "1416\n",
      "181720\n"
     ]
    }
   ],
   "source": [
    "a = int(input())\n",
    "b = input()\n",
    "arr = list(map(int, b))\n",
    "\n",
    "for i in range(len(arr)-1, -1, -1):\n",
    "    print(arr[i]*a)\n",
    "\n",
    "print(a*int(b))"
   ]
  },
  {
   "cell_type": "code",
   "execution_count": null,
   "metadata": {},
   "outputs": [],
   "source": [
    "문제\n",
    "동규는 세수를 하다가 정렬이 하고싶어졌다.\n",
    "\n",
    "숫자 세 개를 생각한 뒤에, 이를 오름차순으로 정렬하고 싶어 졌다.\n",
    "\n",
    "숫자 세 개가 주어졌을 때, 가장 작은 수, 그 다음 수, 가장 큰 수를 출력하는 프로그램을 작성하시오.\n",
    "\n",
    "입력\n",
    "숫자 세 개가 주어진다. 이 숫자는 1보다 크거나 같고, 1,000,000보다 작거나 같다. 이 숫자는 모두 다르다.\n",
    "\n",
    "출력\n",
    "제일 작은 수, 그 다음 수, 제일 큰 수를 차례대로 출력한다.\n",
    "\n",
    "예제 입력 1 \n",
    "3 1 2\n",
    "예제 출력 1 \n",
    "1 2 3"
   ]
  },
  {
   "cell_type": "code",
   "execution_count": 13,
   "metadata": {},
   "outputs": [
    {
     "name": "stdout",
     "output_type": "stream",
     "text": [
      "3 1 2\n",
      "1 2 3 "
     ]
    }
   ],
   "source": [
    "arr = list(map(int, input().split()))\n",
    "arr = sorted(arr)\n",
    "\n",
    "for i in arr:\n",
    "    print(i, end=' ')"
   ]
  },
  {
   "cell_type": "code",
   "execution_count": null,
   "metadata": {},
   "outputs": [],
   "source": [
    "\n",
    "시간 제한\t메모리 제한\t제출\t정답\t맞은 사람\t정답 비율\n",
    "1 초\t128 MB\t103989\t56173\t49556\t54.589%\n",
    "문제\n",
    "연도가 주어졌을 때, 윤년이면 1, 아니면 0을 출력하는 프로그램을 작성하시오.\n",
    "\n",
    "윤년은 연도가 4의 배수이면서, 100의 배수가 아닐 때 또는 400의 배수일 때이다.\n",
    "\n",
    "예를 들어, 2012년은 4의 배수이면서 100의 배수가 아니라서 윤년이다. 1900년은 100의 배수이고 400의 배수는 아니기 때문에 윤년이 아니다. 하지만, 2000년은 400의 배수이기 때문에 윤년이다.\n",
    "\n",
    "입력\n",
    "첫째 줄에 연도가 주어진다. 연도는 1보다 크거나 같고, 4000보다 작거나 같은 자연수이다.\n",
    "\n",
    "출력\n",
    "첫째 줄에 윤년이면 1, 아니면 0을 출력한다.\n",
    "\n",
    "예제 입력 1 \n",
    "2000\n",
    "예제 출력 1 \n",
    "1\n",
    "예제 입력 2 \n",
    "1999\n",
    "예제 출력 2 \n",
    "0\n"
   ]
  },
  {
   "cell_type": "code",
   "execution_count": 17,
   "metadata": {},
   "outputs": [
    {
     "name": "stdout",
     "output_type": "stream",
     "text": [
      "1900\n",
      "0\n"
     ]
    }
   ],
   "source": [
    "a = int(input())\n",
    "\n",
    "if (a % 4 == 0 and a % 100 != 0) or a % 400 == 0:\n",
    "    print(1)\n",
    "else:\n",
    "    print(0)"
   ]
  },
  {
   "cell_type": "code",
   "execution_count": null,
   "metadata": {},
   "outputs": [],
   "source": [
    "문제\n",
    "상근이는 3003번에서 동혁이가 발견한 체스판을 톱으로 자르려고 한다.\n",
    "\n",
    "상근이는 체스판을 최대 N번 자를 수 있으며, 변에 평행하게만 자를 수 있다. 또, 자를 때는 체스판의 그 변의 한쪽 끝에서 다른쪽 끝까지 잘라야 한다. 자른 후에는 조각을 이동할 수 없다.\n",
    "\n",
    "이때, 최대 몇 조각을 낼 수 있는지 구하는 프로그램을 작성하시오.\n",
    "\n",
    "입력\n",
    "첫째 줄에 N이 주어진다. (1 ≤ N ≤ 100)\n",
    "\n",
    "출력\n",
    "첫째 줄에 상근이가 얻을 수 있는 조각의 최댓값을 출력한다.\n",
    "\n",
    "예제 입력 1 \n",
    "3\n",
    "예제 출력 1 \n",
    "6"
   ]
  },
  {
   "cell_type": "code",
   "execution_count": null,
   "metadata": {},
   "outputs": [],
   "source": [
    "    if N==0: ans = 1\n",
    "    elif N%2 == 0 : ans=(N//2+1)**2\n",
    "    else : ans = (N//2+1)*(N//2+2)\n",
    "    print(ans)\n",
    "    "
   ]
  },
  {
   "cell_type": "code",
   "execution_count": null,
   "metadata": {},
   "outputs": [],
   "source": [
    "입력\n",
    "첫째 줄에 두 팀 점수의 합과 차가 빈 칸으로 구분되어 주어진다. 축구 점수는 항상 음이 아닌 정수이고, 합과 차는 1000보다 작거나 같은 음이 아닌 정수이다.\n",
    "\n",
    "출력\n",
    "첫째 줄에 두 팀의 경기 결과를 출력한다. 득점을 많이 한 쪽을 먼저 출력한다. 만약, 그러한 합과 차를 갖는 경기 결과가 없다면, -1을 출력한다.\n",
    "\n",
    "예제 입력 1 \n",
    "3 1\n",
    "예제 출력 1 \n",
    "2 1"
   ]
  },
  {
   "cell_type": "code",
   "execution_count": null,
   "metadata": {},
   "outputs": [],
   "source": [
    "a, b= map(int, input().split())\n",
    "\n",
    "x = (a+b)//2\n",
    "y = (a-b)//2\n",
    "print(x, y)"
   ]
  },
  {
   "cell_type": "code",
   "execution_count": 19,
   "metadata": {},
   "outputs": [
    {
     "name": "stdout",
     "output_type": "stream",
     "text": [
      "1 3\n",
      "-1\n"
     ]
    }
   ],
   "source": [
    "s, m = map(int, input().split())\n",
    "if  s+m < 0 or s-m < 0 or (s + m) % 2:\n",
    "    print(-1)\n",
    "else:\n",
    "    a = (s + m) // 2\n",
    "    b = s - a\n",
    "    print(max(a, b), min(a, b))"
   ]
  },
  {
   "cell_type": "code",
   "execution_count": null,
   "metadata": {},
   "outputs": [],
   "source": [
    "\n",
    "시간 제한\t메모리 제한\t제출\t정답\t맞은 사람\t정답 비율\n",
    "1 초\t128 MB\t7553\t4626\t4244\t62.967%\n",
    "문제\n",
    "상근이는 초등학교에 다닐 때, 방학 숙제를 남들보다 먼저 미리 하고 남은 기간을 놀았다. 방학 숙제는 수학과 국어 문제 풀기이다.\n",
    "\n",
    "방학은 총 L일이다. 수학은 총 B페이지, 국어는 총 A페이지를 풀어야 한다. 상근이는 하루에 국어를 최대 C페이지, 수학을 최대 D페이지 풀 수 있다.\n",
    "\n",
    "상근이가 겨울 방학동안 숙제를 하지 않고 놀 수 있는 최대 날의 수를 구하는 프로그램을 작성하시오.\n",
    "\n",
    "입력\n",
    "한 줄에 하나씩 총 다섯 줄에 걸쳐 L, A, B, C, D가 주어진다. (2 ≤ L ≤ 40, 1 ≤ A, B ≤ 1000, 1 ≤ C, D ≤ 100)\n",
    "\n",
    "항상 방학 숙제를 방학 기간내에 다 할 수 있는 경우만 입력으로 주어진다.\n",
    "\n",
    "출력\n",
    "첫째 줄에 상근이가 놀 수 있는 날의 최댓값을 출력한다.\n",
    "\n",
    "예제 입력 1 \n",
    "20\n",
    "25\n",
    "30\n",
    "6\n",
    "8\n",
    "예제 출력 1 \n",
    "15"
   ]
  },
  {
   "cell_type": "code",
   "execution_count": 20,
   "metadata": {},
   "outputs": [
    {
     "name": "stdout",
     "output_type": "stream",
     "text": [
      "20 \n",
      "25\n",
      "30\n",
      "6\n",
      "8\n",
      "15\n"
     ]
    }
   ],
   "source": [
    "import math\n",
    "\n",
    "duration = int(input())\n",
    "kp = int(input())\n",
    "mp = int(input())\n",
    "kg = int(input())\n",
    "mg = int(input())\n",
    "\n",
    "print(duration- max(math.ceil(kp/kg),math.ceil(mp/mg)))"
   ]
  },
  {
   "cell_type": "code",
   "execution_count": null,
   "metadata": {},
   "outputs": [],
   "source": [
    "문제\n",
    "상근날드에서 가장 잘 팔리는 메뉴는 세트 메뉴이다. 주문할 때, 자신이 원하는 햄버거와 음료를 하나씩 골라, 세트로 구매하면, 가격의 합계에서 50원을 뺀 가격이 세트 메뉴의 가격이 된다.\n",
    "\n",
    "햄버거는 총 3종류 상덕버거, 중덕버거, 하덕버거가 있고, 음료는 콜라와 사이다 두 종류가 있다.\n",
    "\n",
    "햄버거와 음료의 가격이 주어졌을 때, 가장 싼 세트 메뉴의 가격을 출력하는 프로그램을 작성하시오.\n",
    "\n",
    "입력\n",
    "입력은 총 다섯 줄이다. 첫째 줄에는 상덕버거, 둘째 줄에는 중덕버거, 셋째 줄에는 하덕버거의 가격이 주어진다. 넷째 줄에는 콜라의 가격, 다섯째 줄에는 사이다의 가격이 주어진다. 모든 가격은 100원 이상, 2000원 이하이다.\n",
    "\n",
    "출력\n",
    "첫째 줄에 가장 싼 세트 메뉴의 가격을 출력한다.\n",
    "\n",
    "예제 입력 1 \n",
    "800\n",
    "700\n",
    "900\n",
    "198\n",
    "330\n",
    "예제 출력 1 \n",
    "848\n",
    "예제 입력 2 \n",
    "1999\n",
    "1999\n",
    "100\n",
    "189\n",
    "100\n",
    "예제 출력 2 \n",
    "150"
   ]
  },
  {
   "cell_type": "code",
   "execution_count": 26,
   "metadata": {},
   "outputs": [
    {
     "name": "stdout",
     "output_type": "stream",
     "text": [
      "1999\n",
      "1999\n",
      "100\n",
      "189\n",
      "100\n",
      "150\n"
     ]
    }
   ],
   "source": [
    "a = int(input())\n",
    "b = int(input())\n",
    "c = int(input())\n",
    "d = int(input())\n",
    "e = int(input())\n",
    "\n",
    "arr1 = [a,b,c]\n",
    "arr2 = [c,d]\n",
    "\n",
    "print(min(arr1)+min(arr2)-50)"
   ]
  },
  {
   "cell_type": "code",
   "execution_count": null,
   "metadata": {},
   "outputs": [],
   "source": [
    "burger = [int(input()) for _ in range(3)]\n",
    "drink = [int(input()) for _ in range(2)]\n",
    "print(min(burger) + min(drink) - 50)"
   ]
  },
  {
   "cell_type": "code",
   "execution_count": null,
   "metadata": {},
   "outputs": [],
   "source": [
    "입력\n",
    "입력은 3 행으로 구성된다.\n",
    "\n",
    "첫 번째 줄에는 A 씨의 출근 시간과 퇴근 시간,\n",
    "\n",
    "두 번째 줄에는 B 씨의 출근 시간과 퇴근 시간,\n",
    "\n",
    "세 번째 줄에는 C 씨의 출근 시간과 퇴근 시간이 각각 공백으로 구분되어 있다.\n",
    "\n",
    "시간은 각각 공백으로 구분된 3 개의 정수로 쓰여져있다.\n",
    "\n",
    "3 개의 정수 h(7 ≦ h ≦ 22), m(0 ≦ m ≦ 59), s(0 ≦ s ≦ 59)는 h시 m 분 s 초를 나타낸다.\n",
    "\n",
    "출력\n",
    "첫 번째 줄에 A 씨의 근무 시간,\n",
    "\n",
    "두 번째 줄에 B 씨의 근무 시간,\n",
    "\n",
    "세 번째 줄에 C 씨의 근무 시간을 출력하라.\n",
    "\n",
    "근무 시간이 h 시간 m 분 s 초이면 h, m, s의 순으로 공백으로 분리하여 출력하라.\n",
    "\n",
    "예제 입력 1 \n",
    "9 0 0 18 0 0\n",
    "9 0 1 18 0 0\n",
    "12 14 52 12 15 30\n",
    "예제 출력 1 \n",
    "9 0 0\n",
    "8 59 59\n",
    "0 0 38"
   ]
  },
  {
   "cell_type": "code",
   "execution_count": 31,
   "metadata": {},
   "outputs": [
    {
     "name": "stdout",
     "output_type": "stream",
     "text": [
      "9 0 0 18 0 0\n",
      "9 0 1 18 0 0\n",
      "12 14 52 12 15 30\n",
      "9 0 0\n",
      "8 59 59\n",
      "0 0 38\n"
     ]
    }
   ],
   "source": [
    "\n",
    "sh1, sm1, ss1, eh1, em1, es1 = map(int, input().split())\n",
    "sh2, sm2, ss2, eh2, em2, es2 = map(int, input().split())\n",
    "sh3, sm3, ss3, eh3, em3, es3 = map(int, input().split())\n",
    "\n",
    "start = sh1*3600 + sm1*60 + ss1\n",
    "end = eh1*3600 + em1*60 + es1\n",
    "\n",
    "gap = end - start\n",
    "\n",
    "hour = gap // 60 // 60\n",
    "minute = gap // 60 % 60\n",
    "second = gap % 60\n",
    "\n",
    "print(hour, minute, second)\n",
    "\n",
    "start = sh2*3600 + sm2*60 + ss2\n",
    "end = eh2*3600 + em2*60 + es2\n",
    "\n",
    "gap = end - start\n",
    "\n",
    "hour = gap // 60 // 60\n",
    "minute = gap // 60 % 60\n",
    "second = gap % 60\n",
    "\n",
    "print(hour, minute, second)\n",
    "\n",
    "start = sh3*3600 + sm3*60 + ss3\n",
    "end = eh3*3600 + em3*60 + es3\n",
    "\n",
    "gap = end - start\n",
    "\n",
    "hour = gap // 60 // 60\n",
    "minute = gap // 60 % 60\n",
    "second = gap % 60\n",
    "\n",
    "print(hour, minute, second)\n"
   ]
  },
  {
   "cell_type": "code",
   "execution_count": null,
   "metadata": {},
   "outputs": [],
   "source": [
    "문제\n",
    "대한고등학교에 재학 중인 민국이와 만세는 4과목(정보, 수학, 과학, 영어)에 대한 시험을 봤습니다. 민국이와 만세가 본 4과목의 점수를 입력하면, 민국이의 총점 S와 만세의 총점 T 중에서 큰 점수를 출력하는 프로그램을 작성하세요. 다만, 서로 동점일 때는 민국이의 총점 S를 출력하세요.\n",
    "\n",
    "입력\n",
    "입력은 2줄로 이루어져 있습니다.\n",
    "\n",
    "1번째 줄에는 순서대로 민국이의 정보, 수학, 과학, 영어 점수(정수형)를 입력하는데, 이때 공백을 끊어서 구분합니다.\n",
    "\n",
    "2번째 줄에는 마찬가지로 순서대로 만세의 정보, 수학, 과학, 영어 점수(정수형)를 입력하고 위와 같이 공백을 끊어서 구분합니다.\n",
    "\n",
    "출력\n",
    "출력은 문제에서 제시했던 방법대로 구하면 됩니다.\n",
    "\n",
    "예제 입력 1 \n",
    "100 80 70 60\n",
    "80 70 80 90\n",
    "예제 출력 1 \n",
    "320"
   ]
  },
  {
   "cell_type": "code",
   "execution_count": 33,
   "metadata": {},
   "outputs": [
    {
     "name": "stdout",
     "output_type": "stream",
     "text": [
      "100 80 70 60\n",
      "80 70 80 90\n",
      "320\n"
     ]
    }
   ],
   "source": [
    "arr1 = list(map(int, input().split()))\n",
    "arr2 = list(map(int, input().split()))\n",
    "\n",
    "if sum(arr1) > sum(arr2):\n",
    "    print(sum(arr1))\n",
    "elif sum(arr2) > sum(arr1):\n",
    "    print(sum(arr2))\n",
    "else:\n",
    "    print(sum(arr1))"
   ]
  },
  {
   "cell_type": "code",
   "execution_count": null,
   "metadata": {},
   "outputs": [],
   "source": [
    "문제\n",
    "상근이는 이진수 곱셈에 어려움을 겪는 여자친구를 위한 프로그램을 만들려고 한다.\n",
    "\n",
    "상근이의 여자친구는 항상 이진수에 17을 곱한다. 즉, 이진수 N이 입력으로 들어오면 17을 곱한 다음 이진수로 출력하는 프로그램을 작성하시오.\n",
    "\n",
    "입력\n",
    "첫째 줄에 이진수 N이 주어진다. N은 최대 1000자리인 이진수이며, 0이 들어오는 경우는 없다.\n",
    "\n",
    "출력\n",
    "입력으로 주어진 N을 17배한 다음, 이진수로 출력한다.\n",
    "\n",
    "예제 입력 1 \n",
    "10110111\n",
    "예제 출력 1 \n",
    "110000100111\n"
   ]
  },
  {
   "cell_type": "code",
   "execution_count": 40,
   "metadata": {},
   "outputs": [
    {
     "name": "stdout",
     "output_type": "stream",
     "text": [
      "10110111\n",
      "110000100111\n"
     ]
    }
   ],
   "source": [
    "n = int(input(),2)*17\n",
    "print(format(n, 'b'))"
   ]
  },
  {
   "cell_type": "code",
   "execution_count": null,
   "metadata": {},
   "outputs": [],
   "source": [
    "시험 성적 분류\n",
    "시간 제한\t메모리 제한\t제출\t정답\t맞은 사람\t정답 비율\n",
    "1 초\t128 MB\t140324\t78604\t69203\t57.294%\n",
    "문제\n",
    "시험 점수를 입력받아 90 ~ 100점은 A, 80 ~ 89점은 B, 70 ~ 79점은 C, 60 ~ 69점은 D, 나머지 점수는 F를 출력하는 프로그램을 작성하시오.\n",
    "\n",
    "입력\n",
    "첫째 줄에 시험 점수가 주어진다. 시험 점수는 0보다 크거나 같고, 100보다 작거나 같은 정수이다.\n",
    "\n",
    "출력\n",
    "시험 성적을 출력한다.\n",
    "\n",
    "예제 입력 1 \n",
    "100\n",
    "예제 출력 1 \n",
    "A"
   ]
  },
  {
   "cell_type": "code",
   "execution_count": 41,
   "metadata": {},
   "outputs": [
    {
     "name": "stdout",
     "output_type": "stream",
     "text": [
      "90\n",
      "A\n"
     ]
    }
   ],
   "source": [
    "n = int(input())\n",
    "\n",
    "if 90 <= n <= 100:\n",
    "    print('A')\n",
    "elif 80 <= n:\n",
    "    print('B')\n",
    "elif 70 <=n:\n",
    "    print('C')\n",
    "elif 60 <= n:\n",
    "    print('D')\n",
    "else:\n",
    "    print('F')"
   ]
  },
  {
   "cell_type": "code",
   "execution_count": null,
   "metadata": {},
   "outputs": [],
   "source": [
    "문제\n",
    "상현이가 가르치는 아이폰 앱 개발 수업의 수강생은 원섭, 세희, 상근, 숭, 강수이다.\n",
    "\n",
    "어제 이 수업의 기말고사가 있었고, 상현이는 지금 학생들의 기말고사 시험지를 채점하고 있다. 기말고사 점수가 40점 이상인 학생들은 그 점수 그대로 자신의 성적이 된다. 하지만, 40점 미만인 학생들은 보충학습을 듣는 조건을 수락하면 40점을 받게 된다. 보충학습은 거부할 수 없기 때문에, 40점 미만인 학생들은 항상 40점을 받게 된다.\n",
    "\n",
    "학생 5명의 점수가 주어졌을 때, 평균 점수를 구하는 프로그램을 작성하시오.\n",
    "\n",
    "입력\n",
    "입력은 총 5줄로 이루어져 있고, 원섭이의 점수, 세희의 점수, 상근이의 점수, 숭이의 점수, 강수의 점수가 순서대로 주어진다.\n",
    "\n",
    "점수는 모두 0점 이상, 100점 이하인 5의 배수이다. 따라서, 평균 점수는 항상 정수이다. \n",
    "\n",
    "출력\n",
    "첫째 줄에 학생 5명의 평균 점수를 출력한다.\n",
    "\n",
    "예제 입력 1 \n",
    "10\n",
    "65\n",
    "100\n",
    "30\n",
    "95\n",
    "예제 출력 1 \n",
    "68"
   ]
  },
  {
   "cell_type": "code",
   "execution_count": 44,
   "metadata": {},
   "outputs": [
    {
     "name": "stdout",
     "output_type": "stream",
     "text": [
      "10\n",
      "65\n",
      "100\n",
      "30\n",
      "95\n",
      "68\n"
     ]
    }
   ],
   "source": [
    "arr = [int(input()) for _ in range(5)]\n",
    "\n",
    "arr = list([40 if i<40 else i for i in arr])\n",
    "print(int(sum(arr)/len(arr)))\n",
    "\n",
    "#list( [ i * 2  if  i>3 else i for i in temp ] )"
   ]
  },
  {
   "cell_type": "code",
   "execution_count": null,
   "metadata": {},
   "outputs": [],
   "source": [
    "\n",
    "시간 제한\t메모리 제한\t제출\t정답\t맞은 사람\t정답 비율\n",
    "1 초\t256 MB\t7434\t4111\t3758\t56.173%\n",
    "문제\n",
    "창영이는 삼각형의 종류를 잘 구분하지 못한다. 따라서 프로그램을 이용해 이를 외우려고 한다.\n",
    "\n",
    "삼각형의 세 각을 입력받은 다음, \n",
    "\n",
    "세 각의 크기가 모두 60이면, Equilateral\n",
    "세 각의 합이 180이고, 두 각이 같은 경우에는 Isosceles\n",
    "세 각의 합이 180이고, 같은 각이 없는 경우에는 Scalene\n",
    "세 각의 합이 180이 아닌 경우에는 Error\n",
    "를 출력하는 프로그램을 작성하시오.\n",
    "\n",
    "입력\n",
    "총 3개의 줄에 걸쳐 삼각형의 각의 크기가 주어진다. 모든 정수는 0보다 크고, 180보다 작다.\n",
    "\n",
    "출력\n",
    "문제의 설명에 따라 Equilateral, Isosceles, Scalene, Error 중 하나를 출력한다.\n",
    "\n",
    "예제 입력 1 \n",
    "60\n",
    "70\n",
    "50\n",
    "예제 출력 1 \n",
    "Scalene"
   ]
  },
  {
   "cell_type": "code",
   "execution_count": 45,
   "metadata": {},
   "outputs": [
    {
     "name": "stdout",
     "output_type": "stream",
     "text": [
      "60 70 50\n",
      "Scalene\n"
     ]
    }
   ],
   "source": [
    "a= int(input())\n",
    "b= int(input())\n",
    "c= int(input())\n",
    "\n",
    "if a == b == c == 60:\n",
    "    print('Equilateral')\n",
    "elif a + b + c == 180 and (a==b or b==c or a==c):\n",
    "    print('Isosceles')\n",
    "elif a + b + c == 180 and (a!= b and b!=c and a!= c):\n",
    "    print('Scalene')\n",
    "else:\n",
    "    print('Error')\n",
    "    \n",
    "    "
   ]
  },
  {
   "cell_type": "code",
   "execution_count": null,
   "metadata": {},
   "outputs": [],
   "source": [
    "문제\n",
    "동수는 제과점에 과자를 사러 가는데 현재 가진 돈이 모자랄 경우 부모님께 모자란 돈을 받으려고 한다. 과자 한 개의 가격이 K, 사려고 하는 과자의 개수가 N이고, 현재 가진 돈의 액수를 M이라 할 때 여러분은 동수가 부모님께 받아야 하는 모자란 돈을 계산하려고 한다. \n",
    "\n",
    "예를 들어, 과자 한 개의 가격이 30원, 사려고 하는 과자의 개수가 4개, 현재 동수가 가진 돈이 100원이라 할 때, 동수가 부모님께 받아야 하는 돈은 20원이다. 과자 한 개의 가격이 250원, 사려고 하는 과자의 개수가 2개, 현재 동수가 가진 돈이 140원이라 할 때, 동수가 부모님께 받아야 하는 돈은 360원이다. 과자 한 개의 가격이 20원, 사려고 하는 과자의 개수가 6개, 현재 동수가 가진 돈이 120원이라 할 때 동수가 부모님께 받아야 하는 돈은 0원이다. 과자 한 개의 가격이 20원, 사려고 하는 과자의 개수가 10개, 현재 동수가 가진 돈이 320원이라 할 때 동수가 부모님께 받아야 하는 돈은 역시 0원이다. \n",
    "\n",
    "과자 한 개의 가격, 사려고 하는 과자의 개수와 동수가 현재 가진 돈의 액수가 주어질 때 동수가 부모님께 받아야 하는 돈의 액수를 출력하는 프로그램을 작성하시오. \n",
    "\n",
    "입력\n",
    "첫 번째 줄에는 과자 한 개의 가격 K, 사려고 하는 과자의 개수 N, 현재 동수가 가진 돈 M이 각각 공백을 사이에 두고 주어진다. 단, K, N은 1,000 이하의 양의 정수이고, M은 10만 이하의 양의 정수이다. (1 ≤ K, N ≤ 1,000, 1 ≤ M ≤ 100,000이다.) \n",
    "\n",
    "출력\n",
    "첫 줄에 동수가 부모님께 받아야 하는 돈의 액수를 출력한다. \n",
    "\n",
    "예제 입력 1 \n",
    "300 4 1000\n",
    "예제 출력 1 \n",
    "200"
   ]
  },
  {
   "cell_type": "code",
   "execution_count": 46,
   "metadata": {},
   "outputs": [
    {
     "name": "stdout",
     "output_type": "stream",
     "text": [
      "20 10 320\n",
      "0\n"
     ]
    }
   ],
   "source": [
    "a, b, c = map(int, input().split())\n",
    "\n",
    "if a*b-c <0:\n",
    "    print(0)\n",
    "else:\n",
    "    print(a*b-c)"
   ]
  },
  {
   "cell_type": "code",
   "execution_count": null,
   "metadata": {},
   "outputs": [],
   "source": [
    "\n",
    "시간 제한\t메모리 제한\t제출\t정답\t맞은 사람\t정답 비율\n",
    "1 초\t64 MB\t10765\t6119\t5345\t57.535%\n",
    "문제\n",
    "3개의 시간조절용 버튼 A B C가 달린 전자레인지가 있다. 각 버튼마다 일정한 시간이 지정되어 있어 해당 버튼을 한번 누를 때마다 그 시간이 동작시간에 더해진다. 버튼 A, B, C에 지정된 시간은 각각 5분, 1분, 10초이다.\n",
    "\n",
    "냉동음식마다 전자레인지로 요리해야할 시간 T가 초단위로 표시되어 있다. 우리는 A, B, C 3개의 버튼을 적절히 눌러서 그 시간의 합이 정확히 T초가 되도록 해야 한다. 단 버튼 A, B, C를 누른 횟수의 합은 항상 최소가 되어야 한다. 이것을 최소버튼 조작이라고 한다. \n",
    "\n",
    "만일 요리시간이 100초라고 하면(T=100) B를 1번, C는 4번 누르면 된다. 이와 다르게 C를 10번 눌러도 100초가 되지만 이 경우 10번은 최소 횟수가 아니기 때문이 답이 될 수 없다. 이 경우 B 1번, C 4번, 총 5번이 최소버튼 조작이다. 그리고 T=234와 같이 3개의 버튼으로 시간을 정확히 맞출 수 없는 경우도 있다. \n",
    "\n",
    "여러분은 주어진 요리시간 T초를 맞추기 위한 최소버튼 조작 방법을 구하는 프로그램을 작성해야 한다. \n",
    "\n",
    "입력\n",
    "첫 번째 줄에는 요리시간 T(초)가 정수로 주어져 있으며 그 범위는 1 ≤ T ≤ 10,000 이다. \n",
    "\n",
    "출력\n",
    "여러분은 T초를 위한 최소버튼 조작의 A B C 횟수를 첫 줄에 차례대로 출력해야 한다. 각각의 횟수 사이에는 빈 칸을 둔다. 해당 버튼을 누르지 않는 경우에는 숫자 0을 출력해야한다. 만일 제시된 3개의 버튼으로 T초를 맞출 수 없으면 음수 -1을 첫 줄에 출력해야 한다. \n",
    "\n",
    "예제 입력 1 \n",
    "100\n",
    "예제 출력 1 \n",
    "0 1 4\n",
    "예제 입력 2 \n",
    "189\n",
    "예제 출력 2 \n",
    "-1"
   ]
  },
  {
   "cell_type": "code",
   "execution_count": 57,
   "metadata": {},
   "outputs": [
    {
     "name": "stdout",
     "output_type": "stream",
     "text": [
      "100\n",
      "0 1 4\n"
     ]
    }
   ],
   "source": [
    "n = int(input())\n",
    "\n",
    "a = n//300\n",
    "\n",
    "b = (n%300)//60\n",
    "\n",
    "c = ((n%300)%60)//10\n",
    "\n",
    "if n % 10 != 0:\n",
    "    print(-1)\n",
    "else:\n",
    "    print(a, b, c)"
   ]
  },
  {
   "cell_type": "code",
   "execution_count": null,
   "metadata": {},
   "outputs": [],
   "source": [
    "문제\n",
    "당신은 어떤 물건이라도 20% 할인해주는 쿠폰을 가지고 있다.\n",
    "\n",
    "원래 가격이 주어질 때, 쿠폰을 사용하면 얼마가 되는지 알려주는 프로그램을 작성하시오.\n",
    "\n",
    "입력\n",
    "첫 번째 줄에 테스트케이스의 수가 주어진다.\n",
    "\n",
    "각 줄에는 물건의 원래가격이 소수점 둘째자리까지 주어진다.\n",
    "\n",
    "출력\n",
    "할인된 가격을 달러 단위로 출력한다.\n",
    "\n",
    "나누어떨어지지 않을 때는 소수점 셋째 자리에서 반올림해서 둘째 자리까지 출력한다.\n",
    "\n",
    "예제 입력 1 \n",
    "3\n",
    "100.00\n",
    "59.99\n",
    "20.00\n",
    "예제 출력 1 \n",
    "$80.00\n",
    "$47.99\n",
    "$16.00\n",
    "\n",
    "\n"
   ]
  },
  {
   "cell_type": "code",
   "execution_count": 4,
   "metadata": {},
   "outputs": [
    {
     "name": "stdout",
     "output_type": "stream",
     "text": [
      "3\n",
      "100.00\n",
      "80.0\n",
      "59.99\n",
      "47.99\n",
      "20.00\n",
      "16.0\n"
     ]
    }
   ],
   "source": [
    "# 반올림\n",
    "# 소수점을 n번째 까지만 표현하고 반올림을 하고싶을때, round 함수를 사용하면된다.\n",
    "\n",
    "# round(실수,n)\n",
    "\n",
    "# >>> n = 7/15\n",
    "# >>> n\n",
    "# 0.4666666666666667\n",
    "\n",
    "# >>> round(n,2)\n",
    "\n",
    "n = int(input())\n",
    "arr = []\n",
    "for _ in range(n):\n",
    "    print(round(float(input())*0.8, 2))\n",
    "    "
   ]
  },
  {
   "cell_type": "code",
   "execution_count": null,
   "metadata": {},
   "outputs": [],
   "source": [
    "\n",
    "시간 제한\t메모리 제한\t제출\t정답\t맞은 사람\t정답 비율\n",
    "1 초\t256 MB\t4802\t3641\t3427\t76.856%\n",
    "문제\n",
    "JOI군이 살고 있는 지역에는 X사와 Y사, 두 개의 수도회사가 있다. 두 회사의 수도요금은 한 달간 수도의 사용량에 따라 다음과 같이 정해진다.\n",
    "\n",
    "X사 : 1리터당 A엔.\n",
    "Y사 : 기본요금은 B엔이고, 사용량이 C리터 이하라면 요금은 기본요금만 청구된다. 사용량이 C리터가 넘었을 경우 기본요금 B엔에 더해서 추가요금이 붙는다. 추가요금은 사용량이 C리터를 넘었을 경우 1리터를 넘었을 때마다 D엔이다.\n",
    "JOI군의 집에서 한 달간 쓰는 수도의 양은 P리터이다.\n",
    "\n",
    "수도요금이 최대한 싸게 되도록 수도회사를 고를 때, JOI군의 집의 1달간 수도요금을 구하여라.\n",
    "\n",
    "입력\n",
    "입력은 5줄이고 한 줄에 하나씩 정수가 입력된다.\n",
    "\n",
    "첫 번째 줄에는 X사의 1리터당 요금 A가 입력된다.\n",
    "두 번째 줄에는 Y사의 기본요금 B가 입력된다.\n",
    "세 번째 줄에는 Y사의 요금이 기본요금이 되는 사용량의 상한 C가 입력된다.\n",
    "네 번째 줄에는 Y사의 1리터 당 추가요금 D가 입력된다.\n",
    "다섯 번째 줄에는 JOI군의 집에서 사용하는 한 달간 수도의 양 P가 입력된다.\n",
    "입력되는 정수 A,B,C,D,P는 전부 1 이상 10000 이하이다.\n",
    "\n",
    "출력\n",
    "JOI군의 집에서 지불하는 한 달간 수도요금을 첫째 줄에 출력한다.\n",
    "\n",
    "예제 입력 1 \n",
    "9\n",
    "100\n",
    "20\n",
    "3\n",
    "10\n",
    "예제 출력 1 \n",
    "90"
   ]
  },
  {
   "cell_type": "code",
   "execution_count": 5,
   "metadata": {},
   "outputs": [
    {
     "name": "stdout",
     "output_type": "stream",
     "text": [
      "9\n",
      "100\n",
      "20\n",
      "3\n",
      "10\n",
      "90\n"
     ]
    }
   ],
   "source": [
    "a = int(input())\n",
    "b = int(input())\n",
    "c = int(input())\n",
    "d = int(input())\n",
    "e = int(input())\n",
    "\n",
    "x = a*e\n",
    "\n",
    "if e>c:\n",
    "    y = b + d*(e-c)\n",
    "else:\n",
    "    y = b\n",
    "    \n",
    "if x > y:\n",
    "    print(y)\n",
    "else:\n",
    "    print(x)"
   ]
  },
  {
   "cell_type": "code",
   "execution_count": null,
   "metadata": {},
   "outputs": [],
   "source": [
    "\n",
    "시간 제한\t메모리 제한\t제출\t정답\t맞은 사람\t정답 비율\n",
    "1 초\t256 MB\t2952\t1983\t1881\t68.029%\n",
    "문제\n",
    "2월 18일은 올해 CCC에 있어서 특별한 날이다.\n",
    "\n",
    "사용자로부터 정수인 월과 일을 입력받아 날짜가 2월 18일인지 전인지 후인지를 출력하는 프로그램이다.\n",
    "\n",
    "만약 날짜가 2월 18일 전이면, \"Before\"을 출력한다. 만약 날짜가 2월 18일 후면, \"After\"을 출력한다. 만약 2월 18일이라면 \"Special\" 을 출력한다.\n",
    "\n",
    "입력\n",
    "입력은 두 개의 정수가 각 줄에 걸쳐 입력된다. 이 정수들은 2015년의 날짜에 포함된다.\n",
    "\n",
    "첫 번째 줄은 1에서 12사이의 월을 입력한다.\n",
    "\n",
    "두 번째 줄은 1에서 31사이의 그 달에 들어있는 날짜를 입력한다 .\n",
    "\n",
    "출력\n",
    "마지막 줄에 \"Before\", \"After\"나 \"Special\"을 출력한다.\n",
    "\n",
    "예제 입력 1 \n",
    "1\n",
    "7\n",
    "예제 출력 1 \n",
    "Before\n",
    "예제 입력 2 \n",
    "8\n",
    "31\n",
    "예제 출력 2 \n",
    "After"
   ]
  },
  {
   "cell_type": "code",
   "execution_count": 9,
   "metadata": {},
   "outputs": [
    {
     "name": "stdout",
     "output_type": "stream",
     "text": [
      "2\n",
      "18\n",
      "Special\n"
     ]
    }
   ],
   "source": [
    "x, y = 2, 18\n",
    "\n",
    "a = int(input())\n",
    "b = int(input())\n",
    "\n",
    "if a<x or (a==x and b<y):\n",
    "    print('Before')\n",
    "    \n",
    "elif a > x or (a == x and b > y):\n",
    "    print('After')\n",
    "else:\n",
    "    print('Special')"
   ]
  },
  {
   "cell_type": "code",
   "execution_count": null,
   "metadata": {},
   "outputs": [],
   "source": [
    "문제\n",
    "서울시는 6월 1일부터 교통 혼잡을 막기 위해서 자동차 10부제를 시행한다. 자동차 10부제는 자동차 번호의 일의 자리 숫자와 날짜의 일의 자리 숫자가 일치하면 해당 자동차의 운행을 금지하는 것이다. 예를 들어, 자동차 번호의 일의 자리 숫자가 7이면 7일, 17일, 27일에 운행하지 못한다. 또한, 자동차 번호의 일의 자리 숫자가 0이면 10일, 20일, 30일에 운행하지 못한다.\n",
    "\n",
    "여러분들은 일일 경찰관이 되어 10부제를 위반하는 자동차의 대수를 세는 봉사활동을 하려고 한다. 날짜의 일의 자리 숫자가 주어지고 5대의 자동차 번호의 일의 자리 숫자가 주어졌을 때 위반하는 자동차의 대수를 출력하면 된다. \n",
    "\n",
    "입력\n",
    "첫 줄에는 날짜의 일의 자리 숫자가 주어지고 두 번째 줄에는 5대의 자동차 번호의 일의 자리 숫자가 주어진다. 날짜와 자동차의 일의 자리 숫자는 모두 0에서 9까지의 정수 중 하나이다. \n",
    "\n",
    "출력\n",
    "주어진 날짜와 자동차의 일의 자리 숫자를 보고 10부제를 위반하는 차량의 대수를 출력한다.\n",
    "\n",
    "예제 입력 1 \n",
    "1\n",
    "1 2 3 4 5\n",
    "예제 출력 1 \n",
    "1\n",
    "예제 입력 2 \n",
    "3\n",
    "1 2 3 5 3\n",
    "예제 출력 2 \n",
    "2\n",
    "예제 입력 3 \n",
    "5\n",
    "1 3 0 7 4\n",
    "예제 출력 3 \n",
    "0"
   ]
  },
  {
   "cell_type": "code",
   "execution_count": 11,
   "metadata": {},
   "outputs": [
    {
     "name": "stdout",
     "output_type": "stream",
     "text": [
      "3\n",
      "1 2 3 5 3\n",
      "2\n"
     ]
    }
   ],
   "source": [
    "n = int(input())\n",
    "\n",
    "arr = list(map(int, input().split()))\n",
    "print(arr.count(n))"
   ]
  },
  {
   "cell_type": "code",
   "execution_count": null,
   "metadata": {},
   "outputs": [],
   "source": [
    "한글 분류\n",
    "시간 제한\t메모리 제한\t제출\t정답\t맞은 사람\t정답 비율\n",
    "1 초\t256 MB\t1093\t650\t594\t63.666%\n",
    "문제\n",
    "한글의 각 글자는 초성, 중성, 종성으로 이루어져 있고, 이 세 가지를 모아써서 한 글자를 나타낸다.\n",
    "\n",
    "초성은 ㄱ, ㄲ, ㄴ, ㄷ, ㄸ, ㄹ, ㅁ, ㅂ, ㅃ, ㅅ, ㅆ, ㅇ, ㅈ, ㅉ, ㅊ, ㅋ, ㅌ, ㅍ, ㅎ로 총 19개가 있고, 중성은 ㅏ, ㅐ, ㅑ, ㅒ, ㅓ, ㅔ, ㅕ ㅖ, ㅗ, ㅘ, ㅙ, ㅚ, ㅛ, ㅜ, ㅝ, ㅞ, ㅟ, ㅠ, ㅡ, ㅢ, ㅣ로 총 21개, 종성은 없음, ㄱ, ㄲ, ㄳ, ㄴ, ㄵ, ㄶ, ㄷ, ㄹ, ㄺ, ㄻ, ㄼ, ㄽ, ㄾ, ㄿ, ㅀ, ㅁ, ㅂ, ㅄ, ㅅ, ㅆ, ㅇ, ㅈ, ㅊ, ㅋ, ㅌ, ㅍ, ㅎ로 총 28개가 있다.\n",
    "\n",
    "첫 번째 글자는 초성에서 ㄱ, 중성에서 ㅏ, 종성에서 없음을 합친 \"가\"가 되고, 두 번째 글자는 초성에서 ㄱ, 중성에서 ㅏ, 종성에서 ㄱ을 합친 \"각\"이 된다. 마지막 글자는 초성에서 ㅎ, 중성에서 ㅣ, 종성에서 ㅎ를 합친 \"힣\"이 된다.\n",
    "\n",
    "초성과 중성, 그리고 종성을 합쳐서 만들 수 있는 글자의 개수는 총 19*21*28 = 11,172개가 된다.\n",
    "\n",
    "입력으로 N이 주어졌을 때, N번째 글자를 구하는 프로그램을 작성하시오.\n",
    "\n",
    "입력\n",
    "첫째 줄에 N(1 ≤ N ≤ 11,172)이 주어진다.\n",
    "\n",
    "출력\n",
    "첫째 줄에 N번째 글자를 출력한다. 문자열의 인코딩은 UTF-8을 사용해야 한다.\n",
    "\n",
    "예제 입력 1 \n",
    "1\n",
    "예제 출력 1 \n",
    "가\n",
    "예제 입력 2 \n",
    "11172\n",
    "예제 출력 2 \n",
    "힣\n",
    "예제 입력 3 \n",
    "4146\n",
    "예제 출력 3 \n",
    "백\n",
    "예제 입력 4 \n",
    "7425\n",
    "예제 출력 4 \n",
    "준"
   ]
  },
  {
   "cell_type": "code",
   "execution_count": 17,
   "metadata": {},
   "outputs": [
    {
     "name": "stdout",
     "output_type": "stream",
     "text": [
      "4146\n",
      "백\n"
     ]
    }
   ],
   "source": [
    "n = int(input())\n",
    "\n",
    "print(chr(n+44031))\n",
    "\n",
    "# chr(i)\n",
    "# 유니코드 코드 포인트가 정수 i 인 문자를 나타내는 문자열을 돌려줍니다. 예를 들어, chr(97) 은 문자열 'a' 를 돌려주고, chr(8364) 는 문자열 '€' 를 돌려줍니다. 이 것은 ord() 의 반대입니다.\n",
    "\n",
    "# 인자의 유효 범위는 0에서 1,114,111(16진수로 0x10FFFF)까지입니다. i 가 이 범위 밖에 있을 때 ValueError 가 발생합니다."
   ]
  },
  {
   "cell_type": "code",
   "execution_count": null,
   "metadata": {},
   "outputs": [],
   "source": [
    "문제\n",
    "두 개의 바구니에 사과와 오렌지가 있다. 첫 번째 바구니에는 사과 A개와 오렌지 B개가 있으며 두 번째 바구니에는 사과 C개와 오렌지 D개가 있다.\n",
    "\n",
    "당신은 한 바구니에 있는 과일 하나를 집어서 다른 바구니로 옮길 수 있다. 이런 식으로 과일을 옮길 때, 한 바구니에는 사과만 있게 하고 다른 쪽에는 오렌지만 있게 하려고 한다.\n",
    "\n",
    "앞서 말한 조건을 만족하도록 과일을 옮길 때, 과일을 옮기는 최소 횟수를 구하는 프로그램을 작성하여라.\n",
    "\n",
    "입력\n",
    "첫 번째 줄에는 첫 번째 바구니에 있는 사과와 오렌지의 수 A, B가 주어진다. (0 ≤ A, B ≤ 1,000)\n",
    "\n",
    "두 번째 줄에는 두 번째 바구니에 있는 사과와 오렌지의 수 C, D가 주어진다. (0 ≤ C, D ≤ 1,000)\n",
    "\n",
    "출력\n",
    "사과와 오렌지를 옮기는 최소 횟수를 출력한다.\n",
    "\n",
    "예제 입력 1 \n",
    "1 2\n",
    "3 4\n",
    "예제 출력 1 \n",
    "5"
   ]
  },
  {
   "cell_type": "code",
   "execution_count": 18,
   "metadata": {},
   "outputs": [
    {
     "name": "stdout",
     "output_type": "stream",
     "text": [
      "1 2\n",
      "3 4\n",
      "5\n"
     ]
    }
   ],
   "source": [
    "a, b = map(int, input().split())\n",
    "c, d = map(int, input().split())\n",
    "\n",
    "print(min(a+d, b+c))"
   ]
  },
  {
   "cell_type": "code",
   "execution_count": null,
   "metadata": {},
   "outputs": [],
   "source": [
    "과목선택 출처다국어분류\n",
    "시간 제한\t메모리 제한\t제출\t정답\t맞은 사람\t정답 비율\n",
    "2 초\t512 MB\t2326\t1845\t1744\t80.928%\n",
    "문제\n",
    "JOI는 물리, 화학, 생물, 지구과학, 역사, 지리 총 6 과목의 시험을 봤다. 각 시험의 만점은 100점이다.\n",
    "\n",
    "JOI는 물리, 화학, 생물, 지구과학 4과목 중에서 3 과목을 선택하고 역사, 지리 2 과목 중에서 한 과목을 선택한다.\n",
    "\n",
    "시험 점수의 합이 가장 높게 나오도록 과목을 선택할 때, JOI가 선택한 과목의 시험 점수의 합을 구하시오.\n",
    "\n",
    "입력\n",
    "입력은 6행으로 되어있으며, 각 행에 1개의 정수가 주어진다.\n",
    "\n",
    "1행에는 JOI의 물리 시험의 점수 A가 주어진다.\n",
    "\n",
    "2행에는 JOI의 화학 시험의 점수 B가 주어진다.\n",
    "\n",
    "3행에는 JOI의 생물 시험의 점수 C가 주어진다.\n",
    "\n",
    "4행에는 JOI의 지구과학의 시험 점수 D가 주어진다.\n",
    "\n",
    "5행에는 JOI의 역사 시험의 점수 E가 주어진다.\n",
    "\n",
    "6행에는 JOI의 지리 시험의 점수 F가 주어진다.\n",
    "\n",
    "입력한 정수 A, B, C, D, E, F는 모두 0이상 100이하이다.\n",
    "\n",
    "출력\n",
    "JOI가 선택한 과목의 총 점수를 1행에 출력하시오.\n",
    "\n",
    "예제 입력 1 \n",
    "100\n",
    "34\n",
    "76\n",
    "42\n",
    "10\n",
    "0\n",
    "예제 출력 1 \n",
    "228\n",
    "예제 입력 2 \n",
    "15\n",
    "21\n",
    "15\n",
    "42\n",
    "15\n",
    "62\n",
    "예제 출력 2 \n",
    "140"
   ]
  },
  {
   "cell_type": "code",
   "execution_count": 20,
   "metadata": {},
   "outputs": [
    {
     "name": "stdout",
     "output_type": "stream",
     "text": [
      "15\n",
      "21\n",
      "15\n",
      "42\n",
      "15\n",
      "62\n",
      "140\n"
     ]
    }
   ],
   "source": [
    "arr1 = [int(input()) for _ in range(4)]\n",
    "arr2 = [int(input()) for _ in range(2)]\n",
    "\n",
    "print((sum(arr1)-min(arr1)) + (sum(arr2)-min(arr2)))"
   ]
  },
  {
   "cell_type": "code",
   "execution_count": null,
   "metadata": {},
   "outputs": [],
   "source": [
    "Do Not Touch Anything 출처분류\n",
    "시간 제한\t메모리 제한\t제출\t정답\t맞은 사람\t정답 비율\n",
    "1 초\t32 MB\t1760\t871\t810\t51.494%\n",
    "문제\n",
    "ACM-ICPC 대회의 대회장은 R행 C열의 직사각형 형태로 좌석이 배치되어 있다. 대회가 시작하기 전에는 참가자들이 아무것도 만지면 안 되기 때문에 진행자는 'Do not touch ANYTHING!!!'을 연신 외친다.\n",
    "\n",
    "하지만, 진행자가 성대결절에 걸리면서 'Do not touch ANYTHING!!!'을 외칠 수 없는 처지가 되었다. 따라서 주최측은 CCTV를 설치하여 참가자들을 감시하려고 한다. 이때, 각 CCTV는 N행 N열의 직사각형 영역의 좌석을 촬영할 수 있다.\n",
    "\n",
    "모든 좌석을 전부 촬영하도록 CCTV를 배치할 때, 최소 몇 개의 CCTV가 필요할까?\n",
    "\n",
    "입력\n",
    "첫 번째 줄에 좌석의 세로 크기, 가로 크기 R, C와 한 대의 CCTV가 수용할 수 있는 범위 N이 주어진다. (1 ≤ R, C, N ≤ 1,000,000)\n",
    "\n",
    "출력\n",
    "모든 좌석을 전부 촬영하도록 CCTV를 배치할 때, 필요한 CCTV의 최소 개수를 출력한다.\n",
    "\n",
    "예제 입력 1 \n",
    "7 9 3\n",
    "예제 출력 1 \n",
    "9"
   ]
  },
  {
   "cell_type": "code",
   "execution_count": 23,
   "metadata": {},
   "outputs": [
    {
     "name": "stdout",
     "output_type": "stream",
     "text": [
      "8 8 3\n",
      "9\n"
     ]
    }
   ],
   "source": [
    "import math\n",
    "\n",
    "x, y, m = map(int, input().split())\n",
    "\n",
    "print(math.ceil(x/m)*math.ceil(y/m))"
   ]
  },
  {
   "cell_type": "code",
   "execution_count": null,
   "metadata": {},
   "outputs": [],
   "source": [
    "팀 나누기 출처다국어분류\n",
    "시간 제한\t메모리 제한\t제출\t정답\t맞은 사람\t정답 비율\n",
    "2 초\t512 MB\t1759\t1118\t1030\t63.777%\n",
    "문제\n",
    "4명의 친구가 탁구를 하고 있다. 각각은 정수형으로 표현된 스킬 레벨을 가지고 있고, 숫자가 높을수록 더 좋은 플레이어다.\n",
    "\n",
    "4명의 친구는 각각 두 명씩 구성된 두 팀을 구성하려고 한다. 게임이 더 흥미롭게 하기 위해서 팀의 스킬 레벨을 최대한 가깝게 유지하기를 원한다. 팀의 스킬 레벨은 팀원의 스킬 레벨의 합계이다.\n",
    "\n",
    "그들은 탁구 선수로는 탁월하지만, 수학이나 컴퓨터와 같은 다른 것들에 능숙하지 않다. 팀의 스킬 레벨이 가능한 작은 차이를 갖도록 도와주자.\n",
    "\n",
    "입력\n",
    "입력은 네 개의 정수 A, B, C 및 D가 포함된 한 줄로 구성되며 4명의 스킬 레벨이 주어진다. (0 ≤ A ≤ B ≤ C ≤ D ≤ 104)\n",
    "\n",
    "출력\n",
    "두 팀의 스킬 레벨 차이의 최솟값을 출력한다.\n",
    "\n",
    "예제 입력 1 \n",
    "4 7 10 20\n",
    "예제 출력 1 \n",
    "7\n",
    "예제 입력 2 \n",
    "0 0 1 1000\n",
    "예제 출력 2 \n",
    "999\n",
    "예제 입력 3 \n",
    "1 2 3 4\n",
    "예제 출력 3 \n",
    "0"
   ]
  },
  {
   "cell_type": "code",
   "execution_count": 36,
   "metadata": {},
   "outputs": [
    {
     "name": "stdout",
     "output_type": "stream",
     "text": [
      "1 2 3 4\n",
      "0\n"
     ]
    }
   ],
   "source": [
    "import itertools\n",
    "\n",
    "arr = list(map(int, input().split()))\n",
    "\n",
    "arr = sorted(arr)\n",
    "\n",
    "print(max(arr[1]+arr[2], arr[0]+arr[3]) - min(arr[1]+arr[2], arr[0]+arr[3]))"
   ]
  },
  {
   "cell_type": "code",
   "execution_count": null,
   "metadata": {},
   "outputs": [],
   "source": [
    "정육각형과 삼각형 스페셜 저지분류\n",
    "시간 제한\t메모리 제한\t제출\t정답\t맞은 사람\t정답 비율\n",
    "2 초\t512 MB\t980\t653\t578\t70.488%\n",
    "문제\n",
    "한 변의 길이가 L인 정육각형을 가지고 있다. 오늘은 이 정육각형에 세 개의 겹치지 않는 대각선을 그리려고 한다.\n",
    "\n",
    "대각선은 정육각형을 4개의 삼각형으로 나눈다. 4개의 삼각형 중에 면적이 제일 작은 삼각형의 면적을 S라고 한다.\n",
    "\n",
    "가능한 S중에서 최댓값을 구하는 프로그램을 작성하시오.\n",
    "\n",
    "입력\n",
    "첫째 줄에 정육각형 한 변의 길이 L이 주어진다. (1 ≤ L ≤ 1,000,000, L은 정수)\n",
    "\n",
    "출력\n",
    "첫째 줄에 S의 최댓값을 출력한다. 절대/상대 오차는 10-9까지 허용한다.\n",
    "\n",
    "예제 입력 1 \n",
    "5\n",
    "예제 출력 1 \n",
    "10.825317547305485\n",
    "예제 입력 2 \n",
    "10\n",
    "예제 출력 2 \n",
    "43.30127018922194\n",
    "예제 입력 3 \n",
    "100000\n",
    "예제 출력 3 \n",
    "4.330127018922194E9"
   ]
  },
  {
   "cell_type": "code",
   "execution_count": null,
   "metadata": {},
   "outputs": [],
   "source": [
    "L = int(input())\n",
    "print(3**0.5 / 4 * L**2)"
   ]
  },
  {
   "cell_type": "code",
   "execution_count": null,
   "metadata": {},
   "outputs": [],
   "source": [
    "\n",
    "시간 제한\t메모리 제한\t제출\t정답\t맞은 사람\t정답 비율\n",
    "2 초\t512 MB\t1267\t1024\t964\t80.940%\n",
    "문제\n",
    "JOI 군은 식사 준비를 위해 A℃의 고기를 전자레인지로 B℃까지 데우려고 한다. 고기는 온도가 0℃보다 낮을 때 얼어 있고, 0℃보다 높을 때는 얼어 있지 않다. 온도가 정확히 0℃일 때 고기는 얼어 있을 수도, 얼어 있지 않을 수도 있다.\n",
    "\n",
    "JOI 군은 가열할 때 고기가 아래의 규칙을 따라 데워진다고 가정하고, 고기를 데우는 데 걸리는 시간을 어림하기로 했다.\n",
    "\n",
    "고기가 얼어 있고 온도가 0℃ 미만일 때 : 온도가 C초에 1℃씩 오른다.\n",
    "고기가 얼어 있고 온도가 정확히 0℃일 때 : 얼어 있지 않은 상태로 만드는(해동하는) 데 D초가 걸린다.\n",
    "고기가 얼어 있지 않을 때 : 온도가 E초에 1℃씩 오른다.\n",
    "이 규칙을 토대로, 고기가 B℃까지 데워지는 데 몇 초가 걸리는지 구하라.\n",
    "\n",
    "입력\n",
    "입력은 총 5줄로, 한 줄에 한 개씩의 정수가 주어진다.\n",
    "\n",
    "첫 줄에는 원래의 고기의 온도 A가 주어진다. 단, A는 -100 이상 100 이하이며, 0이 아니다.\n",
    "둘째 줄에는 목표 온도 B가 주어진다. 단, B는 1 이상 100 이하이며, A보다 크다.\n",
    "셋째 줄에는 얼어 있는 고기를 1℃ 데우는 데 걸리는 시간 C가 주어진다.\n",
    "넷째 줄에는 얼어 있는 고기를 해동하는 데 걸리는 시간 D가 주어진다.\n",
    "다섯째 줄에는 얼어 있지 않은 고기를 1℃ 데우는 데 걸리는 시간 E가 주어진다.\n",
    "C, D, E는 모두 1 이상 100 이하이다.\n",
    "\n",
    "출력\n",
    "고기를 B℃로 데우는 데 걸리는 시간을 초 단위로 한 줄에 출력하라.\n",
    "\n",
    "예제 입력 1 \n",
    "-10\n",
    "20\n",
    "5\n",
    "10\n",
    "3\n",
    "예제 출력 1 \n",
    "120\n",
    "예제 입력 2 \n",
    "35\n",
    "92\n",
    "31\n",
    "50\n",
    "11\n",
    "예제 출력 2 \n",
    "627"
   ]
  },
  {
   "cell_type": "code",
   "execution_count": 40,
   "metadata": {},
   "outputs": [
    {
     "name": "stdout",
     "output_type": "stream",
     "text": [
      "35\n",
      "92\n",
      "31\n",
      "50\n",
      "11\n",
      "627\n"
     ]
    }
   ],
   "source": [
    "a = int(input())\n",
    "b = int(input())\n",
    "c = int(input())\n",
    "d = int(input())\n",
    "e = int(input())\n",
    "\n",
    "if a < 0:\n",
    "    print(abs(a)*c + d + b*e)\n",
    "elif a == 0:\n",
    "    print(d + b*e)\n",
    "else:\n",
    "    print((b-a)*e)\n",
    "    "
   ]
  },
  {
   "cell_type": "code",
   "execution_count": null,
   "metadata": {},
   "outputs": [],
   "source": [
    "\n",
    "시간 제한\t메모리 제한\t제출\t정답\t맞은 사람\t정답 비율\n",
    "2 초\t256 MB\t1364\t739\t666\t57.913%\n",
    "문제\n",
    "감정이입에 대해서 알고 있는가? 감정이입이란 자신의 감정을 특정 대상에 이입시키거나 특정 대상의 감정을 자신에게 이입시켜서 서로 공감하는 것이다. 이렇게 자신이 다른 대상이 됐다고 생각을 하면 그전에는 느끼지 못했던 감정을 느낄 수 있어 풍부한 사고를 할 수 있다. 감정이입에 몰입하게 되면 어떠한 단계에 이르게 된다. 이 단계에서는 자신이 감정이입을 하는 대상이 되어 사고를 할 수 있게 된다.\n",
    "\n",
    "예로부터 많은 천재들이 이 단계에 다다라 많은 업적을 세웠다. 알베르트 아인슈타인은 빛이 되어 상대성 이론을 발견했고, 찰리 채플린은 자신이 연기하는 대상 그 자체가 되어 많은 사람들이 기억하는 희극배우가 됐다.\n",
    "\n",
    "컴퓨터 공학에서도 이런 단계에 다다를 수 있을까? CPU가 되어서 주변 입/출력 장치를 제어하거나, 뉴럴 네트워크에 존재하는 수많은 뉴런들 중 한 뉴런이 되어 계산에 관여하는 상상을 할 수 있을까?\n",
    "\n",
    "천 리 길도 한 걸음부터. 컴퓨터에서는 없어서 안될 ALU(Arithmetic Logic Unit)가 되는 상상을 해보자. ALU는 두 이진수의 산술 연산 혹은 논리 연산을 계산하는 회로다. 두 이진수가 주어졌을 때 덧셈은 가산기를, 뺄셈은 보수기와 가산기를 이용해 이루어진다. 그렇다면 두 이진수의 곱셈은 어떻게 이루어 질까? ALU가 되어 이 문제를 해결해보자.\n",
    "\n",
    "입력\n",
    "첫 번째 줄에 이진수 B1이 주어진다. 두 번째 줄에 이진수 B2가 주어진다. 입력으로 주어지는 두 이진수의 길이는 1 이상 30 이하의 자연수이다. 또한 두 이진수들이 1로 시작하는 것이 보장된다.\n",
    "\n",
    "출력\n",
    "첫 번째 줄에 입력으로 주어진 두 이진수 B1, B2의 곱을 이진수로 출력한다. 출력하는 이진수 앞에 불필요한 0이 붙으면 안 됨에 주의해야 한다. 즉 출력하는 이진수의 시작은 항상 1이어야 한다.\n",
    "\n",
    "예제 입력 1 \n",
    "1010\n",
    "11\n",
    "예제 출력 1 \n",
    "11110"
   ]
  },
  {
   "cell_type": "code",
   "execution_count": 47,
   "metadata": {},
   "outputs": [
    {
     "name": "stdout",
     "output_type": "stream",
     "text": [
      "1010\n",
      "11\n",
      "11110\n"
     ]
    }
   ],
   "source": [
    "b1 = int(input(), 2)\n",
    "b2 = int(input(), 2)\n",
    "\n",
    "print(format(b1*b2,'b'))"
   ]
  },
  {
   "cell_type": "code",
   "execution_count": null,
   "metadata": {},
   "outputs": [],
   "source": [
    "사분면 고르기 출처다국어분류\n",
    "시간 제한\t메모리 제한\t제출\t정답\t맞은 사람\t정답 비율\n",
    "1 초\t512 MB\t59355\t37283\t34008\t64.329%\n",
    "문제\n",
    "흔한 수학 문제 중 하나는 주어진 점이 어느 사분면에 속하는지 알아내는 것이다. 사분면은 아래 그림처럼 1부터 4까지 번호를 갖는다. \"Quadrant n\"은 \"제n사분면\"이라는 뜻이다.\n",
    "\n",
    "\n",
    "\n",
    "예를 들어, 좌표가 (12, 5)인 점 A는 x좌표와 y좌표가 모두 양수이므로 제1사분면에 속한다. 점 B는 x좌표가 음수이고 y좌표가 양수이므로 제2사분면에 속한다.\n",
    "\n",
    "점의 좌표를 입력받아 그 점이 어느 사분면에 속하는지 알아내는 프로그램을 작성하시오. 단, x좌표와 y좌표는 모두 양수나 음수라고 가정한다.\n",
    "\n",
    "입력\n",
    "첫 줄에는 정수 x가 주어진다. (−1000 ≤ x ≤ 1000; x ≠ 0) 다음 줄에는 정수 y가 주어진다. (−1000 ≤ y ≤ 1000; y ≠ 0)\n",
    "\n",
    "출력\n",
    "점 (x, y)의 사분면 번호(1, 2, 3, 4 중 하나)를 출력한다.\n",
    "\n",
    "예제 입력 1 \n",
    "12\n",
    "5\n",
    "예제 출력 1 \n",
    "1\n",
    "예제 입력 2 \n",
    "9\n",
    "-13\n",
    "예제 출력 2 \n",
    "4"
   ]
  },
  {
   "cell_type": "code",
   "execution_count": null,
   "metadata": {},
   "outputs": [],
   "source": [
    "x = int(input())\n",
    "y = int(input())\n",
    "\n",
    "if x>0 and y>0:\n",
    "    print(1)\n",
    "elif x<0 and y>0:\n",
    "    print(2)\n",
    "elif x<0 and y<0:\n",
    "    print(3)\n",
    "else:\n",
    "    print(4)"
   ]
  },
  {
   "cell_type": "code",
   "execution_count": null,
   "metadata": {},
   "outputs": [],
   "source": [
    "폰 노이만과 파리 출처분류\n",
    "시간 제한\t메모리 제한\t제출\t정답\t맞은 사람\t정답 비율\n",
    "1 초\t512 MB\t1604\t1318\t1246\t83.400%\n",
    "문제\n",
    "역사상 최고의 천재중 하나인 폰 노이만에게는 다음과 같은 재밌는 일화가 있다.\n",
    "\n",
    "그의 동료는 어느 날 폰 노이만의 천재성을 시험해보기 위해서 다음과 같은 질문을 던졌다.\n",
    "\n",
    "“200마일 길이의 철로의 양쪽 끝에 서 있는 두 대의 기차가 시속 50마일의 속도로 서로를 향해 출발했습니다. 이때부터 두 기차가 서로 충돌할 때까지 파리가 시속 75마일의 속도로 두 기차사이를 왔다 갔다 했습니다. 파리가 이동한 거리는 모두 몇 마일일까요?”\n",
    "\n",
    "폰 노이만은 문제를 듣고 1초의 지체도 없이 150마일이라고 답했다. 그의 동료는 크게 실망하며 말했다.\n",
    "\n",
    "“역시 당신은 똑똑하군요. 보통 사람들은 이 문제를 무한급수를 이용해서 풀려고 하지만 그렇게 하면 매우 긴 시간이 걸리죠. 하지만 간단한 논리를 사용하면 순식간에 파리가 이동한 거리를 구할 수 있습니다. 당신도 그 논리를 이용한 것이죠?”\n",
    "\n",
    "그러자 폰 노이만은 이렇게 답했다.\n",
    "\n",
    "“아니요, 무한급수로 풀었는데요?”\n",
    "\n",
    "이 문제를 무한급수를 통해 푸는 방법은 다음과 같다.  수직선 위에 기차 A, B가 있다고 하자.  파리와 같이 출발하는 기차를 A라 하고, 그 위치를 기준점으로 하면 기차 B는 기준점에서 200마일 만큼 떨어진 지점에 있다. 이때 시간 t에서 파리의 위치는 75t 이고 기차 B의 위치는 200 – 50t 이다. 이를 이용하면 파리와 기차 B가 처음 만나는 위치는 기준점에서 120마일 떨어진 지점임을 알 수 있다.  120마일은 파리의 첫 이동거리 이고 이를 a1이라고 하자.  한편 이때 기차 A는 80마일 떨어진 지점에 위치한다 (기차 A의 속도는 파리의 속도의 2/3 이므로).  그러므로 기차 A와 B의 사이가 40마일로 줄어들었고, 같은 식으로 파리의 두 번째 이동거리 a2는 (1/5)a1임을 알 수 있다.  이와 같이 생각하면, ai+1은 (1/5)ia1이고, 파리의 총 이동거리는 Σ(1/5)ia1 = 150 즉 150마일임을 알 수 있다.\n",
    "\n",
    "이 문제를 푸는 “간단한 논리”는 다음과 같다.  두 기차는 200/(50*2) = 2 시간 후에 만난다.  파리는 2시간동안 시간당 75마일의 속도로 이동하므로 2*75 = 150 마일을 이동한다.\n",
    "\n",
    "우리는 위에서 제시한 문제를 풀 수 있는 프로그램을 만들고 싶다. 하지만 우리의 컴퓨터는 안타깝게도 폰 노이만의 두뇌보다 성능이 좋지 못하기 때문에 무한급수를 이용하여 프로그램을 만들 수는 없다.  위에서 말한 “간단한 논리”를 이용하여 기차의 속도 S,  파리의 속도 T, 그리고 처음 두 기차 사이의 거리 D가 주어졌을 때 두 기차가 만날 때까지 파리의 이동거리 F를 계산하는 프로그램을 작성하라.\n",
    "\n",
    "입력\n",
    "S T D \n",
    "각각 10,000보다 작거나 같은 양의 정수, T>S, D는 2*S의 배수\n",
    "출력\n",
    "F\n",
    "예제 입력 1 \n",
    "50 75 200\n",
    "예제 출력 1 \n",
    "150"
   ]
  },
  {
   "cell_type": "code",
   "execution_count": 48,
   "metadata": {},
   "outputs": [
    {
     "name": "stdout",
     "output_type": "stream",
     "text": [
      "50 75 200\n",
      "150\n"
     ]
    }
   ],
   "source": [
    "a, b, c = map(int, input().split())\n",
    "\n",
    "print(b*(c//(a*2)))"
   ]
  },
  {
   "cell_type": "code",
   "execution_count": null,
   "metadata": {},
   "outputs": [],
   "source": [
    "FA 출처분류\n",
    "시간 제한\t메모리 제한\t제출\t정답\t맞은 사람\t정답 비율\n",
    "1 초\t128 MB\t1285\t1060\t873\t83.381%\n",
    "문제\n",
    "함수 F(x)는 입력으로 주어진 수 x의 첫 자리와 수 x의 자리수를 곱한 결과를 반환하는 함수이다.\n",
    "\n",
    "예를 들어 x = 932 일때 F(x)는 9×3으로 27을 반환한다.\n",
    "\n",
    "입력받은 x에 대해서 함수 F를 수행하고, 나온 결과값에 다시 함수 F를 수행하는 것을 반복한다. 계속 반복해서 수행했을 때 어느 시점에서부터 동일한 수가 나오는 경우, 입력 x를 FA수 라고 한다.\n",
    "\n",
    "입력 x가 주어졌을때 이 수가 FA 수인지 출력하라.\n",
    "\n",
    "입력\n",
    "정수 x 가 주어진다. (0 ≤ x ≤ 10100)\n",
    "\n",
    "출력\n",
    "정수 x가 FA수 라면 FA를 출력하고, 아니라면 NFA를 출력한다.\n",
    "\n",
    "예제 입력 1 \n",
    "932\n",
    "예제 출력 1 \n",
    "FA"
   ]
  },
  {
   "cell_type": "code",
   "execution_count": null,
   "metadata": {},
   "outputs": [],
   "source": [
    "print('FA')"
   ]
  },
  {
   "cell_type": "code",
   "execution_count": null,
   "metadata": {},
   "outputs": [],
   "source": [
    "\n",
    "시간 제한\t메모리 제한\t제출\t정답\t맞은 사람\t정답 비율\n",
    "1 초\t128 MB\t2909\t902\t809\t32.993%\n",
    "문제\n",
    "다음과 같이 세 수가 연속해서 주어졌을 때 한 번의 곱셈 기호와 한 번의 나눗셈 기호를 이용하여 만든 식 중 가장 큰 값을 출력하는 프로그램을 작성하시오. (세 수의 순서는 변하지 않는다.)\n",
    "\n",
    "32 ☐ 16 ☐ 8\n",
    "\n",
    "입력\n",
    "첫째 줄에 세 개 정수 A, B, C(1 <= A, B, C <= 1,000,000)가 주어진다. 답은 int범위를 벗어나지 않는다.\n",
    "\n",
    "출력\n",
    "나올 수 있는 가장 큰 값을 출력한다. 단, 소수점 아래는 버린다. 1e-9 이하의 오차로 인해 출력이 달라지는 입력은 주어지지 않는다.\n",
    "\n",
    "예제 입력 1 \n",
    "32 16 8\n",
    "예제 출력 1 \n",
    "64"
   ]
  },
  {
   "cell_type": "code",
   "execution_count": 50,
   "metadata": {},
   "outputs": [
    {
     "name": "stdout",
     "output_type": "stream",
     "text": [
      "32 16 8\n",
      "64\n"
     ]
    }
   ],
   "source": [
    "a,b,c = map(int, input().split())\n",
    "\n",
    "if a >= b >= c:\n",
    "    print(a*b//c)\n",
    "elif a >= c >= b:\n",
    "    print(a*c//b)\n",
    "elif b >= a >= c:\n",
    "    print(b*a//c)\n",
    "elif b >= c >= a:\n",
    "    print(b*c//a)\n",
    "elif c >= a >= b:\n",
    "    print(c*a//b)\n",
    "elif c >= b >= a:\n",
    "    print(c*b//a)\n",
    "else:\n",
    "    print(a*b//c)"
   ]
  },
  {
   "cell_type": "code",
   "execution_count": null,
   "metadata": {},
   "outputs": [],
   "source": [
    "A, B, C = map(int, input().split())\n",
    "print(A * max(B, C) // min(B, C))"
   ]
  },
  {
   "cell_type": "code",
   "execution_count": null,
   "metadata": {},
   "outputs": [],
   "source": [
    "나이 계산하기 분류\n",
    "시간 제한\t메모리 제한\t제출\t정답\t맞은 사람\t정답 비율\n",
    "1 초\t128 MB\t1262\t678\t610\t56.586%\n",
    "문제\n",
    "한국에서 나이는 총 3가지 종류가 있다.\n",
    "\n",
    "만 나이: 국제적인 표준 방법이다. 한국에서도 법에서는 만 나이만을 사용한다.\n",
    "세는 나이: 한국에서 보통 나이를 물어보면 세는 나이를 의미한다.\n",
    "연 나이: 법률에서 일괄적으로 사람을 구분하기 위해서 사용하는 나이이다.\n",
    "만 나이는 생일을 기준으로 계산한다. 어떤 사람이 태어났을 때, 그 사람의 나이는 0세이고, 생일이 지날 때마다 1세가 증가한다. 예를 들어, 생일이 2003년 3월 5일인 사람은 2004년 3월 4일까지 0세이고, 2004년 3월 5일부터 2005년 3월 4일까지 1세이다.\n",
    "\n",
    "세는 나이는 생년을 기준으로 계산한다. 어떤 사람이 태어났을 때, 그 사람의 나이는 1세이고, 연도가 바뀔 때마다 1세가 증가한다. 예를 들어, 생일이 2003년 3월 5일인 사람은 2003년 12월 31일까지 1세이고, 2004년 1월 1일부터 2004년 12월 31일까지 2세이다.\n",
    "\n",
    "연 나이는 생년을 기준으로 계산하고, 현재 연도에서 생년을 뺀 값이다. 예를 들어, 생일이 2003년 3월 5일인 사람은 2003년 12월 31일까지 0세이고, 2004년 1월 1일부터 2004년 12월 31일까지 1세이다.\n",
    "\n",
    "어떤 사람의 생년월일과 기준 날짜가 주어졌을 때, 기준 날짜를 기준으로 그 사람의 만 나이, 세는 나이, 연 나이를 모두 구하는 프로그램을 작성하시오.\n",
    "\n",
    "입력\n",
    "첫째 줄에 어떤 사람이 태어난 연도, 월, 일이 주어진다. 생년월일은 공백으로 구분되어져 있고, 항상 올바른 날짜만 주어진다.\n",
    "\n",
    "둘째 줄에 기준 날짜가 주어진다. 기준 날짜도 공백으로 구분되어져 있으며, 올바른 날짜만 주어진다.\n",
    "\n",
    "입력으로 주어지는 생년월일은 기준 날짜와 같거나 그 이전이다.\n",
    "\n",
    "입력으로 주어지는 연도는 1900년보다 크거나 같고, 2100년보다 작거나 같다.\n",
    "\n",
    "출력\n",
    "첫째 줄에 만 나이, 둘째 줄에 세는 나이, 셋째 줄에 연 나이를 출력한다.\n",
    "\n",
    "예제 입력 1 \n",
    "2003 3 5\n",
    "2003 4 5\n",
    "예제 출력 1 \n",
    "0\n",
    "1\n",
    "0"
   ]
  },
  {
   "cell_type": "code",
   "execution_count": 56,
   "metadata": {},
   "outputs": [
    {
     "name": "stdout",
     "output_type": "stream",
     "text": [
      "2003 3 5\n",
      "2003 4 5\n",
      "-1\n",
      "1\n",
      "0\n"
     ]
    }
   ],
   "source": [
    "a, b, c = map(int, input().split())\n",
    "d, e, f = map(int, input().split())\n",
    "\n",
    "if d>a and b <= e and e <= f:\n",
    "    print(d-a)\n",
    "else:\n",
    "    print(d-a-1)\n",
    "\n",
    "print(d-a+1)\n",
    "\n",
    "print(d-a)"
   ]
  },
  {
   "cell_type": "code",
   "execution_count": null,
   "metadata": {},
   "outputs": [],
   "source": [
    "y1, m1, d1 = map(int, input().split())\n",
    "y2, m2, d2 = map(int, input().split())\n",
    "man_old = 0\n",
    "if m1 < m2:\n",
    "    man_old = y2-y1\n",
    "elif m1 == m2:\n",
    "    if d1 <= d2:\n",
    "        man_old = y2-y1\n",
    "    else:\n",
    "        man_old = y2-y1-1\n",
    "else:\n",
    "    man_old = y2-y1-1\n",
    "count_old = y2-y1+1\n",
    "year_old = y2-y1\n",
    "print(man_old)\n",
    "print(count_old)\n",
    "print(year_old)"
   ]
  },
  {
   "cell_type": "code",
   "execution_count": null,
   "metadata": {},
   "outputs": [],
   "source": [
    "문제\n",
    "앞 면에 O와 X가 적혀있는 카드 N개가 있다. N개의 카드 중 M개의 카드의 앞면에는 O가 한 개 적혀있고, 나머지 N-M개의 카드의 앞면에는 X가 한 개 적혀있다. 카드의 뒷 면은 두 종류의 카드 모두 같은 모양이라 구분할 수 없다.\n",
    "\n",
    "카드의 뒷 면에 O나 X를 하나씩 적으려고 한다. 이 때, O는 K개, X는 N-K개 적으려고 한다.\n",
    "\n",
    "앞 면과 뒷 면에 같은 모양이 적혀있는 카드의 최대 개수를 구하는 프로그램을 작성하시오.\n",
    "\n",
    "입력\n",
    "첫째 줄에 N, M, K가 주어진다. (1 ≤ N ≤ 1,000,000, 0 ≤ M, K ≤ N)\n",
    "\n",
    "출력\n",
    "첫째 줄에 앞 면과 뒷 면에 같은 모양이 적혀있는 카드의 최대 개수를 출력한다.\n",
    "\n",
    "예제 입력 1 \n",
    "4 3 2\n",
    "예제 출력 1 \n",
    "3\n",
    "예제 입력 2 \n",
    "10 0 10\n",
    "예제 출력 2 \n",
    "0\n",
    "예제 입력 3 \n",
    "5 3 3\n",
    "예제 출력 3 \n",
    "5\n",
    "예제 입력 4 \n",
    "7 5 2\n",
    "예제 출력 4 \n",
    "4"
   ]
  },
  {
   "cell_type": "code",
   "execution_count": 60,
   "metadata": {},
   "outputs": [
    {
     "name": "stdout",
     "output_type": "stream",
     "text": [
      "7 5 2\n",
      "4\n"
     ]
    }
   ],
   "source": [
    "n, m, k = map(int, input().split())\n",
    "\n",
    "print(min(m, k) + min(n-m, n-k))"
   ]
  },
  {
   "cell_type": "code",
   "execution_count": null,
   "metadata": {},
   "outputs": [],
   "source": [
    "베시와 데이지 출처분류\n",
    "시간 제한\t메모리 제한\t제출\t정답\t맞은 사람\t정답 비율\n",
    "1 초\t128 MB\t2301\t1330\t1170\t58.500%\n",
    "문제\n",
    "농부 존은 소 베시와 소 데이지를 키우고 있습니다.\n",
    "\n",
    "두 소는 자유롭게 1,000 × 1,000 2차원 격자 목초지를 누비며 놀고 있습니다. 농부 존이 종을 치면 베시와 데이지가 농부 존이 있는 곳으로 달려갑니다. \n",
    "\n",
    "\n",
    "\n",
    "베시가 B에 있을 때 1초 후에 움직일 수 있는 칸과 데이지가 D에 있을 때 1초 후에 움직일 수 있는 칸을 나타낸 그림\n",
    " \n",
    "\n",
    "베시는 1초 후에 꼭짓점을 공유하는 8개의 칸 중 하나로 이동할 수 있고 데이지는 1초 후에 변을 공유하는 4개의 칸 중 하나로 이동할 수 있습니다. 칸들은 충분히 넓어서 칸 하나에도 베시와 데이지 그리고 존이 같이 서 있을 수 있습니다. \n",
    "\n",
    "베시와 데이지 두 소 모두 최단 경로로 존에게 갈 때 어떤 소가 더 빨리 도착할까요?\n",
    "\n",
    "입력\n",
    "첫 번째 줄에 베시의 좌표 Br, Bc (1 ≤ Br, Bc ≤ 1,000) 이 주어집니다.\n",
    "\n",
    "두 번째 줄에 데이지의 좌표 Dr, Dc (1 ≤ Dr, Dc ≤ 1,000) 이 주어집니다.\n",
    "\n",
    "세 번째 줄에 존의 좌표 Jr, Jc (1 ≤ Jr, Jc ≤ 1,000) 이 주어집니다.\n",
    "\n",
    "처음에 존이 있는 칸에는 베시와 데이지가 없음이 보장됩니다.\n",
    "\n",
    "출력\n",
    "첫 번째 줄에 베시가 더 빨리 도착하면 'bessie', 데이지가 더 빨리 도착하면 'daisy', 동시에 도착하면 'tie' 를 출력합니다.\n",
    "\n",
    "예제 입력 1 \n",
    "3 5\n",
    "1 1\n",
    "2 3\n",
    "예제 출력 1 \n",
    "bessie\n",
    "예제 입력 2 \n",
    "13 13\n",
    "11 11\n",
    "11 12\n",
    "예제 출력 2 \n",
    "daisy\n",
    "예제 입력 3 \n",
    "4 5\n",
    "5 4\n",
    "4 4\n",
    "예제 출력 3 \n",
    "tie"
   ]
  },
  {
   "cell_type": "code",
   "execution_count": null,
   "metadata": {},
   "outputs": [],
   "source": [
    "def bessie_count(x,y, tx, ty):\n",
    "    if x == tx and\n",
    "\n",
    "x1, y1 = map(int, input().split())\n",
    "x2, y2 = map(int, input().split())\n",
    "x3, y3 = map(int, input().split())\n",
    "\n"
   ]
  },
  {
   "cell_type": "code",
   "execution_count": null,
   "metadata": {},
   "outputs": [],
   "source": [
    "Br, Bc = map(int, input().split())\n",
    "Dr, Dc = map(int, input().split())\n",
    "Jr, Jc = map(int, input().split())\n",
    " \n",
    "B = max(abs(Jr - Br), abs(Jc - Bc))\n",
    "D = abs(Jr - Dr) + abs(Jc - Dc)\n",
    " \n",
    "if B == D:\n",
    "    print(\"tie\")\n",
    "elif B < D:\n",
    "    print(\"bessie\")\n",
    "else:\n",
    "    print(\"daisy\")"
   ]
  },
  {
   "cell_type": "code",
   "execution_count": null,
   "metadata": {},
   "outputs": [],
   "source": [
    "세연이네 학교 운동장은 아래와 같다.\n",
    "\n",
    "\n",
    "\n",
    "위의 그림에서 영역 A와 B는 반원이며, 영역 C는 직사각형이다. 영역 C의 가로의 길이를 d1, 영역 A의 반지름의 길이 d2의 값이 주어지면 운동장의 한 바퀴 둘레를 알아내는 프로그램을 작성하시오. (단, 이 문제에서는 π (원주율)의 값을 3.141592라고 한다.)\n",
    "\n",
    "입력\n",
    "첫째 줄에 d1의 값이 주어진다. 둘째 줄에는 d2의 값이 주어진다. (d1, d2의 값은 100,000 이하의 양의 정수)\n",
    "\n",
    "출력\n",
    "첫째 줄에 문제에서 요구하는 정답을 출력한다. 절대/상대 오차는 10-6 까지 허용한다.\n",
    "\n",
    "예제 입력 1 \n",
    "13\n",
    "8\n",
    "예제 출력 1 \n",
    "76.265472\n"
   ]
  },
  {
   "cell_type": "code",
   "execution_count": 63,
   "metadata": {},
   "outputs": [
    {
     "name": "stdout",
     "output_type": "stream",
     "text": [
      "13\n",
      "8\n",
      "76.265472\n"
     ]
    }
   ],
   "source": [
    "x = int(input())\n",
    "r = int(input())\n",
    "\n",
    "print(2*x  + 2*3.141592*r)"
   ]
  },
  {
   "cell_type": "code",
   "execution_count": null,
   "metadata": {},
   "outputs": [],
   "source": [
    "약수 분류\n",
    "시간 제한\t메모리 제한\t제출\t정답\t맞은 사람\t정답 비율\n",
    "2 초\t512 MB\t24939\t12206\t10669\t49.820%\n",
    "문제\n",
    "양수 A가 N의 진짜 약수가 되려면, N이 A의 배수이고, A가 1과 N이 아니어야 한다. 어떤 수 N의 진짜 약수가 모두 주어질 때, N을 구하는 프로그램을 작성하시오.\n",
    "\n",
    "입력\n",
    "첫째 줄에 N의 진짜 약수의 개수가 주어진다. 이 개수는 50보다 작거나 같은 자연수이다. 둘째 줄에는 N의 진짜 약수가 주어진다. 1,000,000보다 작거나 같고, 2보다 크거나 같은 자연수이고, 중복되지 않는다.\n",
    "\n",
    "출력\n",
    "첫째 줄에 N을 출력한다. N은 항상 32비트 부호있는 정수로 표현할 수 있다.\n",
    "\n",
    "예제 입력 1 \n",
    "2\n",
    "4 2\n",
    "예제 출력 1 \n",
    "8"
   ]
  },
  {
   "cell_type": "code",
   "execution_count": 5,
   "metadata": {},
   "outputs": [
    {
     "name": "stdout",
     "output_type": "stream",
     "text": [
      "1\n",
      "5\n",
      "25\n"
     ]
    }
   ],
   "source": [
    "import math\n",
    "\n",
    "n = int(input())\n",
    "\n",
    "arr =list(map(int, input().split()))\n",
    "arr = sorted(arr)\n",
    "if n%2 == 0:\n",
    "    print(arr[0]*arr[-1])\n",
    "else:\n",
    "    print(arr[math.floor(len(arr)/2)]**2)\n",
    "    \n"
   ]
  },
  {
   "cell_type": "code",
   "execution_count": null,
   "metadata": {},
   "outputs": [],
   "source": [
    "막대기 분류\n",
    "시간 제한\t메모리 제한\t제출\t정답\t맞은 사람\t정답 비율\n",
    "2 초\t128 MB\t14988\t10854\t9386\t74.157%\n",
    "문제\n",
    "지민이는 길이가 64cm인 막대를 가지고 있다. 어느 날, 그는 길이가 Xcm인 막대가 가지고 싶어졌다. 지민이는 원래 가지고 있던 막대를 더 작은 막대로 자른다음에, 풀로 붙여서 길이가 Xcm인 막대를 만들려고 한다.\n",
    "\n",
    "막대를 자르는 가장 쉬운 방법은 절반으로 자르는 것이다. 지민이는 아래와 같은 과정을 거쳐서 막대를 자르려고 한다.\n",
    "\n",
    "지민이가 가지고 있는 막대의 길이를 모두 더한다. 처음에는 64cm 막대 하나만 가지고 있다. 이때, 합이 X보다 크다면, 아래와 같은 과정을 반복한다.\n",
    "가지고 있는 막대 중 길이가 가장 짧은 것을 절반으로 자른다.\n",
    "만약, 위에서 자른 막대의 절반 중 하나를 버리고 남아있는 막대의 길이의 합이 X보다 크거나 같다면, 위에서 자른 막대의 절반 중 하나를 버린다.\n",
    "이제, 남아있는 모든 막대를 풀로 붙여서 Xcm를 만든다.\n",
    "X가 주어졌을 때, 위의 과정을 거친다면, 몇 개의 막대를 풀로 붙여서 Xcm를 만들 수 있는지 구하는 프로그램을 작성하시오. \n",
    "\n",
    "입력\n",
    "첫째 줄에 X가 주어진다. X는 64보다 작거나 같은 자연수이다.\n",
    "\n",
    "출력\n",
    "문제의 과정을 거친다면, 몇 개의 막대를 풀로 붙여서 Xcm를 만들 수 있는지 출력한다.\n",
    "\n",
    "예제 입력 1 \n",
    "23\n",
    "예제 출력 1 \n",
    "4\n",
    "예제 입력 2 \n",
    "32\n",
    "예제 출력 2 \n",
    "1\n",
    "예제 입력 3 \n",
    "64\n",
    "예제 출력 3 \n",
    "1\n",
    "예제 입력 4 \n",
    "48\n",
    "예제 출력 4 \n",
    "2"
   ]
  },
  {
   "cell_type": "code",
   "execution_count": 11,
   "metadata": {},
   "outputs": [
    {
     "name": "stdout",
     "output_type": "stream",
     "text": [
      "48\n",
      "2\n"
     ]
    }
   ],
   "source": [
    "\n",
    "n = int(input())\n",
    "count = 0\n",
    "while (n != 0):\n",
    "    if n >= 64:\n",
    "        count += 1\n",
    "        n = n -64\n",
    "    \n",
    "    elif n >= 32:\n",
    "        count += 1\n",
    "        n = n -32        \n",
    "    \n",
    "    elif n >= 16:\n",
    "        count += 1\n",
    "        n = n -16\n",
    "\n",
    "    elif n>=8:\n",
    "        count += 1\n",
    "        n = n -8\n",
    "\n",
    "    elif n >= 4:\n",
    "        count += 1\n",
    "        n = n -4\n",
    "\n",
    "    elif n >= 2:\n",
    "        count += 1\n",
    "        n = n -2\n",
    "\n",
    "    elif n >= 1:\n",
    "        count += 1\n",
    "        n = n -1\n",
    "print(count)"
   ]
  },
  {
   "cell_type": "code",
   "execution_count": null,
   "metadata": {},
   "outputs": [],
   "source": [
    "\n",
    "시간 제한\t메모리 제한\t제출\t정답\t맞은 사람\t정답 비율\n",
    "2 초\t256 MB\t42758\t20683\t14833\t48.336%\n",
    "문제\n",
    "요세푸스 문제는 다음과 같다.\n",
    "\n",
    "1번부터 N번까지 N명의 사람이 원을 이루면서 앉아있고, 양의 정수 K(≤ N)가 주어진다. 이제 순서대로 K번째 사람을 제거한다. 한 사람이 제거되면 남은 사람들로 이루어진 원을 따라 이 과정을 계속해 나간다. 이 과정은 N명의 사람이 모두 제거될 때까지 계속된다. 원에서 사람들이 제거되는 순서를 (N, K)-요세푸스 순열이라고 한다. 예를 들어 (7, 3)-요세푸스 순열은 <3, 6, 2, 7, 5, 1, 4>이다.\n",
    "\n",
    "N과 K가 주어지면 (N, K)-요세푸스 순열을 구하는 프로그램을 작성하시오.\n",
    "\n",
    "입력\n",
    "첫째 줄에 N과 K가 빈 칸을 사이에 두고 순서대로 주어진다. (1 ≤ K ≤ N ≤ 5,000)\n",
    "\n",
    "출력\n",
    "예제와 같이 요세푸스 순열을 출력한다.\n",
    "\n",
    "예제 입력 1 \n",
    "7 3\n",
    "예제 출력 1 \n",
    "<3, 6, 2, 7, 5, 1, 4>"
   ]
  },
  {
   "cell_type": "code",
   "execution_count": 22,
   "metadata": {},
   "outputs": [
    {
     "name": "stdout",
     "output_type": "stream",
     "text": [
      "7 3\n",
      "[3, 6, 5]\n"
     ]
    }
   ],
   "source": [
    "n, k = map(int, input().split())\n",
    "\n",
    "\n",
    "arr = [i+1 for i in range(n)]\n",
    "answer = []\n",
    "\n",
    "while arr:\n",
    "    if arr[k-1] not in answer:\n",
    "        answer.append(arr[k-1])\n",
    "        k = (2*k)%len(arr)\n",
    "    else:\n",
    "        print(answer)\n",
    "        break\n",
    "        "
   ]
  },
  {
   "cell_type": "code",
   "execution_count": 32,
   "metadata": {},
   "outputs": [
    {
     "name": "stdout",
     "output_type": "stream",
     "text": [
      "7 3\n",
      "[3, 7, 4, 2, 5, 1, 6]\n"
     ]
    }
   ],
   "source": [
    "from collections import deque\n",
    "\n",
    "n, k = map(int, input().split())\n",
    "\n",
    "arr = [i+1 for i in range(n)]\n",
    "answer = []\n",
    "t = k\n",
    "\n",
    "while arr:\n",
    "    answer.append(arr.pop(t-1))\n",
    "    if len(arr) != 0:\n",
    "        t = (t+k) % len(arr)\n",
    "print(answer)\n",
    "        "
   ]
  },
  {
   "cell_type": "code",
   "execution_count": 34,
   "metadata": {},
   "outputs": [
    {
     "name": "stdout",
     "output_type": "stream",
     "text": [
      "7 3\n",
      "<3, 6, 2, 7, 5, 1, 4>\n"
     ]
    }
   ],
   "source": [
    "N,K = map(int,input().split())\n",
    "arr = [i for i in range(1,N+1)]    # 맨 처음에 원에 앉아있는 사람들\n",
    "\n",
    "answer = []   # 제거된 사람들을 넣을 배열\n",
    "num = 0  # 제거될 사람의 인덱스 번호\n",
    "\n",
    "for _ in range(N):\n",
    "    num += K-1  \n",
    "    if num >= len(arr):   # 한바퀴를 돌고 그다음으로 돌아올때를 대비해 값을 나머지로 바꿈  \n",
    "        num = num%len(arr)\n",
    " \n",
    "    answer.append(str(arr.pop(num)))\n",
    "print(\"<\",\", \".join(answer)[:],\">\", sep='')"
   ]
  },
  {
   "cell_type": "code",
   "execution_count": null,
   "metadata": {},
   "outputs": [],
   "source": [
    "문제\n",
    "알파벳 소문자로 이루어진 N개의 단어가 들어오면 아래와 같은 조건에 따라 정렬하는 프로그램을 작성하시오.\n",
    "\n",
    "길이가 짧은 것부터\n",
    "길이가 같으면 사전 순으로\n",
    "입력\n",
    "첫째 줄에 단어의 개수 N이 주어진다. (1 ≤ N ≤ 20,000) 둘째 줄부터 N개의 줄에 걸쳐 알파벳 소문자로 이루어진 단어가 한 줄에 하나씩 주어진다. 주어지는 문자열의 길이는 50을 넘지 않는다.\n",
    "\n",
    "출력\n",
    "조건에 따라 정렬하여 단어들을 출력한다. 단, 같은 단어가 여러 번 입력된 경우에는 한 번씩만 출력한다.\n",
    "\n",
    "예제 입력 1 \n",
    "13\n",
    "but\n",
    "i\n",
    "wont\n",
    "hesitate\n",
    "no\n",
    "more\n",
    "no\n",
    "more\n",
    "it\n",
    "cannot\n",
    "wait\n",
    "im\n",
    "yours\n",
    "예제 출력 1 \n",
    "i\n",
    "im\n",
    "it\n",
    "no\n",
    "but\n",
    "more\n",
    "wait\n",
    "wont\n",
    "yours\n",
    "cannot\n",
    "hesitate"
   ]
  },
  {
   "cell_type": "code",
   "execution_count": 39,
   "metadata": {},
   "outputs": [
    {
     "name": "stdout",
     "output_type": "stream",
     "text": [
      "13\n",
      "but\n",
      "i\n",
      "wont\n",
      "hesitate\n",
      "no\n",
      "more\n",
      "no\n",
      "more\n",
      "it\n",
      "cannot\n",
      "wait\n",
      "im\n",
      "yours\n",
      "['i', 'im', 'it', 'no', 'but', 'more', 'wait', 'wont', 'yours', 'cannot', 'hesitate']\n"
     ]
    }
   ],
   "source": [
    "n = int(input())\n",
    "arr = []\n",
    "for _ in range(n):\n",
    "    arr.append(input())\n",
    "    \n",
    "arr = sorted(set(arr), key=lambda x : (len(x), x))\n",
    "\n",
    "for i in arr:\n",
    "    print(i)"
   ]
  },
  {
   "cell_type": "code",
   "execution_count": null,
   "metadata": {},
   "outputs": [],
   "source": [
    "\n",
    "시간 제한\t메모리 제한\t제출\t정답\t맞은 사람\t정답 비율\n",
    "2 초\t128 MB\t51903\t26764\t22888\t52.497%\n",
    "문제\n",
    "그룹 단어란 단어에 존재하는 모든 문자에 대해서, 각 문자가 연속해서 나타나는 경우만을 말한다. 예를 들면, ccazzzzbb는 c, a, z, b가 모두 연속해서 나타나고, kin도 k, i, n이 연속해서 나타나기 때문에 그룹 단어이지만, aabbbccb는 b가 떨어져서 나타나기 때문에 그룹 단어가 아니다.\n",
    "\n",
    "단어 N개를 입력으로 받아 그룹 단어의 개수를 출력하는 프로그램을 작성하시오.\n",
    "\n",
    "입력\n",
    "첫째 줄에 단어의 개수 N이 들어온다. N은 100보다 작거나 같은 자연수이다. 둘째 줄부터 N개의 줄에 단어가 들어온다. 단어는 알파벳 소문자로만 되어있고 중복되지 않으며, 길이는 최대 100이다.\n",
    "\n",
    "출력\n",
    "첫째 줄에 그룹 단어의 개수를 출력한다.\n",
    "\n",
    "예제 입력 1 \n",
    "3\n",
    "happy\n",
    "new\n",
    "year\n",
    "예제 출력 1 \n",
    "3\n",
    "예제 입력 2 \n",
    "4\n",
    "aba\n",
    "abab\n",
    "abcabc\n",
    "a\n",
    "예제 출력 2 \n",
    "1"
   ]
  },
  {
   "cell_type": "code",
   "execution_count": 42,
   "metadata": {},
   "outputs": [
    {
     "name": "stdout",
     "output_type": "stream",
     "text": [
      "4\n",
      "aba\n",
      "abab\n",
      "abcabc\n",
      "a\n",
      "1\n"
     ]
    }
   ],
   "source": [
    "def is_word(s):\n",
    "    check =[]\n",
    "    for i in s:\n",
    "        if (i in check) and (check[-1] != i ):\n",
    "            return False\n",
    "        elif (i in check) and (check[-1] == i) :\n",
    "            pass\n",
    "        else:\n",
    "            check.append(i)\n",
    "    return True\n",
    "\n",
    "n = int(input())\n",
    "count = 0\n",
    "for _ in range(n):\n",
    "    if is_word(input()):\n",
    "        count += 1\n",
    "\n",
    "print(count)"
   ]
  },
  {
   "cell_type": "code",
   "execution_count": null,
   "metadata": {},
   "outputs": [],
   "source": [
    "소트인사이드 분류\n",
    "시간 제한\t메모리 제한\t제출\t정답\t맞은 사람\t정답 비율\n",
    "2 초\t128 MB\t35063\t21213\t17948\t61.133%\n",
    "문제\n",
    "배열을 정렬하는 것은 쉽다. 수가 주어지면, 그 수의 각 자리수를 내림차순으로 정렬해보자.\n",
    "\n",
    "입력\n",
    "첫째 줄에 정렬하고자하는 수 N이 주어진다. N은 1,000,000,000보다 작거나 같은 자연수이다.\n",
    "\n",
    "출력\n",
    "첫째 줄에 자리수를 내림차순으로 정렬한 수를 출력한다.\n",
    "\n",
    "예제 입력 1 \n",
    "2143\n",
    "예제 출력 1 \n",
    "4321"
   ]
  },
  {
   "cell_type": "code",
   "execution_count": 53,
   "metadata": {},
   "outputs": [
    {
     "name": "stdout",
     "output_type": "stream",
     "text": [
      "2143\n",
      "4321"
     ]
    }
   ],
   "source": [
    "arr = list(map(int, input()))\n",
    "\n",
    "arr.sort(reverse=True)\n",
    "\n",
    "for i in arr:\n",
    "    print(i, end='')"
   ]
  },
  {
   "cell_type": "code",
   "execution_count": null,
   "metadata": {},
   "outputs": [],
   "source": [
    "영화감독 숌 분류\n",
    "시간 제한\t메모리 제한\t제출\t정답\t맞은 사람\t정답 비율\n",
    "2 초\t128 MB\t32382\t14209\t11659\t44.392%\n",
    "문제\n",
    "666은 종말을 나타내는 숫자라고 한다. 따라서, 많은 블록버스터 영화에서는 666이 들어간 제목을 많이 사용한다. 영화감독 숌은 세상의 종말 이라는 시리즈 영화의 감독이다. 조지 루카스는 스타워즈를 만들 때, 스타워즈 1, 스타워즈 2, 스타워즈 3, 스타워즈 4, 스타워즈 5, 스타워즈 6과 같이 이름을 지었고, 피터 잭슨은 반지의 제왕을 만들 때, 반지의 제왕 1, 반지의 제왕 2, 반지의 제왕 3과 같이 영화 제목을 지었다.\n",
    "\n",
    "하지만 숌은 자신이 조지 루카스와 피터 잭슨을 뛰어넘는다는 것을 보여주기 위해서 영화 제목을 좀 다르게 만들기로 했다.\n",
    "\n",
    "종말의 숫자란 어떤 수에 6이 적어도 3개이상 연속으로 들어가는 수를 말한다. 제일 작은 종말의 숫자는 666이고, 그 다음으로 큰 수는 1666, 2666, 3666, .... 과 같다.\n",
    "\n",
    "따라서, 숌은 첫 번째 영화의 제목은 세상의 종말 666, 두 번째 영화의 제목은 세상의 종말 1666 이렇게 이름을 지을 것이다. 일반화해서 생각하면, N번째 영화의 제목은 세상의 종말 (N번째로 작은 종말의 숫자) 와 같다.\n",
    "\n",
    "숌이 만든 N번째 영화의 제목에 들어간 숫자를 출력하는 프로그램을 작성하시오. 숌은 이 시리즈를 항상 차례대로 만들고, 다른 영화는 만들지 않는다.\n",
    "\n",
    "입력\n",
    "첫째 줄에 숫자 N이 주어진다. N은 10,000보다 작거나 같은 자연수이다.\n",
    "\n",
    "출력\n",
    "첫째 줄에 N번째 영화의 제목에 들어간 수를 출력한다.\n",
    "\n",
    "예제 입력 1 \n",
    "2\n",
    "예제 출력 1 \n",
    "1666"
   ]
  },
  {
   "cell_type": "code",
   "execution_count": 60,
   "metadata": {},
   "outputs": [
    {
     "name": "stdout",
     "output_type": "stream",
     "text": [
      "1\n",
      "666\n"
     ]
    }
   ],
   "source": [
    "print((str(int(input())-1)+'666').lstrip('0'))"
   ]
  },
  {
   "cell_type": "code",
   "execution_count": null,
   "metadata": {},
   "outputs": [],
   "source": [
    "n = int(input())\n",
    "cnt = 0\n",
    "six_n = 666\n",
    "while True:\n",
    "    if '666' in str(six_n):\n",
    "        cnt += 1\n",
    "    if cnt == n:\n",
    "        print(six_n)\n",
    "        break\n",
    "    six_n += 1"
   ]
  },
  {
   "cell_type": "code",
   "execution_count": null,
   "metadata": {},
   "outputs": [],
   "source": [
    "방 번호 분류\n",
    "시간 제한\t메모리 제한\t제출\t정답\t맞은 사람\t정답 비율\n",
    "2 초\t128 MB\t33540\t12675\t11022\t38.981%\n",
    "문제\n",
    "다솜이는 은진이의 옆집에 새로 이사왔다. 다솜이는 자기 방 번호를 예쁜 플라스틱 숫자로 문에 붙이려고 한다.\n",
    "\n",
    "다솜이의 옆집에서는 플라스틱 숫자를 한 세트로 판다. 한 세트에는 0번부터 9번까지 숫자가 하나씩 들어있다. 다솜이의 방 번호가 주어졌을 때, 필요한 세트의 개수의 최솟값을 출력하시오. (6은 9를 뒤집어서 이용할 수 있고, 9는 6을 뒤집어서 이용할 수 있다.)\n",
    "\n",
    "입력\n",
    "첫째 줄에 다솜이의 방 번호 N이 주어진다. N은 1,000,000보다 작거나 같은 자연수 또는 0이다.\n",
    "\n",
    "출력\n",
    "첫째 줄에 필요한 세트의 개수를 출력한다.\n",
    "\n",
    "예제 입력 1 \n",
    "9999\n",
    "예제 출력 1 \n",
    "2"
   ]
  },
  {
   "cell_type": "code",
   "execution_count": 78,
   "metadata": {},
   "outputs": [
    {
     "name": "stdout",
     "output_type": "stream",
     "text": [
      "110\n",
      "2\n"
     ]
    }
   ],
   "source": [
    "import math\n",
    "dic = {}\n",
    "\n",
    "for i in list(map(int, input())):\n",
    "    if i == 6 or i == 9:\n",
    "        if 'k' in dic:\n",
    "            dic['k'] += 1\n",
    "        else:\n",
    "            dic['k'] = 1\n",
    "    elif i not in dic:\n",
    "        dic[i] = 1\n",
    "    else:\n",
    "        dic[i] += 1\n",
    "\n",
    "if 'k' in dic:\n",
    "    dic['k'] = math.ceil(dic['k']/2)\n",
    "print(max(dic.values()))"
   ]
  },
  {
   "cell_type": "code",
   "execution_count": null,
   "metadata": {},
   "outputs": [],
   "source": [
    "최소공배수 분류\n",
    "시간 제한\t메모리 제한\t제출\t정답\t맞은 사람\t정답 비율\n",
    "1 초\t128 MB\t26767\t15527\t13209\t59.902%\n",
    "문제\n",
    "두 자연수 A와 B에 대해서, A의 배수이면서 B의 배수인 자연수를 A와 B의 공배수라고 한다. 이런 공배수 중에서 가장 작은 수를 최소공배수라고 한다. 예를 들어, 6과 15의 공배수는 30, 60, 90등이 있으며, 최소 공배수는 30이다.\n",
    "\n",
    "두 자연수 A와 B가 주어졌을 때, A와 B의 최소공배수를 구하는 프로그램을 작성하시오.\n",
    "\n",
    "입력\n",
    "첫째 줄에 테스트 케이스의 개수 T(1 ≤ T ≤ 1,000)가 주어진다. 둘째 줄부터 T개의 줄에 걸쳐서 A와 B가 주어진다. (1 ≤ A, B ≤ 45,000)\n",
    "\n",
    "출력\n",
    "첫째 줄부터 T개의 줄에 A와 B의 최소공배수를 입력받은 순서대로 한 줄에 하나씩 출력한다.\n",
    "\n",
    "예제 입력 1 \n",
    "3\n",
    "1 45000\n",
    "6 10\n",
    "13 17\n",
    "예제 출력 1 \n",
    "45000\n",
    "30\n",
    "221"
   ]
  },
  {
   "cell_type": "code",
   "execution_count": 79,
   "metadata": {},
   "outputs": [
    {
     "name": "stdout",
     "output_type": "stream",
     "text": [
      "3\n",
      "1 45000\n",
      "6 10\n",
      "13 17\n",
      "45000\n",
      "30\n",
      "221\n"
     ]
    }
   ],
   "source": [
    "from math import gcd\n",
    "\n",
    "def lcd(x, y):\n",
    "    return x * y // gcd(x,y)\n",
    "\n",
    "n = int(input())\n",
    "answer = []\n",
    "\n",
    "for _ in range(n):\n",
    "    a, b = map(int, input().split())\n",
    "    answer.append(lcd(a,b))\n",
    "    \n",
    "for i in answer:\n",
    "    print(i)"
   ]
  },
  {
   "cell_type": "code",
   "execution_count": null,
   "metadata": {},
   "outputs": [],
   "source": [
    "소수 출처분류\n",
    "시간 제한\t메모리 제한\t제출\t정답\t맞은 사람\t정답 비율\n",
    "1 초\t128 MB\t49254\t18902\t16391\t39.496%\n",
    "문제\n",
    "자연수 M과 N이 주어질 때 M이상 N이하의 자연수 중 소수인 것을 모두 골라 이들 소수의 합과 최솟값을 찾는 프로그램을 작성하시오.\n",
    "\n",
    "예를 들어 M=60, N=100인 경우 60이상 100이하의 자연수 중 소수는 61, 67, 71, 73, 79, 83, 89, 97 총 8개가 있으므로, 이들 소수의 합은 620이고, 최솟값은 61이 된다.\n",
    "\n",
    "입력\n",
    "입력의 첫째 줄에 M이, 둘째 줄에 N이 주어진다.\n",
    "\n",
    "M과 N은 10,000이하의 자연수이며, M은 N보다 작거나 같다.\n",
    "\n",
    "출력\n",
    "M이상 N이하의 자연수 중 소수인 것을 모두 찾아 첫째 줄에 그 합을, 둘째 줄에 그 중 최솟값을 출력한다. \n",
    "\n",
    "단, M이상 N이하의 자연수 중 소수가 없을 경우는 첫째 줄에 -1을 출력한다."
   ]
  },
  {
   "cell_type": "code",
   "execution_count": 2,
   "metadata": {},
   "outputs": [
    {
     "name": "stdout",
     "output_type": "stream",
     "text": [
      "64\n",
      "65\n",
      "-1\n"
     ]
    }
   ],
   "source": [
    "import sys, math, itertools\n",
    "\n",
    "def isPrime(x):\n",
    "    if x == 0: # 1은 소수가 아님\n",
    "        return False\n",
    "    if x == 1: # 1은 소수가 아님\n",
    "        return False    \n",
    "    for i in range(2, int(math.sqrt(x))+1):\n",
    "        if x % i == 0:\n",
    "            return False\n",
    "    return True\n",
    "\n",
    "\n",
    "a = int(input())\n",
    "b = int(input())\n",
    "answer = []\n",
    "\n",
    "for i in range(a,b+1):\n",
    "    if isPrime(i):\n",
    "        answer.append(i)\n",
    "if len(answer) == 0:\n",
    "    print(-1)\n",
    "else:\n",
    "    print(sum(answer))\n",
    "    print(min(answer))"
   ]
  },
  {
   "cell_type": "code",
   "execution_count": null,
   "metadata": {},
   "outputs": [],
   "source": [
    "최대공약수와 최소공배수 출처분류\n",
    "시간 제한\t메모리 제한\t제출\t정답\t맞은 사람\t정답 비율\n",
    "1 초\t128 MB\t38742\t23032\t18851\t62.262%\n",
    "문제\n",
    "두 개의 자연수를 입력받아 최대 공약수와 최소 공배수를 출력하는 프로그램을 작성하시오.\n",
    "\n",
    "입력\n",
    "첫째 줄에는 두 개의 자연수가 주어진다. 이 둘은 10,000이하의 자연수이며 사이에 한 칸의 공백이 주어진다.\n",
    "\n",
    "출력\n",
    "첫째 줄에는 입력으로 주어진 두 수의 최대공약수를, 둘째 줄에는 입력으로 주어진 두 수의 최소 공배수를 출력한다.\n",
    "\n",
    "예제 입력 1 \n",
    "24 18\n",
    "예제 출력 1 \n",
    "6\n",
    "72"
   ]
  },
  {
   "cell_type": "code",
   "execution_count": 4,
   "metadata": {},
   "outputs": [
    {
     "name": "stdout",
     "output_type": "stream",
     "text": [
      "24 18\n",
      "6\n",
      "72\n"
     ]
    }
   ],
   "source": [
    "from math import gcd\n",
    "\n",
    "a, b = map(int, input().split())\n",
    "\n",
    "print(gcd(a,b))\n",
    "print(a*b//gcd(a,b))"
   ]
  },
  {
   "cell_type": "code",
   "execution_count": null,
   "metadata": {},
   "outputs": [],
   "source": [
    "문제\n",
    "예전에는 운영체제에서 크로아티아 알파벳을 입력할 수가 없었다. 따라서, 다음과 같이 크로아티아 알파벳을 변경해서 입력했다.\n",
    "\n",
    "크로아티아 알파벳\t변경\n",
    "č\tc=\n",
    "ć\tc-\n",
    "dž\tdz=\n",
    "đ\td-\n",
    "lj\tlj\n",
    "nj\tnj\n",
    "š\ts=\n",
    "ž\tz=\n",
    "예를 들어, ljes=njak은 크로아티아 알파벳 6개(lj, e, š, nj, a, k)로 이루어져 있다. 단어가 주어졌을 때, 몇 개의 크로아티아 알파벳으로 이루어져 있는지 출력한다.\n",
    "\n",
    "dž는 무조건 하나의 알파벳으로 쓰이고, d와 ž가 분리된 것으로 보지 않는다. lj와 nj도 마찬가지이다. 위 목록에 없는 알파벳은 한 글자씩 센다.\n",
    "\n",
    "입력\n",
    "첫째 줄에 최대 100글자의 단어가 주어진다. 알파벳 소문자와 '-', '='로만 이루어져 있다.\n",
    "\n",
    "단어는 크로아티아 알파벳으로 이루어져 있다. 문제 설명의 표에 나와있는 알파벳은 변경된 형태로 입력된다.\n",
    "\n",
    "출력\n",
    "입력으로 주어진 단어가 몇 개의 크로아티아 알파벳으로 이루어져 있는지 출력한다.\n",
    "\n",
    "예제 입력 1 \n",
    "ljes=njak\n",
    "예제 출력 1 \n",
    "6\n",
    "예제 입력 2 \n",
    "ddz=z=\n",
    "예제 출력 2 \n",
    "3\n",
    "예제 입력 3 \n",
    "nljj\n",
    "예제 출력 3 \n",
    "3\n",
    "예제 입력 4 \n",
    "c=c=\n",
    "예제 출력 4 \n",
    "2"
   ]
  },
  {
   "cell_type": "code",
   "execution_count": null,
   "metadata": {},
   "outputs": [],
   "source": [
    "text = input()\n",
    "\n",
    "dic = {}\n",
    "\n",
    "while text:\n",
    "    if 'c=' in text:\n",
    "        if 'c=' in dic:\n",
    "            dic += 1\n",
    "        else:\n",
    "            dic = 1\n",
    "        text.replace('c=','')\n",
    "    elif 'c-' in text:\n",
    "    elif 'dz=' in text:\n",
    "    elif 'd-' in text:\n",
    "    elif 'lj' in text:\n",
    "    elif 'nj' in text:\n",
    "    elif 's=' in text:\n",
    "    elif 'z=' in text:\n",
    "    else:\n",
    "    "
   ]
  },
  {
   "cell_type": "code",
   "execution_count": 7,
   "metadata": {},
   "outputs": [
    {
     "name": "stdout",
     "output_type": "stream",
     "text": [
      "gl\n"
     ]
    }
   ],
   "source": [
    "n = 'gooloo'\n",
    "n = n.replace('oo','')\n",
    "print(n)"
   ]
  },
  {
   "cell_type": "code",
   "execution_count": null,
   "metadata": {},
   "outputs": [],
   "source": [
    "croatia = ['c=', 'c-', 'dz=', 'd-', 'lj', 'nj', 's=', 'z=']\n",
    "word = input()\n",
    "\n",
    "for i in croatia :\n",
    "    word = word.replace(i, '*')  # input 변수와 동일한 이름의 변수\n",
    "print(len(word))"
   ]
  },
  {
   "cell_type": "code",
   "execution_count": null,
   "metadata": {},
   "outputs": [],
   "source": [
    "상했겠지만, 여러분은 이제 위의 19번 문제 세 번째 줄에 등장하는 수 '1000'을 임의의 자연수로 바꾸었을 때 그에 해당하는 답을 출력하는 프로그램을 작성해야 한다.\n",
    "\n",
    "입력\n",
    "첫 번째 줄에 자연수 n (1 ≤ n ≤ 109)이 주어진다.\n",
    "\n",
    "출력\n",
    "첫 번째 줄에 19번 문제 세 번째 줄에 등장하는 수 '1000'을 자연수 n으로 바꾸었을 때 그에 해당하는 답의 번호를 출력한다. 즉, 1 이상 5 이하의 자연수 중 하나를 출력해야 한다.\n",
    "\n",
    "예제 입력 1 \n",
    "3\n",
    "예제 출력 1 \n",
    "3\n",
    "예제 입력 2 \n",
    "1000\n",
    "예제 출력 2 \n",
    "2"
   ]
  },
  {
   "cell_type": "code",
   "execution_count": 9,
   "metadata": {},
   "outputs": [
    {
     "name": "stdout",
     "output_type": "stream",
     "text": [
      "1000\n",
      "2\n"
     ]
    }
   ],
   "source": [
    "n = int(input())\n",
    "\n",
    "k = (n -1)%8\n",
    "\n",
    "if k == 0:\n",
    "    print(1)\n",
    "elif k == 1 or k==7:\n",
    "    print(2)\n",
    "    \n",
    "elif k == 2 or k == 6:\n",
    "    print(3)\n",
    "\n",
    "elif k == 3 or k == 5:\n",
    "    print(4)\n",
    "    \n",
    "else:\n",
    "    print(5)\n",
    "    "
   ]
  },
  {
   "cell_type": "code",
   "execution_count": null,
   "metadata": {},
   "outputs": [],
   "source": [
    "와글와글 숭고한 출처분류\n",
    "시간 제한\t메모리 제한\t제출\t정답\t맞은 사람\t정답 비율\n",
    "1 초\t512 MB\t2051\t1451\t1381\t72.115%\n",
    "문제\n",
    "숭고한 알고리즘 캠프가 다가오고 있고 방학이 되어서까지도 각 대학들의 협업은 계속되고 있다. 그럼에도 불구하고 운영진들과 강사진들이 각자의 일정 때문에 바빠 계획에 차질이 조금씩 생기고 있다. 숭고한 알고리즘 캠프의 대표인 창호는 효율적인 일처리를 위해 엄정한 평가를 내리기로 하였다.\n",
    "\n",
    "창호는 숭고한 알고리즘 캠프의 구성원인 숭실대학교(Soongsil University), 고려대학교(Korea University), 한양대학교(Hanyang University)의 참여도를 수치화하였다. 창호가 보기에 세 대학교의 참여도의 합이 100 이상이면 일처리가 잘 되고 있기에 안심할 수 있지만, 100 미만이면 창호는 참여도가 가장 낮은 대학의 동아리에게 무언의 압박을 넣을 예정이다. 숭고한 알고리즘 캠프의 성공을 빌며 창호의 고민을 해결해주자.\n",
    "\n",
    "입력\n",
    "첫 번째 줄에 숭실대학교의 참여도, 고려대학교의 참여도, 한양대학교의 참여도를 의미하는 세 자연수 S, K, H가 공백으로 구분되어 주어진다. (0 ≤ S, K, H ≤ 100)\n",
    "\n",
    "세 대학의 참여도는 모두 다르다.\n",
    "\n",
    "출력\n",
    "첫 번째 줄에 일처리가 잘 되고 있어 무언의 압박이 필요가 없으면 (따옴표를 제외하고) “OK”를 출력한다.\n",
    "\n",
    "그 외에는 첫 번째 줄에 무언의 압박이 필요한 동아리가 속한 대학의 영문 이름의 첫 단어를 출력한다. 영문 이름 표기는 지문에 나온 것을 따른다.\n",
    "\n",
    "예제 입력 1 \n",
    "31 41 59\n",
    "예제 출력 1 \n",
    "OK\n",
    "예제 입력 2 \n",
    "1 2 3\n",
    "예제 출력 2 \n",
    "Soongsil\n",
    "예제 입력 3 \n",
    "19 8 9\n",
    "예제 출력 3 \n",
    "Korea\n",
    "예제 입력 4 \n",
    "45 33 21\n",
    "예제 출력 4 \n",
    "Hanyang"
   ]
  },
  {
   "cell_type": "code",
   "execution_count": 10,
   "metadata": {},
   "outputs": [
    {
     "name": "stdout",
     "output_type": "stream",
     "text": [
      "19 8 9\n",
      "Hanyang\n"
     ]
    }
   ],
   "source": [
    "arr = list(map(int, input().split()))\n",
    "\n",
    "if sum(arr) >= 100:\n",
    "    print('OK')\n",
    "else:\n",
    "    if arr.index(min(arr)) == 0:\n",
    "        print('Soongsil')\n",
    "    elif arr.index(min(arr)) == 1:\n",
    "        print('Korea')\n",
    "    else:\n",
    "        print('Hanyang')\n",
    "        \n"
   ]
  },
  {
   "cell_type": "code",
   "execution_count": null,
   "metadata": {},
   "outputs": [],
   "source": [
    "문제\n",
    "우리는 사람의 덩치를 키와 몸무게, 이 두 개의 값으로 표현하여 그 등수를 매겨보려고 한다. 어떤 사람의 몸무게가 x kg이고 키가 y cm라면 이 사람의 덩치는 (x, y)로 표시된다. 두 사람 A 와 B의 덩치가 각각 (x, y), (p, q)라고 할 때 x > p 그리고 y > q 이라면 우리는 A의 덩치가 B의 덩치보다 \"더 크다\"고 말한다. 예를 들어 어떤 A, B 두 사람의 덩치가 각각 (56, 177), (45, 165) 라고 한다면 A의 덩치가 B보다 큰 셈이 된다. 그런데 서로 다른 덩치끼리 크기를 정할 수 없는 경우도 있다. 예를 들어 두 사람 C와 D의 덩치가 각각 (45, 181), (55, 173)이라면 몸무게는 D가 C보다 더 무겁고, 키는 C가 더 크므로, \"덩치\"로만 볼 때 C와 D는 누구도 상대방보다 더 크다고 말할 수 없다.\n",
    "\n",
    "N명의 집단에서 각 사람의 덩치 등수는 자신보다 더 \"큰 덩치\"의 사람의 수로 정해진다. 만일 자신보다 더 큰 덩치의 사람이 k명이라면 그 사람의 덩치 등수는 k+1이 된다. 이렇게 등수를 결정하면 같은 덩치 등수를 가진 사람은 여러 명도 가능하다. 아래는 5명으로 이루어진 집단에서 각 사람의 덩치와 그 등수가 표시된 표이다.\n",
    "\n",
    "이름\t(몸무게, 키)\t덩치 등수\n",
    "A\t(55, 185)\t2\n",
    "B\t(58, 183)\t2\n",
    "C\t(88, 186)\t1\n",
    "D\t(60, 175)\t2\n",
    "E\t(46, 155)\t5\n",
    "위 표에서 C보다 더 큰 덩치의 사람이 없으므로 C는 1등이 된다. 그리고 A, B, D 각각의 덩치보다 큰 사람은 C뿐이므로 이들은 모두 2등이 된다. 그리고 E보다 큰 덩치는 A, B, C, D 이렇게 4명이므로 E의 덩치는 5등이 된다. 위 경우에 3등과 4등은 존재하지 않는다. 여러분은 학생 N명의 몸무게와 키가 담긴 입력을 읽어서 각 사람의 덩치 등수를 계산하여 출력해야 한다.\n",
    "\n",
    "입력\n",
    "첫 줄에는 전체 사람의 수 N이 주어진다. 그리고 이어지는 N개의 줄에는 각 사람의 몸무게와 키를 나타내는 양의 정수 x와 y가 하나의 공백을 두고 각각 나타난다.\n",
    "\n",
    "출력\n",
    "여러분은 입력에 나열된 사람의 덩치 등수를 구해서 그 순서대로 첫 줄에 출력해야 한다. 단, 각 덩치 등수는 공백문자로 분리되어야 한다.\n",
    "\n",
    "제한\n",
    "2 ≤ N ≤ 50\n",
    "10 ≤ x, y ≤ 200\n",
    "예제 입력 1 \n",
    "5\n",
    "55 185\n",
    "58 183\n",
    "88 186\n",
    "60 175\n",
    "46 155\n",
    "예제 출력 1 \n",
    "2 2 1 2 5"
   ]
  },
  {
   "cell_type": "code",
   "execution_count": 7,
   "metadata": {},
   "outputs": [
    {
     "name": "stdout",
     "output_type": "stream",
     "text": [
      "5\n",
      "55 185\n",
      "58 183\n",
      "88 186\n",
      "60 175\n",
      "46 155\n"
     ]
    },
    {
     "ename": "SyntaxError",
     "evalue": "'return' outside function (<ipython-input-7-7d20b38d0ac8>, line 14)",
     "output_type": "error",
     "traceback": [
      "\u001b[1;36m  File \u001b[1;32m\"<ipython-input-7-7d20b38d0ac8>\"\u001b[1;36m, line \u001b[1;32m14\u001b[0m\n\u001b[1;33m    return\u001b[0m\n\u001b[1;37m    ^\u001b[0m\n\u001b[1;31mSyntaxError\u001b[0m\u001b[1;31m:\u001b[0m 'return' outside function\n"
     ]
    }
   ],
   "source": [
    "dic = {}\n",
    "\n",
    "n = int(input())\n",
    "\n",
    "for i in range(n):\n",
    "    dic[i] = (list(map(int, input().split())))\n",
    "\n",
    "arr = sorted(list(dic.values()), key = lambda x : (x[0], x[1]), reverse = True)\n",
    "\n",
    "while arr:\n",
    "    item = arr.pop(0)\n",
    "    if len(arr) == 0:\n",
    "        print() \n",
    "        break\n",
    "    \n",
    "    if item[0] > arr[0][0] and item[1] > arr[0][1]:\n",
    "        \n"
   ]
  },
  {
   "cell_type": "code",
   "execution_count": 5,
   "metadata": {},
   "outputs": [
    {
     "data": {
      "text/plain": [
       "1478"
      ]
     },
     "execution_count": 5,
     "metadata": {},
     "output_type": "execute_result"
    }
   ],
   "source": [
    "def solution(s):\n",
    "    tmp = s\n",
    "    tmp = tmp.replace('zero','0')\n",
    "    tmp = tmp.replace('one','1')\n",
    "    tmp = tmp.replace('two','2')\n",
    "    tmp = tmp.replace('three','3')\n",
    "    tmp = tmp.replace('four','4')\n",
    "    tmp = tmp.replace('five','5')\n",
    "    tmp = tmp.replace('six','6')\n",
    "    tmp = tmp.replace('seven','7')\n",
    "    tmp = tmp.replace('eight','8')\n",
    "    tmp = tmp.replace('nine','9')\n",
    "    \n",
    "    \n",
    "    \n",
    "    answer = int(tmp)\n",
    "    return answer\n",
    "\n",
    "solution(\"one4seveneight\")"
   ]
  },
  {
   "cell_type": "code",
   "execution_count": 4,
   "metadata": {},
   "outputs": [
    {
     "name": "stdout",
     "output_type": "stream",
     "text": [
      "14seveneight\n"
     ]
    }
   ],
   "source": [
    "print(\"one4seveneight\".replace('one', '1'))"
   ]
  },
  {
   "cell_type": "code",
   "execution_count": 117,
   "metadata": {},
   "outputs": [],
   "source": [
    "import math\n",
    "\n",
    "def calc(pArr, xArr):\n",
    "    parr = pArr\n",
    "    xarr = xArr\n",
    "    \n",
    "    while len(parr) > 0:\n",
    "        p = parr.pop(0)\n",
    "        \n",
    "        if len(parr) < 1:\n",
    "            return 1\n",
    "        \n",
    "        for i in parr:\n",
    "            if (abs(p[0]-i[0]) + abs(p[1]-i[1]) <= 2):\n",
    "                if p[0] != i[0] and p[1] != i[1]:\n",
    "                    if not([p[0], i[1]] in xarr and [i[0], p[1]] in xarr):\n",
    "                        return 0\n",
    "                \n",
    "                elif p[0] == i[0]:\n",
    "                    if not([p[0], (p[1]+i[1])//2] in xarr):\n",
    "\n",
    "                        return 0\n",
    "                \n",
    "                elif p[1] == i[1]:\n",
    "                    if not([(p[0]+i[0])//2, p[1]] in xarr):\n",
    " \n",
    "                        return 0\n",
    "                    \n",
    "\n",
    "    return 1\n",
    "\n",
    "def solution(places):\n",
    "    answer = []\n",
    "    x = len\n",
    "    \n",
    "    \n",
    "    temp = places\n",
    "    p_position = []\n",
    "    x_position = []\n",
    "    \n",
    "    for item in temp:\n",
    "\n",
    "        for i in range(len(item)):\n",
    "            for j in range(len(item[i])):\n",
    "                if item[i][j] == 'P':\n",
    "                    \n",
    "                    p_position.append([i,j])\n",
    "     \n",
    "                if item[i][j] == 'X':\n",
    "                    x_position.append([i,j])\n",
    "        \n",
    "        \n",
    "        answer.append(calc(p_position, x_position))\n",
    "        \n",
    "        p_position = []\n",
    "        x_position = []\n",
    "        \n",
    "    return answer\n",
    "\n"
   ]
  },
  {
   "cell_type": "code",
   "execution_count": 118,
   "metadata": {},
   "outputs": [
    {
     "data": {
      "text/plain": [
       "[1, 0, 1, 1, 1]"
      ]
     },
     "execution_count": 118,
     "metadata": {},
     "output_type": "execute_result"
    }
   ],
   "source": [
    "solution([[\"POOOP\", \"OXXOX\", \"OPXPX\", \"OOXOX\", \"POXXP\"], [\"POOPX\", \"OXPXP\", \"PXXXO\", \"OXXXO\", \"OOOPP\"], [\"PXOPX\", \"OXOXP\", \"OXPXX\", \"OXXXP\", \"POOXX\"], [\"OOOXX\", \"XOOOX\", \"OOOXX\", \"OXOOX\", \"OOOOO\"], [\"PXPXP\", \"XPXPX\", \"PXPXP\", \"XPXPX\", \"PXPXP\"]])"
   ]
  },
  {
   "cell_type": "code",
   "execution_count": 229,
   "metadata": {},
   "outputs": [],
   "source": [
    "def solution(n, k, cmd):\n",
    "    \n",
    "    cStack = []\n",
    "    mList = [ i for i in range(n)]\n",
    "    idx = k\n",
    "    \n",
    "    for c in cmd:\n",
    "        if 'D' in c:\n",
    "            tmp = c.split(' ')\n",
    "            idx = idx + int(tmp[1])\n",
    "            \n",
    "        elif 'U' in c:\n",
    "            tmp = c.split(' ')\n",
    "            idx = idx - int(tmp[1])\n",
    "        \n",
    "        elif 'C' in c:\n",
    "            cStack.append(mList.pop(idx))\n",
    "            \n",
    "            if idx > len(mList)-1:\n",
    "                idx = len(mList)-1\n",
    "            \n",
    "        else:\n",
    "            temp = cStack.pop(-1)\n",
    "            mList.insert(temp, temp)\n",
    "            if temp <= idx:\n",
    "                idx += 1\n",
    "        \n",
    "    answer = ['O' for _ in range(n)]\n",
    "\n",
    "    for c in cStack:\n",
    "        answer[c] = 'X'\n",
    "        \n",
    "    return ''.join(answer)"
   ]
  },
  {
   "cell_type": "code",
   "execution_count": 230,
   "metadata": {},
   "outputs": [
    {
     "data": {
      "text/plain": [
       "'OOOOXOOO'"
      ]
     },
     "execution_count": 230,
     "metadata": {},
     "output_type": "execute_result"
    }
   ],
   "source": [
    "#%%timeit\n",
    "\n",
    "solution(8,2,[\"D 2\",\"C\",\"U 3\",\"C\",\"D 4\",\"C\",\"U 2\",\"Z\",\"Z\"])"
   ]
  },
  {
   "cell_type": "code",
   "execution_count": null,
   "metadata": {},
   "outputs": [],
   "source": [
    "\"\""
   ]
  },
  {
   "cell_type": "code",
   "execution_count": 232,
   "metadata": {},
   "outputs": [],
   "source": [
    "import heapq\n",
    "\n",
    "def dijkstra(graph, start):\n",
    "    \n",
    "    # start로부터 각 노드까지의 거리를 의미하는 리스트\n",
    "    distances = {node: float('inf') for node in graph}\n",
    "    distances[start] = 0\n",
    "    queue = []\n",
    "    \n",
    "    # 최소힙구조로 queue를 사용, 초기 값은 [시작 노드부터 \"시작노드\" 까지 거리, \"시작 노드\" ]\n",
    "    heapq.heappush(queue, [distances[start], start])\n",
    "\n",
    "    while queue:\n",
    "        # 큐의 최소 거리 값과, 값을 갖는 노드를 꺼냄  \n",
    "        current_distance, current_node = heapq.heappop(queue)\n",
    "        \n",
    "        # 기존에 저장되어 있는 최소 거리 값이 현재 거리 값보다 작다면, 현재 노드를 거쳐가는 경로는 판단하지 않아도 됨(이미 기존 값보다 크기 때문)\n",
    "        if distances[current_node] < current_distance:\n",
    "            continue\n",
    "\n",
    "        # 그래프 상에서 현재 비교할 노드가, 인접한 노드들과 노드들의 값을 대상으로 진행\n",
    "        for adjacent, weight in graph[current_node].items():\n",
    "            # 새로운 거리는 \n",
    "            distance = current_distance + weight\n",
    "            \n",
    "            if distance < distances[adjacent]:\n",
    "                distances[adjacent] = distance\n",
    "                heapq.heappush(queue, [distance, adjacent])\n",
    "                \n",
    "    return distances\n",
    "\n",
    "# mygraph = {\n",
    "#     'A': {'B': 8, 'C': 1, 'D': 2},\n",
    "#     'B': {},\n",
    "#     'C': {'B': 5, 'D': 2},\n",
    "#     'D': {'E': 3, 'F': 5},\n",
    "#     'E': {'F': 1},\n",
    "#     'F': {'A': 5}\n",
    "# }\n",
    "\n",
    "def solution(n, start, end, roads, traps):\n",
    "    answer = 0\n",
    "    mygraph = {}\n",
    "    \n",
    "    for i in range(n):\n",
    "        for j in roads:\n",
    "            if i == j[0]:\n",
    "                mygraph[str(i)].append({str(j[0][1]):j[2]})\n",
    "    \n",
    "    return answer\n",
    "\n"
   ]
  },
  {
   "cell_type": "code",
   "execution_count": 233,
   "metadata": {},
   "outputs": [
    {
     "ename": "TypeError",
     "evalue": "solution() missing 1 required positional argument: 'traps'",
     "output_type": "error",
     "traceback": [
      "\u001b[1;31m---------------------------------------------------------------------------\u001b[0m",
      "\u001b[1;31mTypeError\u001b[0m                                 Traceback (most recent call last)",
      "\u001b[1;32m<ipython-input-233-2060d34dd1b8>\u001b[0m in \u001b[0;36m<module>\u001b[1;34m\u001b[0m\n\u001b[1;32m----> 1\u001b[1;33m \u001b[0msolution\u001b[0m\u001b[1;33m(\u001b[0m\u001b[1;36m3\u001b[0m\u001b[1;33m,\u001b[0m \u001b[1;36m1\u001b[0m\u001b[1;33m,\u001b[0m \u001b[1;36m3\u001b[0m\u001b[1;33m,\u001b[0m \u001b[1;33m[\u001b[0m\u001b[1;33m[\u001b[0m\u001b[1;36m1\u001b[0m\u001b[1;33m,\u001b[0m \u001b[1;36m2\u001b[0m\u001b[1;33m,\u001b[0m \u001b[1;36m2\u001b[0m\u001b[1;33m]\u001b[0m\u001b[1;33m,\u001b[0m \u001b[1;33m[\u001b[0m\u001b[1;36m3\u001b[0m\u001b[1;33m,\u001b[0m \u001b[1;36m2\u001b[0m\u001b[1;33m,\u001b[0m \u001b[1;36m3\u001b[0m\u001b[1;33m]\u001b[0m\u001b[1;33m]\u001b[0m\u001b[1;33m)\u001b[0m\u001b[1;33m\u001b[0m\u001b[1;33m\u001b[0m\u001b[0m\n\u001b[0m",
      "\u001b[1;31mTypeError\u001b[0m: solution() missing 1 required positional argument: 'traps'"
     ]
    }
   ],
   "source": [
    "solution(3, 1, 3, [[1, 2, 2], [3, 2, 3]])"
   ]
  }
 ],
 "metadata": {
  "kernelspec": {
   "display_name": "Python 3",
   "language": "python",
   "name": "python3"
  },
  "language_info": {
   "codemirror_mode": {
    "name": "ipython",
    "version": 3
   },
   "file_extension": ".py",
   "mimetype": "text/x-python",
   "name": "python",
   "nbconvert_exporter": "python",
   "pygments_lexer": "ipython3",
   "version": "3.7.6"
  }
 },
 "nbformat": 4,
 "nbformat_minor": 4
}
